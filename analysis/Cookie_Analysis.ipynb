{
  "nbformat": 4,
  "nbformat_minor": 0,
  "metadata": {
    "colab": {
      "name": "Cookie-Analysis.ipynb",
      "provenance": [],
      "collapsed_sections": []
    },
    "kernelspec": {
      "name": "python3",
      "display_name": "Python 3"
    },
    "widgets": {
      "application/vnd.jupyter.widget-state+json": {
        "e818b4a1f991449482abc949e341fb8b": {
          "model_module": "@jupyter-widgets/controls",
          "model_name": "HBoxModel",
          "model_module_version": "1.5.0",
          "state": {
            "_dom_classes": [],
            "_model_module": "@jupyter-widgets/controls",
            "_model_module_version": "1.5.0",
            "_model_name": "HBoxModel",
            "_view_count": null,
            "_view_module": "@jupyter-widgets/controls",
            "_view_module_version": "1.5.0",
            "_view_name": "HBoxView",
            "box_style": "",
            "children": [
              "IPY_MODEL_95eb3091cc0747ad852b424a3f1b49d4",
              "IPY_MODEL_e6e1d3161676470cbc00b872a370ed69",
              "IPY_MODEL_fb2e483cff8f47eabc4a6b2d7efd6834"
            ],
            "layout": "IPY_MODEL_9c05a609ba56422db6a4c49750a98431"
          }
        },
        "95eb3091cc0747ad852b424a3f1b49d4": {
          "model_module": "@jupyter-widgets/controls",
          "model_name": "HTMLModel",
          "model_module_version": "1.5.0",
          "state": {
            "_dom_classes": [],
            "_model_module": "@jupyter-widgets/controls",
            "_model_module_version": "1.5.0",
            "_model_name": "HTMLModel",
            "_view_count": null,
            "_view_module": "@jupyter-widgets/controls",
            "_view_module_version": "1.5.0",
            "_view_name": "HTMLView",
            "description": "",
            "description_tooltip": null,
            "layout": "IPY_MODEL_2a4d96c6e54c40af995cbf06b0680367",
            "placeholder": "​",
            "style": "IPY_MODEL_c175b728db584d7c97e6837710bfd4e0",
            "value": "Downloading: 100%"
          }
        },
        "e6e1d3161676470cbc00b872a370ed69": {
          "model_module": "@jupyter-widgets/controls",
          "model_name": "FloatProgressModel",
          "model_module_version": "1.5.0",
          "state": {
            "_dom_classes": [],
            "_model_module": "@jupyter-widgets/controls",
            "_model_module_version": "1.5.0",
            "_model_name": "FloatProgressModel",
            "_view_count": null,
            "_view_module": "@jupyter-widgets/controls",
            "_view_module_version": "1.5.0",
            "_view_name": "ProgressView",
            "bar_style": "success",
            "description": "",
            "description_tooltip": null,
            "layout": "IPY_MODEL_c73eac2012ea439d8cdad20048b7f62a",
            "max": 1229,
            "min": 0,
            "orientation": "horizontal",
            "style": "IPY_MODEL_9ef515e37977471c9c85aed59b6d060f",
            "value": 1229
          }
        },
        "fb2e483cff8f47eabc4a6b2d7efd6834": {
          "model_module": "@jupyter-widgets/controls",
          "model_name": "HTMLModel",
          "model_module_version": "1.5.0",
          "state": {
            "_dom_classes": [],
            "_model_module": "@jupyter-widgets/controls",
            "_model_module_version": "1.5.0",
            "_model_name": "HTMLModel",
            "_view_count": null,
            "_view_module": "@jupyter-widgets/controls",
            "_view_module_version": "1.5.0",
            "_view_name": "HTMLView",
            "description": "",
            "description_tooltip": null,
            "layout": "IPY_MODEL_5c845739e68f4845baa1d17c6a1a4056",
            "placeholder": "​",
            "style": "IPY_MODEL_dba5e45effa84a97bb6a89ccef98a0f0",
            "value": " 1.23k/1.23k [00:00&lt;00:00, 5.99kB/s]"
          }
        },
        "9c05a609ba56422db6a4c49750a98431": {
          "model_module": "@jupyter-widgets/base",
          "model_name": "LayoutModel",
          "model_module_version": "1.2.0",
          "state": {
            "_model_module": "@jupyter-widgets/base",
            "_model_module_version": "1.2.0",
            "_model_name": "LayoutModel",
            "_view_count": null,
            "_view_module": "@jupyter-widgets/base",
            "_view_module_version": "1.2.0",
            "_view_name": "LayoutView",
            "align_content": null,
            "align_items": null,
            "align_self": null,
            "border": null,
            "bottom": null,
            "display": null,
            "flex": null,
            "flex_flow": null,
            "grid_area": null,
            "grid_auto_columns": null,
            "grid_auto_flow": null,
            "grid_auto_rows": null,
            "grid_column": null,
            "grid_gap": null,
            "grid_row": null,
            "grid_template_areas": null,
            "grid_template_columns": null,
            "grid_template_rows": null,
            "height": null,
            "justify_content": null,
            "justify_items": null,
            "left": null,
            "margin": null,
            "max_height": null,
            "max_width": null,
            "min_height": null,
            "min_width": null,
            "object_fit": null,
            "object_position": null,
            "order": null,
            "overflow": null,
            "overflow_x": null,
            "overflow_y": null,
            "padding": null,
            "right": null,
            "top": null,
            "visibility": null,
            "width": null
          }
        },
        "2a4d96c6e54c40af995cbf06b0680367": {
          "model_module": "@jupyter-widgets/base",
          "model_name": "LayoutModel",
          "model_module_version": "1.2.0",
          "state": {
            "_model_module": "@jupyter-widgets/base",
            "_model_module_version": "1.2.0",
            "_model_name": "LayoutModel",
            "_view_count": null,
            "_view_module": "@jupyter-widgets/base",
            "_view_module_version": "1.2.0",
            "_view_name": "LayoutView",
            "align_content": null,
            "align_items": null,
            "align_self": null,
            "border": null,
            "bottom": null,
            "display": null,
            "flex": null,
            "flex_flow": null,
            "grid_area": null,
            "grid_auto_columns": null,
            "grid_auto_flow": null,
            "grid_auto_rows": null,
            "grid_column": null,
            "grid_gap": null,
            "grid_row": null,
            "grid_template_areas": null,
            "grid_template_columns": null,
            "grid_template_rows": null,
            "height": null,
            "justify_content": null,
            "justify_items": null,
            "left": null,
            "margin": null,
            "max_height": null,
            "max_width": null,
            "min_height": null,
            "min_width": null,
            "object_fit": null,
            "object_position": null,
            "order": null,
            "overflow": null,
            "overflow_x": null,
            "overflow_y": null,
            "padding": null,
            "right": null,
            "top": null,
            "visibility": null,
            "width": null
          }
        },
        "c175b728db584d7c97e6837710bfd4e0": {
          "model_module": "@jupyter-widgets/controls",
          "model_name": "DescriptionStyleModel",
          "model_module_version": "1.5.0",
          "state": {
            "_model_module": "@jupyter-widgets/controls",
            "_model_module_version": "1.5.0",
            "_model_name": "DescriptionStyleModel",
            "_view_count": null,
            "_view_module": "@jupyter-widgets/base",
            "_view_module_version": "1.2.0",
            "_view_name": "StyleView",
            "description_width": ""
          }
        },
        "c73eac2012ea439d8cdad20048b7f62a": {
          "model_module": "@jupyter-widgets/base",
          "model_name": "LayoutModel",
          "model_module_version": "1.2.0",
          "state": {
            "_model_module": "@jupyter-widgets/base",
            "_model_module_version": "1.2.0",
            "_model_name": "LayoutModel",
            "_view_count": null,
            "_view_module": "@jupyter-widgets/base",
            "_view_module_version": "1.2.0",
            "_view_name": "LayoutView",
            "align_content": null,
            "align_items": null,
            "align_self": null,
            "border": null,
            "bottom": null,
            "display": null,
            "flex": null,
            "flex_flow": null,
            "grid_area": null,
            "grid_auto_columns": null,
            "grid_auto_flow": null,
            "grid_auto_rows": null,
            "grid_column": null,
            "grid_gap": null,
            "grid_row": null,
            "grid_template_areas": null,
            "grid_template_columns": null,
            "grid_template_rows": null,
            "height": null,
            "justify_content": null,
            "justify_items": null,
            "left": null,
            "margin": null,
            "max_height": null,
            "max_width": null,
            "min_height": null,
            "min_width": null,
            "object_fit": null,
            "object_position": null,
            "order": null,
            "overflow": null,
            "overflow_x": null,
            "overflow_y": null,
            "padding": null,
            "right": null,
            "top": null,
            "visibility": null,
            "width": null
          }
        },
        "9ef515e37977471c9c85aed59b6d060f": {
          "model_module": "@jupyter-widgets/controls",
          "model_name": "ProgressStyleModel",
          "model_module_version": "1.5.0",
          "state": {
            "_model_module": "@jupyter-widgets/controls",
            "_model_module_version": "1.5.0",
            "_model_name": "ProgressStyleModel",
            "_view_count": null,
            "_view_module": "@jupyter-widgets/base",
            "_view_module_version": "1.2.0",
            "_view_name": "StyleView",
            "bar_color": null,
            "description_width": ""
          }
        },
        "5c845739e68f4845baa1d17c6a1a4056": {
          "model_module": "@jupyter-widgets/base",
          "model_name": "LayoutModel",
          "model_module_version": "1.2.0",
          "state": {
            "_model_module": "@jupyter-widgets/base",
            "_model_module_version": "1.2.0",
            "_model_name": "LayoutModel",
            "_view_count": null,
            "_view_module": "@jupyter-widgets/base",
            "_view_module_version": "1.2.0",
            "_view_name": "LayoutView",
            "align_content": null,
            "align_items": null,
            "align_self": null,
            "border": null,
            "bottom": null,
            "display": null,
            "flex": null,
            "flex_flow": null,
            "grid_area": null,
            "grid_auto_columns": null,
            "grid_auto_flow": null,
            "grid_auto_rows": null,
            "grid_column": null,
            "grid_gap": null,
            "grid_row": null,
            "grid_template_areas": null,
            "grid_template_columns": null,
            "grid_template_rows": null,
            "height": null,
            "justify_content": null,
            "justify_items": null,
            "left": null,
            "margin": null,
            "max_height": null,
            "max_width": null,
            "min_height": null,
            "min_width": null,
            "object_fit": null,
            "object_position": null,
            "order": null,
            "overflow": null,
            "overflow_x": null,
            "overflow_y": null,
            "padding": null,
            "right": null,
            "top": null,
            "visibility": null,
            "width": null
          }
        },
        "dba5e45effa84a97bb6a89ccef98a0f0": {
          "model_module": "@jupyter-widgets/controls",
          "model_name": "DescriptionStyleModel",
          "model_module_version": "1.5.0",
          "state": {
            "_model_module": "@jupyter-widgets/controls",
            "_model_module_version": "1.5.0",
            "_model_name": "DescriptionStyleModel",
            "_view_count": null,
            "_view_module": "@jupyter-widgets/base",
            "_view_module_version": "1.2.0",
            "_view_name": "StyleView",
            "description_width": ""
          }
        },
        "0a77e4384d144f078b0f724c3860135c": {
          "model_module": "@jupyter-widgets/controls",
          "model_name": "HBoxModel",
          "model_module_version": "1.5.0",
          "state": {
            "_dom_classes": [],
            "_model_module": "@jupyter-widgets/controls",
            "_model_module_version": "1.5.0",
            "_model_name": "HBoxModel",
            "_view_count": null,
            "_view_module": "@jupyter-widgets/controls",
            "_view_module_version": "1.5.0",
            "_view_name": "HBoxView",
            "box_style": "",
            "children": [
              "IPY_MODEL_0d38a70ba9a2474a9f7cf6956af1eb92",
              "IPY_MODEL_b333cb60aa6746df9aa50e06772502ee",
              "IPY_MODEL_4cf8feb67e344b6687faa2eb2af894ca"
            ],
            "layout": "IPY_MODEL_dfe00b94efc045879e834402b554bcce"
          }
        },
        "0d38a70ba9a2474a9f7cf6956af1eb92": {
          "model_module": "@jupyter-widgets/controls",
          "model_name": "HTMLModel",
          "model_module_version": "1.5.0",
          "state": {
            "_dom_classes": [],
            "_model_module": "@jupyter-widgets/controls",
            "_model_module_version": "1.5.0",
            "_model_name": "HTMLModel",
            "_view_count": null,
            "_view_module": "@jupyter-widgets/controls",
            "_view_module_version": "1.5.0",
            "_view_name": "HTMLView",
            "description": "",
            "description_tooltip": null,
            "layout": "IPY_MODEL_22a64f564c474a55ab7016d08d77557e",
            "placeholder": "​",
            "style": "IPY_MODEL_b08ede1a5a784804b2994035973259ca",
            "value": "Downloading: 100%"
          }
        },
        "b333cb60aa6746df9aa50e06772502ee": {
          "model_module": "@jupyter-widgets/controls",
          "model_name": "FloatProgressModel",
          "model_module_version": "1.5.0",
          "state": {
            "_dom_classes": [],
            "_model_module": "@jupyter-widgets/controls",
            "_model_module_version": "1.5.0",
            "_model_name": "FloatProgressModel",
            "_view_count": null,
            "_view_module": "@jupyter-widgets/controls",
            "_view_module_version": "1.5.0",
            "_view_name": "ProgressView",
            "bar_style": "success",
            "description": "",
            "description_tooltip": null,
            "layout": "IPY_MODEL_def71623407b4ee8a3d68f5e36a46a0a",
            "max": 5406,
            "min": 0,
            "orientation": "horizontal",
            "style": "IPY_MODEL_33a0f65d30af4ec0b3a7fb8306c7f659",
            "value": 5406
          }
        },
        "4cf8feb67e344b6687faa2eb2af894ca": {
          "model_module": "@jupyter-widgets/controls",
          "model_name": "HTMLModel",
          "model_module_version": "1.5.0",
          "state": {
            "_dom_classes": [],
            "_model_module": "@jupyter-widgets/controls",
            "_model_module_version": "1.5.0",
            "_model_name": "HTMLModel",
            "_view_count": null,
            "_view_module": "@jupyter-widgets/controls",
            "_view_module_version": "1.5.0",
            "_view_name": "HTMLView",
            "description": "",
            "description_tooltip": null,
            "layout": "IPY_MODEL_115fa8a44a4c4255938edb8bec7da270",
            "placeholder": "​",
            "style": "IPY_MODEL_a28b941ce848455da7f95f731d50201d",
            "value": " 5.41k/5.41k [00:00&lt;00:00, 9.41kB/s]"
          }
        },
        "dfe00b94efc045879e834402b554bcce": {
          "model_module": "@jupyter-widgets/base",
          "model_name": "LayoutModel",
          "model_module_version": "1.2.0",
          "state": {
            "_model_module": "@jupyter-widgets/base",
            "_model_module_version": "1.2.0",
            "_model_name": "LayoutModel",
            "_view_count": null,
            "_view_module": "@jupyter-widgets/base",
            "_view_module_version": "1.2.0",
            "_view_name": "LayoutView",
            "align_content": null,
            "align_items": null,
            "align_self": null,
            "border": null,
            "bottom": null,
            "display": null,
            "flex": null,
            "flex_flow": null,
            "grid_area": null,
            "grid_auto_columns": null,
            "grid_auto_flow": null,
            "grid_auto_rows": null,
            "grid_column": null,
            "grid_gap": null,
            "grid_row": null,
            "grid_template_areas": null,
            "grid_template_columns": null,
            "grid_template_rows": null,
            "height": null,
            "justify_content": null,
            "justify_items": null,
            "left": null,
            "margin": null,
            "max_height": null,
            "max_width": null,
            "min_height": null,
            "min_width": null,
            "object_fit": null,
            "object_position": null,
            "order": null,
            "overflow": null,
            "overflow_x": null,
            "overflow_y": null,
            "padding": null,
            "right": null,
            "top": null,
            "visibility": null,
            "width": null
          }
        },
        "22a64f564c474a55ab7016d08d77557e": {
          "model_module": "@jupyter-widgets/base",
          "model_name": "LayoutModel",
          "model_module_version": "1.2.0",
          "state": {
            "_model_module": "@jupyter-widgets/base",
            "_model_module_version": "1.2.0",
            "_model_name": "LayoutModel",
            "_view_count": null,
            "_view_module": "@jupyter-widgets/base",
            "_view_module_version": "1.2.0",
            "_view_name": "LayoutView",
            "align_content": null,
            "align_items": null,
            "align_self": null,
            "border": null,
            "bottom": null,
            "display": null,
            "flex": null,
            "flex_flow": null,
            "grid_area": null,
            "grid_auto_columns": null,
            "grid_auto_flow": null,
            "grid_auto_rows": null,
            "grid_column": null,
            "grid_gap": null,
            "grid_row": null,
            "grid_template_areas": null,
            "grid_template_columns": null,
            "grid_template_rows": null,
            "height": null,
            "justify_content": null,
            "justify_items": null,
            "left": null,
            "margin": null,
            "max_height": null,
            "max_width": null,
            "min_height": null,
            "min_width": null,
            "object_fit": null,
            "object_position": null,
            "order": null,
            "overflow": null,
            "overflow_x": null,
            "overflow_y": null,
            "padding": null,
            "right": null,
            "top": null,
            "visibility": null,
            "width": null
          }
        },
        "b08ede1a5a784804b2994035973259ca": {
          "model_module": "@jupyter-widgets/controls",
          "model_name": "DescriptionStyleModel",
          "model_module_version": "1.5.0",
          "state": {
            "_model_module": "@jupyter-widgets/controls",
            "_model_module_version": "1.5.0",
            "_model_name": "DescriptionStyleModel",
            "_view_count": null,
            "_view_module": "@jupyter-widgets/base",
            "_view_module_version": "1.2.0",
            "_view_name": "StyleView",
            "description_width": ""
          }
        },
        "def71623407b4ee8a3d68f5e36a46a0a": {
          "model_module": "@jupyter-widgets/base",
          "model_name": "LayoutModel",
          "model_module_version": "1.2.0",
          "state": {
            "_model_module": "@jupyter-widgets/base",
            "_model_module_version": "1.2.0",
            "_model_name": "LayoutModel",
            "_view_count": null,
            "_view_module": "@jupyter-widgets/base",
            "_view_module_version": "1.2.0",
            "_view_name": "LayoutView",
            "align_content": null,
            "align_items": null,
            "align_self": null,
            "border": null,
            "bottom": null,
            "display": null,
            "flex": null,
            "flex_flow": null,
            "grid_area": null,
            "grid_auto_columns": null,
            "grid_auto_flow": null,
            "grid_auto_rows": null,
            "grid_column": null,
            "grid_gap": null,
            "grid_row": null,
            "grid_template_areas": null,
            "grid_template_columns": null,
            "grid_template_rows": null,
            "height": null,
            "justify_content": null,
            "justify_items": null,
            "left": null,
            "margin": null,
            "max_height": null,
            "max_width": null,
            "min_height": null,
            "min_width": null,
            "object_fit": null,
            "object_position": null,
            "order": null,
            "overflow": null,
            "overflow_x": null,
            "overflow_y": null,
            "padding": null,
            "right": null,
            "top": null,
            "visibility": null,
            "width": null
          }
        },
        "33a0f65d30af4ec0b3a7fb8306c7f659": {
          "model_module": "@jupyter-widgets/controls",
          "model_name": "ProgressStyleModel",
          "model_module_version": "1.5.0",
          "state": {
            "_model_module": "@jupyter-widgets/controls",
            "_model_module_version": "1.5.0",
            "_model_name": "ProgressStyleModel",
            "_view_count": null,
            "_view_module": "@jupyter-widgets/base",
            "_view_module_version": "1.2.0",
            "_view_name": "StyleView",
            "bar_color": null,
            "description_width": ""
          }
        },
        "115fa8a44a4c4255938edb8bec7da270": {
          "model_module": "@jupyter-widgets/base",
          "model_name": "LayoutModel",
          "model_module_version": "1.2.0",
          "state": {
            "_model_module": "@jupyter-widgets/base",
            "_model_module_version": "1.2.0",
            "_model_name": "LayoutModel",
            "_view_count": null,
            "_view_module": "@jupyter-widgets/base",
            "_view_module_version": "1.2.0",
            "_view_name": "LayoutView",
            "align_content": null,
            "align_items": null,
            "align_self": null,
            "border": null,
            "bottom": null,
            "display": null,
            "flex": null,
            "flex_flow": null,
            "grid_area": null,
            "grid_auto_columns": null,
            "grid_auto_flow": null,
            "grid_auto_rows": null,
            "grid_column": null,
            "grid_gap": null,
            "grid_row": null,
            "grid_template_areas": null,
            "grid_template_columns": null,
            "grid_template_rows": null,
            "height": null,
            "justify_content": null,
            "justify_items": null,
            "left": null,
            "margin": null,
            "max_height": null,
            "max_width": null,
            "min_height": null,
            "min_width": null,
            "object_fit": null,
            "object_position": null,
            "order": null,
            "overflow": null,
            "overflow_x": null,
            "overflow_y": null,
            "padding": null,
            "right": null,
            "top": null,
            "visibility": null,
            "width": null
          }
        },
        "a28b941ce848455da7f95f731d50201d": {
          "model_module": "@jupyter-widgets/controls",
          "model_name": "DescriptionStyleModel",
          "model_module_version": "1.5.0",
          "state": {
            "_model_module": "@jupyter-widgets/controls",
            "_model_module_version": "1.5.0",
            "_model_name": "DescriptionStyleModel",
            "_view_count": null,
            "_view_module": "@jupyter-widgets/base",
            "_view_module_version": "1.2.0",
            "_view_name": "StyleView",
            "description_width": ""
          }
        },
        "df2ad994243e41e6991a15538b6dd5d6": {
          "model_module": "@jupyter-widgets/controls",
          "model_name": "HBoxModel",
          "model_module_version": "1.5.0",
          "state": {
            "_dom_classes": [],
            "_model_module": "@jupyter-widgets/controls",
            "_model_module_version": "1.5.0",
            "_model_name": "HBoxModel",
            "_view_count": null,
            "_view_module": "@jupyter-widgets/controls",
            "_view_module_version": "1.5.0",
            "_view_name": "HBoxView",
            "box_style": "",
            "children": [
              "IPY_MODEL_9229cbbf4ca54aec83055b16140ea7f2",
              "IPY_MODEL_7de91258d55644e285e59f8ad3f70ad0",
              "IPY_MODEL_2b4d3bc13d7e435f8423a672ccfc0832"
            ],
            "layout": "IPY_MODEL_4ef1ca7ee6a64d26abeb68cc311f4bbb"
          }
        },
        "9229cbbf4ca54aec83055b16140ea7f2": {
          "model_module": "@jupyter-widgets/controls",
          "model_name": "HTMLModel",
          "model_module_version": "1.5.0",
          "state": {
            "_dom_classes": [],
            "_model_module": "@jupyter-widgets/controls",
            "_model_module_version": "1.5.0",
            "_model_name": "HTMLModel",
            "_view_count": null,
            "_view_module": "@jupyter-widgets/controls",
            "_view_module_version": "1.5.0",
            "_view_name": "HTMLView",
            "description": "",
            "description_tooltip": null,
            "layout": "IPY_MODEL_a5355a8bdba646fa96e9436c93fd7d10",
            "placeholder": "​",
            "style": "IPY_MODEL_7d02d4325c77432c9abf0e95cd56a716",
            "value": "Downloading: 100%"
          }
        },
        "7de91258d55644e285e59f8ad3f70ad0": {
          "model_module": "@jupyter-widgets/controls",
          "model_name": "FloatProgressModel",
          "model_module_version": "1.5.0",
          "state": {
            "_dom_classes": [],
            "_model_module": "@jupyter-widgets/controls",
            "_model_module_version": "1.5.0",
            "_model_name": "FloatProgressModel",
            "_view_count": null,
            "_view_module": "@jupyter-widgets/controls",
            "_view_module_version": "1.5.0",
            "_view_name": "ProgressView",
            "bar_style": "success",
            "description": "",
            "description_tooltip": null,
            "layout": "IPY_MODEL_37790ed469e54aeebe76a4c54c51a492",
            "max": 670,
            "min": 0,
            "orientation": "horizontal",
            "style": "IPY_MODEL_ebc4d637e51742d1b8f41b7f36a29eae",
            "value": 670
          }
        },
        "2b4d3bc13d7e435f8423a672ccfc0832": {
          "model_module": "@jupyter-widgets/controls",
          "model_name": "HTMLModel",
          "model_module_version": "1.5.0",
          "state": {
            "_dom_classes": [],
            "_model_module": "@jupyter-widgets/controls",
            "_model_module_version": "1.5.0",
            "_model_name": "HTMLModel",
            "_view_count": null,
            "_view_module": "@jupyter-widgets/controls",
            "_view_module_version": "1.5.0",
            "_view_name": "HTMLView",
            "description": "",
            "description_tooltip": null,
            "layout": "IPY_MODEL_9d28ef4c4c4148b99af55de5fe3f3a8f",
            "placeholder": "​",
            "style": "IPY_MODEL_8a7b9f243f0e4db396ee73b33cdfbd43",
            "value": " 670/670 [00:00&lt;00:00, 12.6kB/s]"
          }
        },
        "4ef1ca7ee6a64d26abeb68cc311f4bbb": {
          "model_module": "@jupyter-widgets/base",
          "model_name": "LayoutModel",
          "model_module_version": "1.2.0",
          "state": {
            "_model_module": "@jupyter-widgets/base",
            "_model_module_version": "1.2.0",
            "_model_name": "LayoutModel",
            "_view_count": null,
            "_view_module": "@jupyter-widgets/base",
            "_view_module_version": "1.2.0",
            "_view_name": "LayoutView",
            "align_content": null,
            "align_items": null,
            "align_self": null,
            "border": null,
            "bottom": null,
            "display": null,
            "flex": null,
            "flex_flow": null,
            "grid_area": null,
            "grid_auto_columns": null,
            "grid_auto_flow": null,
            "grid_auto_rows": null,
            "grid_column": null,
            "grid_gap": null,
            "grid_row": null,
            "grid_template_areas": null,
            "grid_template_columns": null,
            "grid_template_rows": null,
            "height": null,
            "justify_content": null,
            "justify_items": null,
            "left": null,
            "margin": null,
            "max_height": null,
            "max_width": null,
            "min_height": null,
            "min_width": null,
            "object_fit": null,
            "object_position": null,
            "order": null,
            "overflow": null,
            "overflow_x": null,
            "overflow_y": null,
            "padding": null,
            "right": null,
            "top": null,
            "visibility": null,
            "width": null
          }
        },
        "a5355a8bdba646fa96e9436c93fd7d10": {
          "model_module": "@jupyter-widgets/base",
          "model_name": "LayoutModel",
          "model_module_version": "1.2.0",
          "state": {
            "_model_module": "@jupyter-widgets/base",
            "_model_module_version": "1.2.0",
            "_model_name": "LayoutModel",
            "_view_count": null,
            "_view_module": "@jupyter-widgets/base",
            "_view_module_version": "1.2.0",
            "_view_name": "LayoutView",
            "align_content": null,
            "align_items": null,
            "align_self": null,
            "border": null,
            "bottom": null,
            "display": null,
            "flex": null,
            "flex_flow": null,
            "grid_area": null,
            "grid_auto_columns": null,
            "grid_auto_flow": null,
            "grid_auto_rows": null,
            "grid_column": null,
            "grid_gap": null,
            "grid_row": null,
            "grid_template_areas": null,
            "grid_template_columns": null,
            "grid_template_rows": null,
            "height": null,
            "justify_content": null,
            "justify_items": null,
            "left": null,
            "margin": null,
            "max_height": null,
            "max_width": null,
            "min_height": null,
            "min_width": null,
            "object_fit": null,
            "object_position": null,
            "order": null,
            "overflow": null,
            "overflow_x": null,
            "overflow_y": null,
            "padding": null,
            "right": null,
            "top": null,
            "visibility": null,
            "width": null
          }
        },
        "7d02d4325c77432c9abf0e95cd56a716": {
          "model_module": "@jupyter-widgets/controls",
          "model_name": "DescriptionStyleModel",
          "model_module_version": "1.5.0",
          "state": {
            "_model_module": "@jupyter-widgets/controls",
            "_model_module_version": "1.5.0",
            "_model_name": "DescriptionStyleModel",
            "_view_count": null,
            "_view_module": "@jupyter-widgets/base",
            "_view_module_version": "1.2.0",
            "_view_name": "StyleView",
            "description_width": ""
          }
        },
        "37790ed469e54aeebe76a4c54c51a492": {
          "model_module": "@jupyter-widgets/base",
          "model_name": "LayoutModel",
          "model_module_version": "1.2.0",
          "state": {
            "_model_module": "@jupyter-widgets/base",
            "_model_module_version": "1.2.0",
            "_model_name": "LayoutModel",
            "_view_count": null,
            "_view_module": "@jupyter-widgets/base",
            "_view_module_version": "1.2.0",
            "_view_name": "LayoutView",
            "align_content": null,
            "align_items": null,
            "align_self": null,
            "border": null,
            "bottom": null,
            "display": null,
            "flex": null,
            "flex_flow": null,
            "grid_area": null,
            "grid_auto_columns": null,
            "grid_auto_flow": null,
            "grid_auto_rows": null,
            "grid_column": null,
            "grid_gap": null,
            "grid_row": null,
            "grid_template_areas": null,
            "grid_template_columns": null,
            "grid_template_rows": null,
            "height": null,
            "justify_content": null,
            "justify_items": null,
            "left": null,
            "margin": null,
            "max_height": null,
            "max_width": null,
            "min_height": null,
            "min_width": null,
            "object_fit": null,
            "object_position": null,
            "order": null,
            "overflow": null,
            "overflow_x": null,
            "overflow_y": null,
            "padding": null,
            "right": null,
            "top": null,
            "visibility": null,
            "width": null
          }
        },
        "ebc4d637e51742d1b8f41b7f36a29eae": {
          "model_module": "@jupyter-widgets/controls",
          "model_name": "ProgressStyleModel",
          "model_module_version": "1.5.0",
          "state": {
            "_model_module": "@jupyter-widgets/controls",
            "_model_module_version": "1.5.0",
            "_model_name": "ProgressStyleModel",
            "_view_count": null,
            "_view_module": "@jupyter-widgets/base",
            "_view_module_version": "1.2.0",
            "_view_name": "StyleView",
            "bar_color": null,
            "description_width": ""
          }
        },
        "9d28ef4c4c4148b99af55de5fe3f3a8f": {
          "model_module": "@jupyter-widgets/base",
          "model_name": "LayoutModel",
          "model_module_version": "1.2.0",
          "state": {
            "_model_module": "@jupyter-widgets/base",
            "_model_module_version": "1.2.0",
            "_model_name": "LayoutModel",
            "_view_count": null,
            "_view_module": "@jupyter-widgets/base",
            "_view_module_version": "1.2.0",
            "_view_name": "LayoutView",
            "align_content": null,
            "align_items": null,
            "align_self": null,
            "border": null,
            "bottom": null,
            "display": null,
            "flex": null,
            "flex_flow": null,
            "grid_area": null,
            "grid_auto_columns": null,
            "grid_auto_flow": null,
            "grid_auto_rows": null,
            "grid_column": null,
            "grid_gap": null,
            "grid_row": null,
            "grid_template_areas": null,
            "grid_template_columns": null,
            "grid_template_rows": null,
            "height": null,
            "justify_content": null,
            "justify_items": null,
            "left": null,
            "margin": null,
            "max_height": null,
            "max_width": null,
            "min_height": null,
            "min_width": null,
            "object_fit": null,
            "object_position": null,
            "order": null,
            "overflow": null,
            "overflow_x": null,
            "overflow_y": null,
            "padding": null,
            "right": null,
            "top": null,
            "visibility": null,
            "width": null
          }
        },
        "8a7b9f243f0e4db396ee73b33cdfbd43": {
          "model_module": "@jupyter-widgets/controls",
          "model_name": "DescriptionStyleModel",
          "model_module_version": "1.5.0",
          "state": {
            "_model_module": "@jupyter-widgets/controls",
            "_model_module_version": "1.5.0",
            "_model_name": "DescriptionStyleModel",
            "_view_count": null,
            "_view_module": "@jupyter-widgets/base",
            "_view_module_version": "1.2.0",
            "_view_name": "StyleView",
            "description_width": ""
          }
        },
        "ec19cab6347b4abd84f7ef90e5c5ca5d": {
          "model_module": "@jupyter-widgets/controls",
          "model_name": "HBoxModel",
          "model_module_version": "1.5.0",
          "state": {
            "_dom_classes": [],
            "_model_module": "@jupyter-widgets/controls",
            "_model_module_version": "1.5.0",
            "_model_name": "HBoxModel",
            "_view_count": null,
            "_view_module": "@jupyter-widgets/controls",
            "_view_module_version": "1.5.0",
            "_view_name": "HBoxView",
            "box_style": "",
            "children": [
              "IPY_MODEL_9cc8e6b65c1f4ad0ba30ac611e49dff1",
              "IPY_MODEL_22aeddef7bd047ccb190e9ce3d2c2d81",
              "IPY_MODEL_cd4bc54143064df5aae327c27deaf16a"
            ],
            "layout": "IPY_MODEL_1bca2679027242a3a77c03a92ffb4ae5"
          }
        },
        "9cc8e6b65c1f4ad0ba30ac611e49dff1": {
          "model_module": "@jupyter-widgets/controls",
          "model_name": "HTMLModel",
          "model_module_version": "1.5.0",
          "state": {
            "_dom_classes": [],
            "_model_module": "@jupyter-widgets/controls",
            "_model_module_version": "1.5.0",
            "_model_name": "HTMLModel",
            "_view_count": null,
            "_view_module": "@jupyter-widgets/controls",
            "_view_module_version": "1.5.0",
            "_view_name": "HTMLView",
            "description": "",
            "description_tooltip": null,
            "layout": "IPY_MODEL_b733d53701ef410bb022c33528c3d71d",
            "placeholder": "​",
            "style": "IPY_MODEL_049cc7c1019448279add6681678fd35c",
            "value": "Downloading: 100%"
          }
        },
        "22aeddef7bd047ccb190e9ce3d2c2d81": {
          "model_module": "@jupyter-widgets/controls",
          "model_name": "FloatProgressModel",
          "model_module_version": "1.5.0",
          "state": {
            "_dom_classes": [],
            "_model_module": "@jupyter-widgets/controls",
            "_model_module_version": "1.5.0",
            "_model_name": "FloatProgressModel",
            "_view_count": null,
            "_view_module": "@jupyter-widgets/controls",
            "_view_module_version": "1.5.0",
            "_view_name": "ProgressView",
            "bar_style": "success",
            "description": "",
            "description_tooltip": null,
            "layout": "IPY_MODEL_83b6c5fc59964863b72dbab0b69b46c3",
            "max": 116,
            "min": 0,
            "orientation": "horizontal",
            "style": "IPY_MODEL_b436853f7d754c59974c5db2a5f3e212",
            "value": 116
          }
        },
        "cd4bc54143064df5aae327c27deaf16a": {
          "model_module": "@jupyter-widgets/controls",
          "model_name": "HTMLModel",
          "model_module_version": "1.5.0",
          "state": {
            "_dom_classes": [],
            "_model_module": "@jupyter-widgets/controls",
            "_model_module_version": "1.5.0",
            "_model_name": "HTMLModel",
            "_view_count": null,
            "_view_module": "@jupyter-widgets/controls",
            "_view_module_version": "1.5.0",
            "_view_name": "HTMLView",
            "description": "",
            "description_tooltip": null,
            "layout": "IPY_MODEL_701c7d7e669d4291a5ea6c61b6d93703",
            "placeholder": "​",
            "style": "IPY_MODEL_cb9d7b304ca64b709b60153b6e715bba",
            "value": " 116/116 [00:00&lt;00:00, 2.93kB/s]"
          }
        },
        "1bca2679027242a3a77c03a92ffb4ae5": {
          "model_module": "@jupyter-widgets/base",
          "model_name": "LayoutModel",
          "model_module_version": "1.2.0",
          "state": {
            "_model_module": "@jupyter-widgets/base",
            "_model_module_version": "1.2.0",
            "_model_name": "LayoutModel",
            "_view_count": null,
            "_view_module": "@jupyter-widgets/base",
            "_view_module_version": "1.2.0",
            "_view_name": "LayoutView",
            "align_content": null,
            "align_items": null,
            "align_self": null,
            "border": null,
            "bottom": null,
            "display": null,
            "flex": null,
            "flex_flow": null,
            "grid_area": null,
            "grid_auto_columns": null,
            "grid_auto_flow": null,
            "grid_auto_rows": null,
            "grid_column": null,
            "grid_gap": null,
            "grid_row": null,
            "grid_template_areas": null,
            "grid_template_columns": null,
            "grid_template_rows": null,
            "height": null,
            "justify_content": null,
            "justify_items": null,
            "left": null,
            "margin": null,
            "max_height": null,
            "max_width": null,
            "min_height": null,
            "min_width": null,
            "object_fit": null,
            "object_position": null,
            "order": null,
            "overflow": null,
            "overflow_x": null,
            "overflow_y": null,
            "padding": null,
            "right": null,
            "top": null,
            "visibility": null,
            "width": null
          }
        },
        "b733d53701ef410bb022c33528c3d71d": {
          "model_module": "@jupyter-widgets/base",
          "model_name": "LayoutModel",
          "model_module_version": "1.2.0",
          "state": {
            "_model_module": "@jupyter-widgets/base",
            "_model_module_version": "1.2.0",
            "_model_name": "LayoutModel",
            "_view_count": null,
            "_view_module": "@jupyter-widgets/base",
            "_view_module_version": "1.2.0",
            "_view_name": "LayoutView",
            "align_content": null,
            "align_items": null,
            "align_self": null,
            "border": null,
            "bottom": null,
            "display": null,
            "flex": null,
            "flex_flow": null,
            "grid_area": null,
            "grid_auto_columns": null,
            "grid_auto_flow": null,
            "grid_auto_rows": null,
            "grid_column": null,
            "grid_gap": null,
            "grid_row": null,
            "grid_template_areas": null,
            "grid_template_columns": null,
            "grid_template_rows": null,
            "height": null,
            "justify_content": null,
            "justify_items": null,
            "left": null,
            "margin": null,
            "max_height": null,
            "max_width": null,
            "min_height": null,
            "min_width": null,
            "object_fit": null,
            "object_position": null,
            "order": null,
            "overflow": null,
            "overflow_x": null,
            "overflow_y": null,
            "padding": null,
            "right": null,
            "top": null,
            "visibility": null,
            "width": null
          }
        },
        "049cc7c1019448279add6681678fd35c": {
          "model_module": "@jupyter-widgets/controls",
          "model_name": "DescriptionStyleModel",
          "model_module_version": "1.5.0",
          "state": {
            "_model_module": "@jupyter-widgets/controls",
            "_model_module_version": "1.5.0",
            "_model_name": "DescriptionStyleModel",
            "_view_count": null,
            "_view_module": "@jupyter-widgets/base",
            "_view_module_version": "1.2.0",
            "_view_name": "StyleView",
            "description_width": ""
          }
        },
        "83b6c5fc59964863b72dbab0b69b46c3": {
          "model_module": "@jupyter-widgets/base",
          "model_name": "LayoutModel",
          "model_module_version": "1.2.0",
          "state": {
            "_model_module": "@jupyter-widgets/base",
            "_model_module_version": "1.2.0",
            "_model_name": "LayoutModel",
            "_view_count": null,
            "_view_module": "@jupyter-widgets/base",
            "_view_module_version": "1.2.0",
            "_view_name": "LayoutView",
            "align_content": null,
            "align_items": null,
            "align_self": null,
            "border": null,
            "bottom": null,
            "display": null,
            "flex": null,
            "flex_flow": null,
            "grid_area": null,
            "grid_auto_columns": null,
            "grid_auto_flow": null,
            "grid_auto_rows": null,
            "grid_column": null,
            "grid_gap": null,
            "grid_row": null,
            "grid_template_areas": null,
            "grid_template_columns": null,
            "grid_template_rows": null,
            "height": null,
            "justify_content": null,
            "justify_items": null,
            "left": null,
            "margin": null,
            "max_height": null,
            "max_width": null,
            "min_height": null,
            "min_width": null,
            "object_fit": null,
            "object_position": null,
            "order": null,
            "overflow": null,
            "overflow_x": null,
            "overflow_y": null,
            "padding": null,
            "right": null,
            "top": null,
            "visibility": null,
            "width": null
          }
        },
        "b436853f7d754c59974c5db2a5f3e212": {
          "model_module": "@jupyter-widgets/controls",
          "model_name": "ProgressStyleModel",
          "model_module_version": "1.5.0",
          "state": {
            "_model_module": "@jupyter-widgets/controls",
            "_model_module_version": "1.5.0",
            "_model_name": "ProgressStyleModel",
            "_view_count": null,
            "_view_module": "@jupyter-widgets/base",
            "_view_module_version": "1.2.0",
            "_view_name": "StyleView",
            "bar_color": null,
            "description_width": ""
          }
        },
        "701c7d7e669d4291a5ea6c61b6d93703": {
          "model_module": "@jupyter-widgets/base",
          "model_name": "LayoutModel",
          "model_module_version": "1.2.0",
          "state": {
            "_model_module": "@jupyter-widgets/base",
            "_model_module_version": "1.2.0",
            "_model_name": "LayoutModel",
            "_view_count": null,
            "_view_module": "@jupyter-widgets/base",
            "_view_module_version": "1.2.0",
            "_view_name": "LayoutView",
            "align_content": null,
            "align_items": null,
            "align_self": null,
            "border": null,
            "bottom": null,
            "display": null,
            "flex": null,
            "flex_flow": null,
            "grid_area": null,
            "grid_auto_columns": null,
            "grid_auto_flow": null,
            "grid_auto_rows": null,
            "grid_column": null,
            "grid_gap": null,
            "grid_row": null,
            "grid_template_areas": null,
            "grid_template_columns": null,
            "grid_template_rows": null,
            "height": null,
            "justify_content": null,
            "justify_items": null,
            "left": null,
            "margin": null,
            "max_height": null,
            "max_width": null,
            "min_height": null,
            "min_width": null,
            "object_fit": null,
            "object_position": null,
            "order": null,
            "overflow": null,
            "overflow_x": null,
            "overflow_y": null,
            "padding": null,
            "right": null,
            "top": null,
            "visibility": null,
            "width": null
          }
        },
        "cb9d7b304ca64b709b60153b6e715bba": {
          "model_module": "@jupyter-widgets/controls",
          "model_name": "DescriptionStyleModel",
          "model_module_version": "1.5.0",
          "state": {
            "_model_module": "@jupyter-widgets/controls",
            "_model_module_version": "1.5.0",
            "_model_name": "DescriptionStyleModel",
            "_view_count": null,
            "_view_module": "@jupyter-widgets/base",
            "_view_module_version": "1.2.0",
            "_view_name": "StyleView",
            "description_width": ""
          }
        },
        "d3c0a91b634649388a6cb903069c8b8d": {
          "model_module": "@jupyter-widgets/controls",
          "model_name": "HBoxModel",
          "model_module_version": "1.5.0",
          "state": {
            "_dom_classes": [],
            "_model_module": "@jupyter-widgets/controls",
            "_model_module_version": "1.5.0",
            "_model_name": "HBoxModel",
            "_view_count": null,
            "_view_module": "@jupyter-widgets/controls",
            "_view_module_version": "1.5.0",
            "_view_name": "HBoxView",
            "box_style": "",
            "children": [
              "IPY_MODEL_5154a9781db64f4f84d9fbb194c9940e",
              "IPY_MODEL_a3b425b84f49458c96760fc476b63c50",
              "IPY_MODEL_631552b1a1ad42e3af3c380dd2dc4ac6"
            ],
            "layout": "IPY_MODEL_bf0356c1b754411d91deb64c11e83f1c"
          }
        },
        "5154a9781db64f4f84d9fbb194c9940e": {
          "model_module": "@jupyter-widgets/controls",
          "model_name": "HTMLModel",
          "model_module_version": "1.5.0",
          "state": {
            "_dom_classes": [],
            "_model_module": "@jupyter-widgets/controls",
            "_model_module_version": "1.5.0",
            "_model_name": "HTMLModel",
            "_view_count": null,
            "_view_module": "@jupyter-widgets/controls",
            "_view_module_version": "1.5.0",
            "_view_name": "HTMLView",
            "description": "",
            "description_tooltip": null,
            "layout": "IPY_MODEL_7f5106bc3b2b4c3d876558928c75dafa",
            "placeholder": "​",
            "style": "IPY_MODEL_014bdb2b4a2f4b3a968264926ad8e5e8",
            "value": "Downloading: 100%"
          }
        },
        "a3b425b84f49458c96760fc476b63c50": {
          "model_module": "@jupyter-widgets/controls",
          "model_name": "FloatProgressModel",
          "model_module_version": "1.5.0",
          "state": {
            "_dom_classes": [],
            "_model_module": "@jupyter-widgets/controls",
            "_model_module_version": "1.5.0",
            "_model_name": "FloatProgressModel",
            "_view_count": null,
            "_view_module": "@jupyter-widgets/controls",
            "_view_module_version": "1.5.0",
            "_view_name": "ProgressView",
            "bar_style": "success",
            "description": "",
            "description_tooltip": null,
            "layout": "IPY_MODEL_aa9f4efb441b46fb984173eed1f058f4",
            "max": 229,
            "min": 0,
            "orientation": "horizontal",
            "style": "IPY_MODEL_eba823b2bb8345ed8182b97d1965814a",
            "value": 229
          }
        },
        "631552b1a1ad42e3af3c380dd2dc4ac6": {
          "model_module": "@jupyter-widgets/controls",
          "model_name": "HTMLModel",
          "model_module_version": "1.5.0",
          "state": {
            "_dom_classes": [],
            "_model_module": "@jupyter-widgets/controls",
            "_model_module_version": "1.5.0",
            "_model_name": "HTMLModel",
            "_view_count": null,
            "_view_module": "@jupyter-widgets/controls",
            "_view_module_version": "1.5.0",
            "_view_name": "HTMLView",
            "description": "",
            "description_tooltip": null,
            "layout": "IPY_MODEL_4117f9093dc04691a40ee124bc479b5c",
            "placeholder": "​",
            "style": "IPY_MODEL_23efa4af9e864749a51d2b29544e6013",
            "value": " 229/229 [00:00&lt;00:00, 4.03kB/s]"
          }
        },
        "bf0356c1b754411d91deb64c11e83f1c": {
          "model_module": "@jupyter-widgets/base",
          "model_name": "LayoutModel",
          "model_module_version": "1.2.0",
          "state": {
            "_model_module": "@jupyter-widgets/base",
            "_model_module_version": "1.2.0",
            "_model_name": "LayoutModel",
            "_view_count": null,
            "_view_module": "@jupyter-widgets/base",
            "_view_module_version": "1.2.0",
            "_view_name": "LayoutView",
            "align_content": null,
            "align_items": null,
            "align_self": null,
            "border": null,
            "bottom": null,
            "display": null,
            "flex": null,
            "flex_flow": null,
            "grid_area": null,
            "grid_auto_columns": null,
            "grid_auto_flow": null,
            "grid_auto_rows": null,
            "grid_column": null,
            "grid_gap": null,
            "grid_row": null,
            "grid_template_areas": null,
            "grid_template_columns": null,
            "grid_template_rows": null,
            "height": null,
            "justify_content": null,
            "justify_items": null,
            "left": null,
            "margin": null,
            "max_height": null,
            "max_width": null,
            "min_height": null,
            "min_width": null,
            "object_fit": null,
            "object_position": null,
            "order": null,
            "overflow": null,
            "overflow_x": null,
            "overflow_y": null,
            "padding": null,
            "right": null,
            "top": null,
            "visibility": null,
            "width": null
          }
        },
        "7f5106bc3b2b4c3d876558928c75dafa": {
          "model_module": "@jupyter-widgets/base",
          "model_name": "LayoutModel",
          "model_module_version": "1.2.0",
          "state": {
            "_model_module": "@jupyter-widgets/base",
            "_model_module_version": "1.2.0",
            "_model_name": "LayoutModel",
            "_view_count": null,
            "_view_module": "@jupyter-widgets/base",
            "_view_module_version": "1.2.0",
            "_view_name": "LayoutView",
            "align_content": null,
            "align_items": null,
            "align_self": null,
            "border": null,
            "bottom": null,
            "display": null,
            "flex": null,
            "flex_flow": null,
            "grid_area": null,
            "grid_auto_columns": null,
            "grid_auto_flow": null,
            "grid_auto_rows": null,
            "grid_column": null,
            "grid_gap": null,
            "grid_row": null,
            "grid_template_areas": null,
            "grid_template_columns": null,
            "grid_template_rows": null,
            "height": null,
            "justify_content": null,
            "justify_items": null,
            "left": null,
            "margin": null,
            "max_height": null,
            "max_width": null,
            "min_height": null,
            "min_width": null,
            "object_fit": null,
            "object_position": null,
            "order": null,
            "overflow": null,
            "overflow_x": null,
            "overflow_y": null,
            "padding": null,
            "right": null,
            "top": null,
            "visibility": null,
            "width": null
          }
        },
        "014bdb2b4a2f4b3a968264926ad8e5e8": {
          "model_module": "@jupyter-widgets/controls",
          "model_name": "DescriptionStyleModel",
          "model_module_version": "1.5.0",
          "state": {
            "_model_module": "@jupyter-widgets/controls",
            "_model_module_version": "1.5.0",
            "_model_name": "DescriptionStyleModel",
            "_view_count": null,
            "_view_module": "@jupyter-widgets/base",
            "_view_module_version": "1.2.0",
            "_view_name": "StyleView",
            "description_width": ""
          }
        },
        "aa9f4efb441b46fb984173eed1f058f4": {
          "model_module": "@jupyter-widgets/base",
          "model_name": "LayoutModel",
          "model_module_version": "1.2.0",
          "state": {
            "_model_module": "@jupyter-widgets/base",
            "_model_module_version": "1.2.0",
            "_model_name": "LayoutModel",
            "_view_count": null,
            "_view_module": "@jupyter-widgets/base",
            "_view_module_version": "1.2.0",
            "_view_name": "LayoutView",
            "align_content": null,
            "align_items": null,
            "align_self": null,
            "border": null,
            "bottom": null,
            "display": null,
            "flex": null,
            "flex_flow": null,
            "grid_area": null,
            "grid_auto_columns": null,
            "grid_auto_flow": null,
            "grid_auto_rows": null,
            "grid_column": null,
            "grid_gap": null,
            "grid_row": null,
            "grid_template_areas": null,
            "grid_template_columns": null,
            "grid_template_rows": null,
            "height": null,
            "justify_content": null,
            "justify_items": null,
            "left": null,
            "margin": null,
            "max_height": null,
            "max_width": null,
            "min_height": null,
            "min_width": null,
            "object_fit": null,
            "object_position": null,
            "order": null,
            "overflow": null,
            "overflow_x": null,
            "overflow_y": null,
            "padding": null,
            "right": null,
            "top": null,
            "visibility": null,
            "width": null
          }
        },
        "eba823b2bb8345ed8182b97d1965814a": {
          "model_module": "@jupyter-widgets/controls",
          "model_name": "ProgressStyleModel",
          "model_module_version": "1.5.0",
          "state": {
            "_model_module": "@jupyter-widgets/controls",
            "_model_module_version": "1.5.0",
            "_model_name": "ProgressStyleModel",
            "_view_count": null,
            "_view_module": "@jupyter-widgets/base",
            "_view_module_version": "1.2.0",
            "_view_name": "StyleView",
            "bar_color": null,
            "description_width": ""
          }
        },
        "4117f9093dc04691a40ee124bc479b5c": {
          "model_module": "@jupyter-widgets/base",
          "model_name": "LayoutModel",
          "model_module_version": "1.2.0",
          "state": {
            "_model_module": "@jupyter-widgets/base",
            "_model_module_version": "1.2.0",
            "_model_name": "LayoutModel",
            "_view_count": null,
            "_view_module": "@jupyter-widgets/base",
            "_view_module_version": "1.2.0",
            "_view_name": "LayoutView",
            "align_content": null,
            "align_items": null,
            "align_self": null,
            "border": null,
            "bottom": null,
            "display": null,
            "flex": null,
            "flex_flow": null,
            "grid_area": null,
            "grid_auto_columns": null,
            "grid_auto_flow": null,
            "grid_auto_rows": null,
            "grid_column": null,
            "grid_gap": null,
            "grid_row": null,
            "grid_template_areas": null,
            "grid_template_columns": null,
            "grid_template_rows": null,
            "height": null,
            "justify_content": null,
            "justify_items": null,
            "left": null,
            "margin": null,
            "max_height": null,
            "max_width": null,
            "min_height": null,
            "min_width": null,
            "object_fit": null,
            "object_position": null,
            "order": null,
            "overflow": null,
            "overflow_x": null,
            "overflow_y": null,
            "padding": null,
            "right": null,
            "top": null,
            "visibility": null,
            "width": null
          }
        },
        "23efa4af9e864749a51d2b29544e6013": {
          "model_module": "@jupyter-widgets/controls",
          "model_name": "DescriptionStyleModel",
          "model_module_version": "1.5.0",
          "state": {
            "_model_module": "@jupyter-widgets/controls",
            "_model_module_version": "1.5.0",
            "_model_name": "DescriptionStyleModel",
            "_view_count": null,
            "_view_module": "@jupyter-widgets/base",
            "_view_module_version": "1.2.0",
            "_view_name": "StyleView",
            "description_width": ""
          }
        },
        "5901d8563a1c495891bcf783d2ebebea": {
          "model_module": "@jupyter-widgets/controls",
          "model_name": "HBoxModel",
          "model_module_version": "1.5.0",
          "state": {
            "_dom_classes": [],
            "_model_module": "@jupyter-widgets/controls",
            "_model_module_version": "1.5.0",
            "_model_name": "HBoxModel",
            "_view_count": null,
            "_view_module": "@jupyter-widgets/controls",
            "_view_module_version": "1.5.0",
            "_view_name": "HBoxView",
            "box_style": "",
            "children": [
              "IPY_MODEL_a9a4fea5c3934a3f89d39ff409dd5a5e",
              "IPY_MODEL_d5165971a5694efb9606f6399986a738",
              "IPY_MODEL_6a44b3a66dd34331947d92f239e19978"
            ],
            "layout": "IPY_MODEL_a92a4d962b0448069f882c50154079a2"
          }
        },
        "a9a4fea5c3934a3f89d39ff409dd5a5e": {
          "model_module": "@jupyter-widgets/controls",
          "model_name": "HTMLModel",
          "model_module_version": "1.5.0",
          "state": {
            "_dom_classes": [],
            "_model_module": "@jupyter-widgets/controls",
            "_model_module_version": "1.5.0",
            "_model_name": "HTMLModel",
            "_view_count": null,
            "_view_module": "@jupyter-widgets/controls",
            "_view_module_version": "1.5.0",
            "_view_name": "HTMLView",
            "description": "",
            "description_tooltip": null,
            "layout": "IPY_MODEL_c9b09d52a4b9460d8dcc8c3163abb22d",
            "placeholder": "​",
            "style": "IPY_MODEL_9ee63b190dd4456590bb145777041e67",
            "value": "Downloading:  54%"
          }
        },
        "d5165971a5694efb9606f6399986a738": {
          "model_module": "@jupyter-widgets/controls",
          "model_name": "FloatProgressModel",
          "model_module_version": "1.5.0",
          "state": {
            "_dom_classes": [],
            "_model_module": "@jupyter-widgets/controls",
            "_model_module_version": "1.5.0",
            "_model_name": "FloatProgressModel",
            "_view_count": null,
            "_view_module": "@jupyter-widgets/controls",
            "_view_module_version": "1.5.0",
            "_view_name": "ProgressView",
            "bar_style": "",
            "description": "",
            "description_tooltip": null,
            "layout": "IPY_MODEL_bb8590ae218041eca775ef2078066014",
            "max": 438010289,
            "min": 0,
            "orientation": "horizontal",
            "style": "IPY_MODEL_dc0a4632ebe34784a7939cb69f1fb0b7",
            "value": 236844032
          }
        },
        "6a44b3a66dd34331947d92f239e19978": {
          "model_module": "@jupyter-widgets/controls",
          "model_name": "HTMLModel",
          "model_module_version": "1.5.0",
          "state": {
            "_dom_classes": [],
            "_model_module": "@jupyter-widgets/controls",
            "_model_module_version": "1.5.0",
            "_model_name": "HTMLModel",
            "_view_count": null,
            "_view_module": "@jupyter-widgets/controls",
            "_view_module_version": "1.5.0",
            "_view_name": "HTMLView",
            "description": "",
            "description_tooltip": null,
            "layout": "IPY_MODEL_013c39a89aa745478479aa17bc6850c3",
            "placeholder": "​",
            "style": "IPY_MODEL_18b0c28b1db24a5db9f623ff8a08f3c5",
            "value": " 237M/438M [00:28&lt;00:10, 18.9MB/s]"
          }
        },
        "a92a4d962b0448069f882c50154079a2": {
          "model_module": "@jupyter-widgets/base",
          "model_name": "LayoutModel",
          "model_module_version": "1.2.0",
          "state": {
            "_model_module": "@jupyter-widgets/base",
            "_model_module_version": "1.2.0",
            "_model_name": "LayoutModel",
            "_view_count": null,
            "_view_module": "@jupyter-widgets/base",
            "_view_module_version": "1.2.0",
            "_view_name": "LayoutView",
            "align_content": null,
            "align_items": null,
            "align_self": null,
            "border": null,
            "bottom": null,
            "display": null,
            "flex": null,
            "flex_flow": null,
            "grid_area": null,
            "grid_auto_columns": null,
            "grid_auto_flow": null,
            "grid_auto_rows": null,
            "grid_column": null,
            "grid_gap": null,
            "grid_row": null,
            "grid_template_areas": null,
            "grid_template_columns": null,
            "grid_template_rows": null,
            "height": null,
            "justify_content": null,
            "justify_items": null,
            "left": null,
            "margin": null,
            "max_height": null,
            "max_width": null,
            "min_height": null,
            "min_width": null,
            "object_fit": null,
            "object_position": null,
            "order": null,
            "overflow": null,
            "overflow_x": null,
            "overflow_y": null,
            "padding": null,
            "right": null,
            "top": null,
            "visibility": null,
            "width": null
          }
        },
        "c9b09d52a4b9460d8dcc8c3163abb22d": {
          "model_module": "@jupyter-widgets/base",
          "model_name": "LayoutModel",
          "model_module_version": "1.2.0",
          "state": {
            "_model_module": "@jupyter-widgets/base",
            "_model_module_version": "1.2.0",
            "_model_name": "LayoutModel",
            "_view_count": null,
            "_view_module": "@jupyter-widgets/base",
            "_view_module_version": "1.2.0",
            "_view_name": "LayoutView",
            "align_content": null,
            "align_items": null,
            "align_self": null,
            "border": null,
            "bottom": null,
            "display": null,
            "flex": null,
            "flex_flow": null,
            "grid_area": null,
            "grid_auto_columns": null,
            "grid_auto_flow": null,
            "grid_auto_rows": null,
            "grid_column": null,
            "grid_gap": null,
            "grid_row": null,
            "grid_template_areas": null,
            "grid_template_columns": null,
            "grid_template_rows": null,
            "height": null,
            "justify_content": null,
            "justify_items": null,
            "left": null,
            "margin": null,
            "max_height": null,
            "max_width": null,
            "min_height": null,
            "min_width": null,
            "object_fit": null,
            "object_position": null,
            "order": null,
            "overflow": null,
            "overflow_x": null,
            "overflow_y": null,
            "padding": null,
            "right": null,
            "top": null,
            "visibility": null,
            "width": null
          }
        },
        "9ee63b190dd4456590bb145777041e67": {
          "model_module": "@jupyter-widgets/controls",
          "model_name": "DescriptionStyleModel",
          "model_module_version": "1.5.0",
          "state": {
            "_model_module": "@jupyter-widgets/controls",
            "_model_module_version": "1.5.0",
            "_model_name": "DescriptionStyleModel",
            "_view_count": null,
            "_view_module": "@jupyter-widgets/base",
            "_view_module_version": "1.2.0",
            "_view_name": "StyleView",
            "description_width": ""
          }
        },
        "bb8590ae218041eca775ef2078066014": {
          "model_module": "@jupyter-widgets/base",
          "model_name": "LayoutModel",
          "model_module_version": "1.2.0",
          "state": {
            "_model_module": "@jupyter-widgets/base",
            "_model_module_version": "1.2.0",
            "_model_name": "LayoutModel",
            "_view_count": null,
            "_view_module": "@jupyter-widgets/base",
            "_view_module_version": "1.2.0",
            "_view_name": "LayoutView",
            "align_content": null,
            "align_items": null,
            "align_self": null,
            "border": null,
            "bottom": null,
            "display": null,
            "flex": null,
            "flex_flow": null,
            "grid_area": null,
            "grid_auto_columns": null,
            "grid_auto_flow": null,
            "grid_auto_rows": null,
            "grid_column": null,
            "grid_gap": null,
            "grid_row": null,
            "grid_template_areas": null,
            "grid_template_columns": null,
            "grid_template_rows": null,
            "height": null,
            "justify_content": null,
            "justify_items": null,
            "left": null,
            "margin": null,
            "max_height": null,
            "max_width": null,
            "min_height": null,
            "min_width": null,
            "object_fit": null,
            "object_position": null,
            "order": null,
            "overflow": null,
            "overflow_x": null,
            "overflow_y": null,
            "padding": null,
            "right": null,
            "top": null,
            "visibility": null,
            "width": null
          }
        },
        "dc0a4632ebe34784a7939cb69f1fb0b7": {
          "model_module": "@jupyter-widgets/controls",
          "model_name": "ProgressStyleModel",
          "model_module_version": "1.5.0",
          "state": {
            "_model_module": "@jupyter-widgets/controls",
            "_model_module_version": "1.5.0",
            "_model_name": "ProgressStyleModel",
            "_view_count": null,
            "_view_module": "@jupyter-widgets/base",
            "_view_module_version": "1.2.0",
            "_view_name": "StyleView",
            "bar_color": null,
            "description_width": ""
          }
        },
        "013c39a89aa745478479aa17bc6850c3": {
          "model_module": "@jupyter-widgets/base",
          "model_name": "LayoutModel",
          "model_module_version": "1.2.0",
          "state": {
            "_model_module": "@jupyter-widgets/base",
            "_model_module_version": "1.2.0",
            "_model_name": "LayoutModel",
            "_view_count": null,
            "_view_module": "@jupyter-widgets/base",
            "_view_module_version": "1.2.0",
            "_view_name": "LayoutView",
            "align_content": null,
            "align_items": null,
            "align_self": null,
            "border": null,
            "bottom": null,
            "display": null,
            "flex": null,
            "flex_flow": null,
            "grid_area": null,
            "grid_auto_columns": null,
            "grid_auto_flow": null,
            "grid_auto_rows": null,
            "grid_column": null,
            "grid_gap": null,
            "grid_row": null,
            "grid_template_areas": null,
            "grid_template_columns": null,
            "grid_template_rows": null,
            "height": null,
            "justify_content": null,
            "justify_items": null,
            "left": null,
            "margin": null,
            "max_height": null,
            "max_width": null,
            "min_height": null,
            "min_width": null,
            "object_fit": null,
            "object_position": null,
            "order": null,
            "overflow": null,
            "overflow_x": null,
            "overflow_y": null,
            "padding": null,
            "right": null,
            "top": null,
            "visibility": null,
            "width": null
          }
        },
        "18b0c28b1db24a5db9f623ff8a08f3c5": {
          "model_module": "@jupyter-widgets/controls",
          "model_name": "DescriptionStyleModel",
          "model_module_version": "1.5.0",
          "state": {
            "_model_module": "@jupyter-widgets/controls",
            "_model_module_version": "1.5.0",
            "_model_name": "DescriptionStyleModel",
            "_view_count": null,
            "_view_module": "@jupyter-widgets/base",
            "_view_module_version": "1.2.0",
            "_view_name": "StyleView",
            "description_width": ""
          }
        }
      }
    }
  },
  "cells": [
    {
      "cell_type": "markdown",
      "source": [
        "# Analysis Of Cookie Banners"
      ],
      "metadata": {
        "id": "2VQnpRjvo4sB"
      }
    },
    {
      "cell_type": "markdown",
      "source": [
        "**Get the cookie bodies and url from the temp file**\n",
        "\n"
      ],
      "metadata": {
        "id": "7E6thEjnpCDf"
      }
    },
    {
      "cell_type": "code",
      "source": [
        "# The reddit thread structure is nested with posts in a new content.\n",
        "# This block reads the file as json and cates a new data frame.\n",
        "import pandas as pd\n",
        "import json\n",
        "\n",
        "# A temporary variable to store the list of post content.\n",
        "posts_tmp = list()\n",
        "all = ''\n",
        "with open('temp_file.txt') as file:\n",
        "  all = file.read()\n",
        "  all = all.split('\\n')\n",
        "  print(all)\n",
        "\n",
        "i = 0\n",
        "urls = []\n",
        "while i < len(all):\n",
        "    if all[i].startswith('http'):\n",
        "      url = i\n",
        "      txt = ''\n",
        "      i += 1\n",
        "      while all[i] != '':\n",
        "        txt += all[i]\n",
        "        i+=1\n",
        "      if (txt != 'FailedToFindBanner'):\n",
        "        posts_tmp.append((all[url], txt))\n",
        "        urls.append(all[url].split('https://')[1])\n",
        "    else:\n",
        "      i += 1\n",
        "print(posts_tmp)\n",
        "# # Create the posts data frame.  \n",
        "labels = ['url', 'body']\n",
        "post_frame = pd.DataFrame(posts_tmp, columns=labels)"
      ],
      "metadata": {
        "colab": {
          "base_uri": "https://localhost:8080/"
        },
        "id": "i2GYbxfcrBF9",
        "outputId": "b66822ce-f212-448e-a7e7-9a7129d7d80d"
      },
      "execution_count": 29,
      "outputs": [
        {
          "output_type": "stream",
          "name": "stdout",
          "text": [
            "['https://uk250.co.uk', 'Got it!This website uses cookies to ensure you get the best experience on our website More infoCookie Consent plugin for the EU cookie law', '', 'https://gla.ac.uk', 'The University of Glasgow uses cookies for analytics and advertising.', 'Find out more about our Privacy policy.', ' privacy settings', 'close', '', 'https://bbk.ac.uk', 'FailedToFindBanner', '', 'https://bathspa.ac.uk', 'FailedToFindBanner', '', 'https://mango.com', 'We use our own and third-party cookies for analytical purposes and to show you advertising and personalised content based on a profile prepared from your browsing habits. You can accept all the cookies or manage your preferences in the settings panel. For more information, consult theCookies Policy.', '', 'https://aber.ac.uk', 'FailedToFindBanner', '', 'https://gitlab.com', 'FailedToFindBanner', '', 'https://anglia.ac.uk', 'We use cookies to improve your browsing experience, monitor how our site is used, and aid us with advertising. By continuing to use our site you are agreeing to our privacy and cookies policy.', '', 'https://bangor.ac.uk', 'This website uses cookies to improve your experience and distinguish you from other users. By continuing to browse this site, we assume you agree to this. For more information please view our cookie policy.', '', 'https://aston.ac.uk', 'We use cookies to enhance your online experienceTo find out more, please read ourupdated privacy policy and cookie policy', '', 'https://bcu.ac.uk', 'Recent searches', \"We won't record your recent searches as you have opted out of functional cookies.\", 'You can change this on our Manage Privacy page should you wish to.', '', 'https://abdn.ac.uk', \"We use cookies to give you the best possible experienceIf you don't want to accept cookies you can change preferences\", '', 'https://abertay.ac.uk', \"We use cookies to ensure we provide you with the best user experience. If you continue without changing your settings, we'll assume that you are happy to receive cookies from our site. Learn more.\", '', 'https://bath.ac.uk', '© University of Bath 2022', 'Disclaimer', 'Freedom of information', 'Modern slavery statement', 'Privacy and cookie policy', 'Staying COVID-19 Secure', 'Transparency information', 'Website accessibility statement', '', 'https://bolton.ac.uk', 'This website uses cookies', 'We use cookies to personalise content and ads, to provide social media features and to analyse our traffic. We also share information about your use of our site with our social media,', 'advertising and analytics partners who may combine it with other information that you’ve provided to them or that they’ve collected from your use of their services.', 'You consent to our cookies if you continue to use our website.', 'Learn more.', 'Basic', 'Preferences', 'Statistics', 'Marketing', 'Accept', '', 'https://reddit.com', 'We use cookies on our websites for a number of purposes, including analytics and performance, functionality and advertising.\\xa0Learn more about Reddit’s use of cookies.Reject non-essentialAccept all', '', 'https://buckingham.ac.uk', 'FailedToFindBanner', '', 'https://bris.ac.uk', 'FailedToFindBanner', '', 'https://cam.ac.uk', 'Your cookie choicesCookies are little files that we save on your device to make sure we remember your preferences.We use necessary cookies to make our site work. We use site usage measurement cookies to analyse anonymised usage patterns, to make our websites better for you.You may choose to opt-in to use optional cookies for personalisation and to remember your social marketing preferences. Give me more information', '', 'https://bournemouth.ac.uk', 'This site uses cookies and by using the site you are consenting to this. Find out more about what cookies we use and why in our privacy policy.', '', 'https://brad.ac.uk', 'FailedToFindBanner', '', 'https://beds.ac.uk', 'FailedToFindBanner', '', 'https://bishopg.ac.uk', 'FailedToFindBanner', '', 'https://cardiff.ac.uk', 'FailedToFindBanner', '', 'https://bucks.ac.uk', 'FailedToFindBanner', '', 'https://cssd.ac.uk', 'FailedToFindBanner', '', 'https://brighton.ac.uk', ' ', 'Skip to content', 'Skip to footer', 'Accessibility options', ' About us ', ' Business and employers ', ' Alumni and', 'supporters ', ' For', 'students ', ' For staff ', ' Accessibility', 'options', 'Close Study Courses and subjects Find a course A-Z course list Explore our subjects Academic departments Visiting the universityExplore: get to know usOnline eventsVirtual toursChat to our students and staffOpen daysApplicant daysOrder a prospectus Ask a question Studying here Accommodation and locations Applying Undergraduate Postgraduate Transferring from another universityThe Student ContractClearingInternational students Fees and finance Advice and helpAdvice for students Advice for parents and carers Advice for schools and teachers Managing your applicationUndergraduatePostgraduateApprenticeships Research Research and knowledge exchangeResearch and knowledge exchange organisationBrighton Futures – our themesCentres of Research and Enterprise Excellence (COREs) Research and Enterprise Groups (REGs)Our research database Information for business Community University Partnership Programme (CUPP)Postgraduate research degrees PhD research disciplines and programmes PhD funding opportunities and studentshipsHow to apply for your PhD Research environment Investing in research careers Strategic plan Research concordat News, events, publications and filmsResearch and knowledge exchange newsInaugural lecturesResearch and knowledge exchange publications and filmsAcademic staff search About us Business and employers Alumni, supporters and giving Current students Staff Accessibility ', 'Search', 'University of Brighton', 'Apply now', 'Find your courseFind your course', 'Order a prospectus', 'Book onto an advice Q+A', 'Chat to our students', \"Find out more about your course, living here, social life, managing money, what help is on offer and what it's like living away from home.\", 'Message now', 'We see the person', \"Right now there’s a lot of change to deal with, but the\\xa0inclusive and personalised way we make offers remains the same. We value a range of qualifications and achievements and we'll consider your application individually.\", 'Apply to Brighton', 'Top 50 for graduate outcomes', 'Brighton is ranked in the top 50 UK universities, reflecting the number of our brilliant graduates who are in highly skilled employment or further study (2022 Complete University Guide).', 'Read more', 'The Big Build', \"The Big Build is transforming our Moulsecoomb campus, with new student bedrooms, a new academic building, home to the School of Business and Law and new Students' Union and fitness facilities.\", 'Take a look', 'Brighton students', \"Whether you've just joined us, or have returned to your studies this term, everyone is dealing with something new and different. Stay on track with our support and resources.\", 'Find out how', 'Discover our research', 'Our research and knowledge exchange activities tackle global challenges, solve practical problems and seek to improve people’s lives and environments. We foster a vibrant, agile research community; supporting our established experts and nurturing the next generation of talent from our thriving postgraduate and early career researchers.', 'Tell me more', 'Applying to Brighton? Read our advice', 'Headlines', 'News', 'Design Museum showcases Brighton-trained sustainable fashion pioneer', \"The award-winning social change fashion of University of Brighton graduate Bethany Williams has gone on show at London's Design Museum until 4 September. \", 'News', 'Brighton researchers at the heart of UK project to transform older age health', 'The University of Brighton is leading a new national research network focused on transforming the wellbeing of older people and boosting the economy. ', 'News', '\"Our values become even more important in the face of adversity\"', 'A message from the Vice-Chancellor on the Russian invasion of Ukraine.', 'News', 'Brighton the biggest climber in latest Complete University Guide', 'The University of Brighton has recorded the largest improvement of any UK institution in the updated 2022 Complete University Guide.', 'COVID-19 update', \"If you're studying or thinking of studying here and have questions about COVID-19, our enquiries line 01273 644644 is open Monday–Friday, 10am–4pm.\", 'Read about what you can expect on campus.', 'Contact us', 'University of Brighton Mithras House Lewes Road Brighton BN2 4AT', 'Main switchboard 01273 600900', ' Course enquiries ', ' Sign up for updates ', ' University contacts', ' Report a problem with this page ', 'Quick links', 'Courses', 'Open days', 'Order a prospectus', ' Academic departments ', 'Academic staff', ' Professional services departments ', 'Jobs', 'Privacy and cookie policy', 'Accessibility statement', 'Libraries', 'Term dates', 'Maps', 'Graduation', 'Site information', 'Online shop', 'COVID-19', 'Information for', 'Current students', 'International students', 'Media/press', 'Careers advisers/teachers', 'Parents/carers', 'Business/employers', 'Alumni/supporters', 'Suppliers', 'Local residents', '\\t<iframe src=\"//www.googletagmanager.com/ns.html?id=GTM-KGXLQ2\" height=\"0\" width=\"0\" style=\"display:none;visibility:hidden\"></iframe>', '', 'https://brunel.ac.uk', 'Brunel.ac.uk uses cookies to make our site better for you. By clicking on or navigating this site, you accept our use of cookies in accordance with our cookie policy.', 'Close this message', '', 'https://chi.ac.uk', 'FailedToFindBanner', '', 'https://birmingham.ac.uk', 'We use cookies to track visits to our website and to deliver targeted messages about the University to users.', 'We do not store personal details.', 'For more information or to change your cookie settings, see our Cookie Policy. ACCEPT COOKIES What are cookies?', '', 'https://uclan.ac.uk', 'FailedToFindBanner', '', 'https://canterbury.ac.uk', 'FailedToFindBanner', '', 'https://chester.ac.uk', 'Our website uses cookies to enhance your experience. By continuing to browse the site you are agreeing to our use of cookies. You can find out more and control your Cookie settings on our Cookie Policy page.', '', 'https://city.ac.uk', 'FailedToFindBanner', '', 'https://dundee.ac.uk', 'FailedToFindBanner', '', 'https://dur.ac.uk', 'FailedToFindBanner', '', 'https://uel.ac.uk', 'We use cookies to ensure you get the best experience on our website.We use cookies to optimise site functionality and give you the best possible experience.', '', 'https://derby.ac.uk', 'FailedToFindBanner', '', 'https://essex.ac.uk', 'This site uses cookies. By continuing to browse the site you are consenting to their use. Please visit our cookie policy to find out which cookies we use and why.', 'View cookie policy.', '', 'https://edgehill.ac.uk', 'FailedToFindBanner', '', 'https://falmouth.ac.uk', 'FailedToFindBanner', '', 'https://glyndwr.ac.uk', 'FailedToFindBanner', '', 'https://uea.ac.uk', 'FailedToFindBanner', '', 'https://glos.ac.uk', '\\t\\t\\t\\t\\t\\t\\tUniversity of Gloucestershire,', '\\t\\t\\t\\t\\t\\t\\tThe Park,', '\\t\\t\\t\\t\\t\\t\\tCheltenham,', '\\t\\t\\t\\t\\t\\t\\tGL50 2RH.', '\\t\\t\\t\\t\\t\\t\\tTelephone +44 (0)1242 714700', 'View larger map', 'Business & partnerships', 'Do business on campus', 'Apprenticeships', 'Recruit student talent', 'Venue hire', 'Growth Hub', 'Procurement', 'Outreach and widening participation', ' ', 'Governance and structure', 'Strategic Plan 2022-2027', 'Student Charter', 'Information governance', 'University Council', 'Slavery and Human Trafficking', 'Insurance', 'Freedom\\xa0of information', 'Criminal Finances Act Statement', 'Appeals and complaints', 'Value for money', ' ', 'About Us', 'Coronavirus statement', 'Academic schools', 'Our campuses', 'Latest news', 'Press office', 'Sustainability', 'Public lectures', 'Graduation', 'Alumni', 'Pay online', 'Clearing', 'Blogs', ' ', ' ', 'Accessibility', 'Careers', 'Disclaimer', 'Document hub', 'Privacy & cookies', 'Contact us', ' ', ' ', '\\t\\t\\t\\t\\t\\t\\t\\t\\t© 2022 Copyright University of Gloucestershire', '\\t\\t\\t\\t\\t\\t\\t\\t\\tCompany Registration Number 06023243. VAT Number GB 393 9083 56.', '\\t\\t\\t\\t\\t\\t\\t\\t', 'back to top ', '', 'https://exeter.ac.uk', 'Connect with us', ' 中文网', 'Information for:', 'Current students', 'New students', 'Staff', 'Alumni and supporters', 'Quick links', 'Email', 'iExeter', 'Library', 'SID', 'Contact us', 'Job vacancies', 'Campuses', 'Streatham Campus', ' Find us', 'Contact ', \"St Luke's Campus\", ' Find us', 'Contact ', 'Penryn Campus', ' Find us', 'Contact ', 'Truro Campus', ' Find us', 'Contact ', 'Footer links ', 'Using our site', 'Freedom of Information', 'Modern Slavery Act Statement', 'Data Protection', 'Copyright & disclaimer', 'Privacy & cookies', 'Site map', '', 'https://gcu.ac.uk', 'FailedToFindBanner', '', 'https://hw.ac.uk', 'FailedToFindBanner', '', 'https://homerton.cam.ac.uk', 'FailedToFindBanner', '', 'https://hud.ac.uk', 'We have updated our cookie policy. We use cookies to ensure that we give you the best experience on our website.', '', 'https://gold.ac.uk', 'Your choice regarding cookies on this siteWe use cookies to provide functionality, understand how people use our website, and to personalise content on and off gold.ac.uk.', '', 'https://keele.ac.uk', 'FailedToFindBanner', '', 'https://gre.ac.uk', 'Our website uses cookies to recognise users of our site and optimise your experience. By continuing to use this site, you are giving your consent for us to set cookies. For more information, please see our Cookies Policy.', '', 'https://herts.ac.uk', 'FailedToFindBanner', '', 'https://ucl.ac.uk', 'Necessary cookies', 'Necessary cookies enable core functionality such as page navigation and access to secure areas. The website cannot function properly without these cookies, and they can only be disabled by changing your browser preferences.', 'Analytics and customisation cookies', 'These cookies enhance the functionality of our websites and improve your user experience. Without these cookies, certain functionality (like videos, personalised content or the ability to save your favourite content) may not work.', 'Advertising cookies', 'These cookies are used to make advertising messages more relevant to you. They perform functions like preventing the same ad from continuously reappearing, ensuring that ads are properly displayed for advertisers, and in some cases selecting advertisements that are based on your interests.', 'Save preferences', '', 'https://lancs.ac.uk', 'Our use of cookies', \"We use necessary cookies to make our site work. We'd also like\", 'to set optional cookies to help us measure web traffic and report', 'on campaigns.', \"We won't set optional cookies unless you enable them.\", '', 'https://kcl.ac.uk', 'FailedToFindBanner', '', 'https://kingston.ac.uk', 'We use cookies to ensure that we give you the best experience on our website. Learn more about cookies on this siteClose this message ', '', 'https://dmu.ac.uk', 'We place cookies on your device to help make this website better, and improve your experience. You can change your cookie settings at any time. Please see our data protection policy for full details.', '', 'https://le.ac.uk', 'Accept cookiesWe use cookies to make sure you get the best experience on our website; you can read our', 'Privacy Policy to learn more.Cookie Consent plugin for the EU cookie law', '', 'https://leeds.ac.uk', 'Cookies are files saved on your phone, tablet or computer when you visit a website. We use cookies to improve your website experience, gather information about how you use the website and to help us with marketing.You can find out more on the privacy page', '', 'https://lincoln.ac.uk', 'We use cookies to understand how visitors use our website and to improve the user experience. To find out more, see our Cookies Policy.\\xa0\\xa0 Accept', '', 'https://liverpool.ac.uk', 'FailedToFindBanner', '', 'https://ljmu.ac.uk', 'Cookie Settings', \"Some essential features of our website won't work without cookies. Please check your cookie settings below and deselect any you wish to opt out of:\", 'We use cookies to ensure that we give you the best experience on our website. You can change your cookies in your browser at any time.', '', 'https://leedsbeckett.ac.uk', 'Necessary cookies enable you to use all the different parts of leedsbeckett.ac.uk. Without them services that you have asked for cannot be provided. Necessary cookies can only be disabled by changing your browser preferences.', '', 'https://londonmet.ac.uk', 'FailedToFindBanner', '', 'https://man.ac.uk', 'FailedToFindBanner', '', 'https://lon.ac.uk', 'FailedToFindBanner', '', 'https://lsbu.ac.uk', 'We use cookies for analytics, personalised content and ads. By continuing to browse this site, you agree to this use. ClosePrivacy Policy', '', 'https://london.edu', 'FailedToFindBanner', '', 'https://lse.ac.uk', 'We use cookies on this website to make your browsing experience better. By continuing to use this website, you agree toAccept and Continueour cookie policy.', '', 'https://lshtm.ac.uk', 'This website uses cookies to improve user experienceBy using our website you consent to all cookies in accordance with our Cookie Policy', '', 'https://mmu.ac.uk', 'We use cookies on this site to enhance your user\\xa0experience', 'By clicking the Accept button, you agree to us doing\\xa0so.', '', 'https://lut.ac.uk', 'This site uses cookies to store information on your computer.Some of these cookies are essential, while others help us to improve your experience by providing insights into how the site is being used.For more information and to change your settings in the future, visit our privacy statement(Opens in a new window)External Link IconAccept all cookiesReject all cookiesNecessary CookiesNecessary cookies enable core functionality such as page navigation and access to secure areas. The website cannot function properly without these cookies, and can only be disabled by changing your browser preferences.Analytical CookiesAnalytical cookies help us to improve our website by collecting and reporting information on its usage.Analytical CookiesOnOffMarketing CookiesWe use marketing cookies to help us improve the relevancy of advertising campaigns you receive.Marketing CookiesOnOffSave and close', '', 'https://leedstrinity.ac.uk', 'This site uses cookies.Some of these cookies are essential, while others help us to improve your experience.For more information vist our Privacy and Cookies Policy(Opens in a new window)External Link IconAccept Recommended SettingsI Do Not AcceptNecessary CookiesNecessary cookies enable core functionality. These can only be disabled by changing your browser preferences.Analytical CookiesAnalytical cookies help us to improve our website by collecting and reporting information on its usage.Analytical CookiesOnOffMarketing CookiesWe use marketing cookies to help us improve the relevancy of advertising campaigns you receive.Marketing CookiesOnOffAbout this tool(Opens in a new window)External Link Icon', '', 'https://newman.ac.uk', 'FailedToFindBanner', '', 'https://nscd.ac.uk', 'FailedToFindBanner', '', 'https://ncl.ac.uk', 'FailedToFindBanner', '', 'https://mdx.ac.uk', 'FailedToFindBanner', '', 'https://northumbria.ac.uk', 'Northumbria University uses cookies to improve your experience on our site.\\xa0 By clicking accept you consent to our cookies on this device Learn More', '', 'https://ntu.ac.uk', 'This website uses cookies to enhance your user experience. By continuing to browse the site you are agreeing to our use of cookies. Find out more here', 'OK', '', 'https://plymouth.ac.uk', 'FailedToFindBanner', '', 'https://ox.ac.uk', 'Your choice regarding cookies on this siteEssential cookies are enabled by default to give you the best possible site experience. For details on the other cookies we use click on settings, or accept them all.', '', 'https://northampton.ac.uk', 'FailedToFindBanner', '', 'https://brookes.ac.uk', 'FailedToFindBanner', '', 'https://port.ac.uk', 'FailedToFindBanner', '', 'https://qmu.ac.uk', 'We use a variety of analytics and marketing cookies to help improve our website and give you the best possible', 'experience. Analytics cookies allow us to review our website traffic and performance, building intelligence on how', 'our site is used. We also use marketing cookies via third party technologies/agencies to advertise online. These', 'track the ads you have been exposed to, and help us serve up targeted and relevant content to you. You can change', 'your cookie settings at any stage if you wish. By continuing without changing your cookie settings, you are', 'therefore agreeing to this. Please read our website terms of use to find', 'out more.', 'I Accept', '', 'https://rave.ac.uk', 'Your choice regarding cookies on this siteWe use cookies to optimise site functionality and give you the best possible experience.', '', 'https://nua.ac.uk', 'FailedToFindBanner', '', 'https://qmul.ac.uk', 'FailedToFindBanner', '', 'https://ram.ac.uk', 'FailedToFindBanner', '', 'https://bruford.ac.uk', 'This website uses cookies to ensure you get the best experience on our website.', 'Accept', 'More Information ', '', 'https://rgu.ac.uk', 'We use cookies on this website to improve your browsing experience. Some of the cookies are used for analysis and marketing purposes.\\xa0For more details see our\\xa0privacy and cookie statement.', 'Accept Recommended Settings ', 'Manage Preferences ', '', 'https://rca.ac.uk', 'We use cookies to personalise your experience on this site and others. For more information, visit our Privacy & Cookies page.', '', 'https://qub.ac.uk', 'YOUR CHOICE REGARDING COOKIESWe use cookies to optimise site functionality and give you the best possible experience.', '', 'https://nottingham.ac.uk', 'The University of Nottingham collects and holds some personal information about how you use our website when you visit us.OKSee our policy', '', 'https://sgul.ac.uk', 'FailedToFindBanner', '', 'https://rwcmd.ac.uk', 'Your choice regarding cookies on this siteWe use cookies to optimise site functionality and give you the best possible experience.', '', 'https://rcm.ac.uk', 'This website uses cookies to ensure you get the best experience during your visit. Read our Cookie PolicyAccept and close', '', 'https://reading.ac.uk', 'FailedToFindBanner', '', 'https://roehampton.ac.uk', 'FailedToFindBanner', '', 'https://rncm.ac.uk', 'FailedToFindBanner', '', 'https://soas.ac.uk', 'Select \"Accept\" to agree to SOAS\\'s use of cookies and similar technologies to enhance your browsing experience, security, analytics, customization and personalized advertising. Select \"Cookie Settings\" to make more granular choices. ', '', 'https://rvc.ac.uk', 'FailedToFindBanner', '', 'https://shu.ac.uk', 'FailedToFindBanner', '', 'https://rcs.ac.uk', 'FailedToFindBanner', '', 'https://southampton.ac.uk', 'FailedToFindBanner', '', 'https://shef.ac.uk', \"Your cookie choices Our website uses cookies to help give you a better experience. By accepting all cookies, you agree to the storing of cookies on your device. Use 'Cookie settings' to manage your preferences.Cookie and similar technologies policy\", '', 'https://salford.ac.uk', 'This site uses cookies and by using the site you are consenting to this. You can manage cookies in your browser.', 'Find out more about cookies', '', 'https://st-and.ac.uk', 'Your choice regarding cookies on this siteWe use cookies to optimise site functionality and give you the best possible experience.', '', 'https://solent.ac.uk', 'FailedToFindBanner', '', 'https://sruc.ac.uk', 'Skip to main content', 'Courses & Training', 'Business Services', 'Research', 'News & Events', 'Connect', 'Courses & Training', 'discover section', 'Main Menu', 'Courses & Training', 'Course catalogue', 'Subject areas', 'Campuses', 'Useful information', 'Ways of learning', 'Training courses', 'Student support', 'Courses & Training', 'Course catalogue', 'Course catalogue', 'Subject areas', 'Subject areas', 'Agriculture', 'Agriculture', 'Animal Care', 'Animal Care', 'Animal Sciences', 'Animal Sciences', 'Business', 'Business', 'Conservation', 'Conservation', 'Engineering', 'Engineering', 'Environment', 'Environment', 'Equine & Horse Care', 'Equine & Horse Care', 'Forestry & Arboriculture', 'Forestry & Arboriculture', 'Garden Design', 'Garden Design', 'Golf', 'Golf', 'Horticulture & Landscaping', 'Horticulture & Landscaping', 'Organic Farming', 'Organic Farming', 'Poultry', 'Poultry', 'Rural & Estate Skills', 'Rural & Estate Skills', 'Sustainability', 'Sustainability', 'Veterinary Nursing', 'Veterinary Nursing', 'Campuses', 'Campuses', 'Student accommodation', 'Student accommodation', 'Accommodation at SRUC King’s Buildings, Edinburgh', 'Accommodation at SRUC King’s Buildings, Edinburgh', 'Accommodation at SRUC Riverside, Ayr', 'Accommodation at SRUC Riverside, Ayr', 'Accommodation at SRUC Barony, Dumfries', 'Accommodation at SRUC Barony, Dumfries', 'Accommodation at SRUC Craibstone, Aberdeen', 'Accommodation at SRUC Craibstone, Aberdeen', 'Accommodation at SRUC Elmwood, Fife', 'Accommodation at SRUC Elmwood, Fife', 'Accommodation at SRUC Oatridge, West Lothian', 'Accommodation at SRUC Oatridge, West Lothian', 'Campus term & course dates', 'Campus term & course dates', \"SRUC King's Buildings, Edinburgh\", \"SRUC King's Buildings, Edinburgh\", 'SRUC Riverside, Ayr', 'SRUC Riverside, Ayr', 'SRUC Barony, Dumfries', 'SRUC Barony, Dumfries', 'SRUC Craibstone, Aberdeen', 'SRUC Craibstone, Aberdeen', 'SRUC Elmwood, Fife', 'SRUC Elmwood, Fife', 'SRUC Oatridge, West Lothian', 'SRUC Oatridge, West Lothian', 'Glasgow Queens Park', 'Glasgow Queens Park', 'Useful information', 'Useful information', 'Open days & events', 'Open days & events', 'Fees & funding', 'Fees & funding', 'Request a prospectus', 'Request a prospectus', 'How to apply', 'How to apply', 'Getting started at SRUC', 'Getting started at SRUC', 'Before you arrive', 'Before you arrive', 'Induction and course start', 'Induction and course start', 'Programmes & systems for students', 'Programmes & systems for students', 'IT resource assessment', 'IT resource assessment', 'Multi-factor authentication', 'Multi-factor authentication', 'Student support assessment', 'Student support assessment', 'Statement of tuition fee liability', 'Statement of tuition fee liability', 'Student parking application', 'Student parking application', 'Craibstone campus coach transport', 'Craibstone campus coach transport', 'Qualifications and requirements', 'Qualifications and requirements', 'Entry requirements for academic courses', 'Entry requirements for academic courses', 'College & university qualifications explained', 'College & university qualifications explained', 'Parents & guardians', 'Parents & guardians', 'Ways of learning', 'Ways of learning', 'Distance learning', 'Distance learning', 'Work-based learning', 'Work-based learning', 'Postgraduate Studies', 'Postgraduate Studies', 'Adult & continuing education', 'Adult & continuing education', 'Part-time study', 'Part-time study', 'Courses for schools', 'Courses for schools', 'Training courses', 'Training courses', 'Veterinary CPD courses', 'Veterinary CPD courses', 'Testimonials', 'Testimonials', 'Find a CPD course', 'Find a CPD course', 'South Scotland training courses', 'South Scotland training courses', 'Central Scotland training courses', 'Central Scotland training courses', 'North Scotland training courses', 'North Scotland training courses', 'ScotPIL Poultry personal license course', 'ScotPIL Poultry personal license course', 'Student support', 'Student support', 'International students', 'International students', 'Living in Scotland', 'Living in Scotland', 'Practicalities', 'Practicalities', 'Scottish ways and customs', 'Scottish ways and customs', 'Study requirements for international students', 'Study requirements for international students', 'Visas & immigration', 'Visas & immigration', 'Student visa', 'Student visa', 'Graduate immigration route', 'Graduate immigration route', 'Do I need a visa?', 'Do I need a visa?', 'Erasmus', 'Erasmus', 'ERASMUS term dates', 'ERASMUS term dates', 'Applying for Erasmus Exchange at SRUC', 'Applying for Erasmus Exchange at SRUC', 'Partners', 'Partners', 'SRUC Craibstone, Aberdeen courses', 'SRUC Craibstone, Aberdeen courses', 'SRUC King’s Buildings, Edinburgh courses', 'SRUC King’s Buildings, Edinburgh courses', 'SRUC Riverside, Ayr courses', 'SRUC Riverside, Ayr courses', 'Career services', 'Career services', 'Campus-specific careers advice', 'Campus-specific careers advice', 'Information for career advisors', 'Information for career advisors', 'Academic support', 'Academic support', 'Health & wellbeing', 'Health & wellbeing', 'Campus medical services', 'Campus medical services', \"Students' Association\", \"Students' Association\", 'Back', 'Business Services', 'discover section', 'Main Menu', 'Business Services', 'What is your goal?', 'Help in your sector', 'Business Services', 'What is your goal?', 'What is your goal?', 'Veterinary & laboratory services', 'Veterinary & laboratory services', 'Sheep and goat health schemes', 'Sheep and goat health schemes', 'Highlands and Islands Sheep Health Association (HISHA)', 'Highlands and Islands Sheep Health Association (HISHA)', 'Premium Sheep and Goat Health Schemes', 'Premium Sheep and Goat Health Schemes', 'Show and sale organisers', 'Show and sale organisers', 'Member resources', 'Member resources', 'About the diseases', 'About the diseases', 'Scrapie monitoring for export', 'Scrapie monitoring for export', 'Cattle health schemes', 'Cattle health schemes', 'BVD Stamp It Out', 'BVD Stamp It Out', 'Premium Cattle Health Scheme', 'Premium Cattle Health Scheme', 'Member resources', 'Member resources', 'About the diseases', 'About the diseases', 'Shetland Islands Health Scheme', 'Shetland Islands Health Scheme', 'Veterinary diagnostics', 'Veterinary diagnostics', 'Animal disease surveillance', 'Animal disease surveillance', 'Scottish Government Veterinary Services Programme', 'Scottish Government Veterinary Services Programme', 'Livestock health planning', 'Livestock health planning', 'Capital Quality Assessment Scheme (C-QAS)', 'Capital Quality Assessment Scheme (C-QAS)', 'Horse health scheme', 'Horse health scheme', 'Premium Assured Strangles Scheme', 'Premium Assured Strangles Scheme', 'Member resources', 'Member resources', 'Contact Veterinary Services', 'Contact Veterinary Services', 'Animal feed, crop & soil analytical services', 'Animal feed, crop & soil analytical services', 'Animal feed & forage testing', 'Animal feed & forage testing', 'Crop testing', 'Crop testing', 'Organic waste analysis', 'Organic waste analysis', 'Soils analysis', 'Soils analysis', 'Subscribe to our consulting services', 'Subscribe to our consulting services', 'Sustainability', 'Sustainability', 'Agrecalc', 'Agrecalc', 'Biodiversity consultancy', 'Biodiversity consultancy', 'Circular economy', 'Circular economy', 'Climate change', 'Climate change', 'Water & air quality', 'Water & air quality', 'Food & Footprint', 'Food & Footprint', 'Diversification', 'Diversification', 'AgriScot Diversified Farm of the Year award', 'AgriScot Diversified Farm of the Year award', 'Commercial opportunities', 'Commercial opportunities', 'Managing business finances', 'Managing business finances', 'Commission project management & research', 'Commission project management & research', 'Brand, marketing & digital advice', 'Brand, marketing & digital advice', 'Help in your sector', 'Help in your sector', 'Agricultural production', 'Agricultural production', 'Cattle & sheep', 'Cattle & sheep', 'Livestock Record Programme', 'Livestock Record Programme', 'Sheep & Beef News', 'Sheep & Beef News', 'Crops', 'Crops', 'Dairy', 'Dairy', 'Grassland management', 'Grassland management', 'GrazeUP', 'GrazeUP', 'Organic farming', 'Organic farming', 'Pigs', 'Pigs', 'Potatoes', 'Potatoes', 'Poultry', 'Poultry', 'Soils', 'Soils', 'Soil health testing', 'Soil health testing', 'Taking soil samples', 'Taking soil samples', 'Technical notes', 'Technical notes', 'Farm business management', 'Farm business management', 'Bookkeeping & payroll services', 'Bookkeeping & payroll services', 'Core farm services', 'Core farm services', 'Electricity Buying Service', 'Electricity Buying Service', 'Farm Management Handbook', 'Farm Management Handbook', 'Management & individual contracts', 'Management & individual contracts', 'MilkNET', 'MilkNET', 'Nitrate Vulnerable Zones', 'Nitrate Vulnerable Zones', 'Scottish Farm Business Survey', 'Scottish Farm Business Survey', 'Food & drink', 'Food & drink', 'Natural resource management', 'Natural resource management', 'By-products', 'By-products', 'SOMA', 'SOMA', 'Renewable energy', 'Renewable energy', 'Soil, water, air & waste', 'Soil, water, air & waste', 'Specialist projects', 'Specialist projects', 'Farm woodlands & forestry', 'Farm woodlands & forestry', 'Crofting', 'Crofting', 'Development planning & design', 'Development planning & design', 'Environmental assessments & planning', 'Environmental assessments & planning', 'Major projects', 'Major projects', 'Rural development', 'Rural development', 'Agritourism', 'Agritourism', 'Back', 'Research', 'discover section', 'Main Menu', 'Research', 'Facilities & capabilities', 'Research activities', 'Challenge Centres', 'Research operations', 'PhD opportunities', 'Research', 'Facilities & capabilities', 'Facilities & capabilities', 'Beef & sheep research', 'Beef & sheep research', 'Beef & sheep research facilities', 'Beef & sheep research facilities', 'Easter Howgate Farm', 'Easter Howgate Farm', 'Methane chambers', 'Methane chambers', 'Feed efficiency', 'Feed efficiency', 'Meat quality', 'Meat quality', 'CT scanning', 'CT scanning', 'Precision livestock farming', 'Precision livestock farming', 'Beef & sheep research projects', 'Beef & sheep research projects', 'Paraban', 'Paraban', 'Meet the Beef & sheep research team', 'Meet the Beef & sheep research team', 'Rural Policy Centre', 'Rural Policy Centre', 'Rural policy resources', 'Rural policy resources', 'Environment & climate', 'Environment & climate', 'Land use & land reform', 'Land use & land reform', 'Food, health & wellbeing', 'Food, health & wellbeing', 'Rural economies & communities', 'Rural economies & communities', 'Rural Policy events', 'Rural Policy events', 'Rural Brexit Hub', 'Rural Brexit Hub', 'About the Rural Policy Centre', 'About the Rural Policy Centre', 'Meet the team', 'Meet the team', 'Commission a project', 'Commission a project', 'Rural Policy Centre research & analysis', 'Rural Policy Centre research & analysis', 'Rural Report', 'Rural Report', 'SGSRP', 'SGSRP', 'Dairy Research & Innovation Centre', 'Dairy Research & Innovation Centre', 'Crichton Royal Farm', 'Crichton Royal Farm', 'Meet the Dairy team', 'Meet the Dairy team', 'Dairy Research Centre facilities', 'Dairy Research Centre facilities', 'Cows & feeding', 'Cows & feeding', 'Calf research facility', 'Calf research facility', 'Soil & grassland work', 'Soil & grassland work', 'Dairy projects', 'Dairy projects', 'Dairy sensors', 'Dairy sensors', 'Langhill breeding study', 'Langhill breeding study', 'Tanzania milk quality', 'Tanzania milk quality', 'GrASTech', 'GrASTech', 'Legumes Translated', 'Legumes Translated', 'SmartCow', 'SmartCow', 'Dairy-4-Future', 'Dairy-4-Future', 'Home-grown feeds', 'Home-grown feeds', 'Feeding by-products', 'Feeding by-products', 'Soil compaction', 'Soil compaction', 'Low protein diets', 'Low protein diets', 'Controlled traffic farming', 'Controlled traffic farming', 'Outwintering heifers', 'Outwintering heifers', 'Dairy PhD projects', 'Dairy PhD projects', 'Honours & Masters projects', 'Honours & Masters projects', 'CCC farming', 'CCC farming', 'Keeping Cow with Calf', 'Keeping Cow with Calf', 'Technical notes', 'Technical notes', 'Monogastric research', 'Monogastric research', 'Pig Info Group', 'Pig Info Group', 'Poultry activities', 'Poultry activities', 'Biosecurity', 'Biosecurity', 'Conventional, free-range & organic', 'Conventional, free-range & organic', 'Husbandry', 'Husbandry', 'Nutrition', 'Nutrition', 'Hill & mountain research', 'Hill & mountain research', 'Crop trials', 'Crop trials', 'Biorefining & advanced materials research', 'Biorefining & advanced materials research', 'Research activities', 'Research activities', 'Soils & plants', 'Soils & plants', 'Animal behaviour & welfare', 'Animal behaviour & welfare', 'Qualitative Behaviour Assessment app', 'Qualitative Behaviour Assessment app', 'Genetics & genomics', 'Genetics & genomics', 'Disease & epidemiology', 'Disease & epidemiology', 'Greenhouse gases & environment', 'Greenhouse gases & environment', 'Agri-food systems', 'Agri-food systems', 'Economics & policy', 'Economics & policy', 'International research', 'International research', 'Farming Minds', 'Farming Minds', 'Challenge Centres', 'Challenge Centres', 'Future food systems', 'Future food systems', 'Global climate emergency', 'Global climate emergency', 'Safe & improved food', 'Safe & improved food', 'Thriving natural capital', 'Thriving natural capital', 'Delivering data & digital innovation', 'Delivering data & digital innovation', 'Research operations', 'Research operations', 'Open access', 'Open access', 'Research ethics', 'Research ethics', 'Animal Ethical Committee', 'Animal Ethical Committee', 'PhD opportunities', 'PhD opportunities', 'Back', 'News & Events', 'discover section', 'Main Menu', 'News & Events', 'News & views', 'Events', 'Podcasts & videos', 'Newsletter', 'Media Centre', 'News & Events', 'News & views', 'News & views', 'Events', 'Events', 'Podcasts & videos', 'Podcasts & videos', 'SRUCBytes', 'SRUCBytes', 'SRUC Rural Policy podcast', 'SRUC Rural Policy podcast', 'Thriving Natural Capital podcast', 'Thriving Natural Capital podcast', 'Newsletter', 'Newsletter', 'Media Centre', 'Media Centre', 'Back', 'Connect', 'discover section', 'Main Menu', 'Connect', 'Contact us', 'Jobs', 'About SRUC', 'Find an expert', 'Alumni & friends', 'Facilities', 'Support SRUC', 'Connect', 'Contact us', 'Contact us', 'Jobs', 'Jobs', 'List of vacancies', 'List of vacancies', 'Recruitment process', 'Recruitment process', 'Application & interview advice', 'Application & interview advice', 'Skilled Worker visa guidance', 'Skilled Worker visa guidance', 'Costs involved in obtaining a visa', 'Costs involved in obtaining a visa', 'Working for SRUC', 'Working for SRUC', 'Benefits', 'Benefits', 'About SRUC', 'About SRUC', 'Our history', 'Our history', 'International activities', 'International activities', 'Governance', 'Governance', 'Policies & compliance', 'Policies & compliance', 'Procurement', 'Procurement', 'Finance & regulations', 'Finance & regulations', 'Compliance', 'Compliance', 'Privacy policy, GDPR & cookies', 'Privacy policy, GDPR & cookies', 'Freedom of information', 'Freedom of information', 'Complaints handling procedure', 'Complaints handling procedure', 'Modern Slavery Act', 'Modern Slavery Act', 'Accessibility', 'Accessibility', 'Climate Change Action Plan', 'Climate Change Action Plan', 'SRUC Shop', 'SRUC Shop', 'Equality, diversity & inclusion', 'Equality, diversity & inclusion', 'Covid-19 information', 'Covid-19 information', 'Covid-19 information for students', 'Covid-19 information for students', 'Covid-19 Veterinary Services update', 'Covid-19 Veterinary Services update', 'Find an expert', 'Find an expert', 'Alumni & friends', 'Alumni & friends', 'Alumni stories', 'Alumni stories', 'Keep in touch with the community', 'Keep in touch with the community', 'Update your details', 'Update your details', 'Alumni jobs & careers', 'Alumni jobs & careers', 'Employers looking for SRUC alumni', 'Employers looking for SRUC alumni', 'Recruitment agencies & sector specialists', 'Recruitment agencies & sector specialists', 'SRUC Matters magazine', 'SRUC Matters magazine', 'Alumni discount for postgraduate courses', 'Alumni discount for postgraduate courses', 'Facilities', 'Facilities', 'Campus libraries', 'Campus libraries', 'Holiday lets', 'Holiday lets', 'Scottish National Equestrian Centre', 'Scottish National Equestrian Centre', 'Golf courses', 'Golf courses', 'Conferences & events', 'Conferences & events', 'SRUC Oatridge conferences & events', 'SRUC Oatridge conferences & events', 'SRUC Barony conferences & events', 'SRUC Barony conferences & events', 'Support SRUC', 'Support SRUC', 'Back', '', 'https://sunderland.ac.uk', 'We use cookies to ensure you have the best browsing experience, to help us improve our website and for targeted advertising. By continuing to browse the site you are agreeing to our use of cookies, check our cookies page for more information.', 'Accept and close', '', 'https://surrey.ac.uk', ' We use cookies to help our site work, to understand how it is used, and to tailor ads that are more relevant to you and your interests.By accepting, you agree to cookies being stored on your device. You can view details and manage settings at any time on our cookies policy page.', '', 'https://sussex.ac.uk', 'FailedToFindBanner', '', 'https://staffs.ac.uk', \"Cookie settingsWe use cookies to help enhance site navigation, analyse site usage and assist in our marketing efforts. You can control which cookies are set when using our site by clicking 'Manage cookie settings'.\", '', 'https://ucas.com', 'FailedToFindBanner', '', 'https://stmarys.ac.uk', 'This website uses cookies to ensure we offer you the best possible experience on our website. By continuing to use our site, you agree to our cookie policy. Learn moreContinue', '', 'https://stir.ac.uk', 'The University of Stirling uses cookies for advertising and analytics. Read our website privacy notice to find out more.Close', '', 'https://www2.warwick.ac.uk', 'We use cookies to give you the best online experience. Please let us know if you agree to functional, advertising and performance cookies. You can update your cookie preferences at any time.', 'Cookie policy', '', 'https://cumbria.ac.uk', 'This website uses cookies to improve user experience. By using our website you consent to all cookies in accordance with our Cookie Policy. Accept & Close', '', 'https://uwtsd.ac.uk', 'FailedToFindBanner', '', 'https://westminster.ac.uk', 'We use cookies to ensure the best experience on our website.By accepting you agree to cookies being stored on your device.', '', 'https://uwe.ac.uk', 'FailedToFindBanner', '', 'https://tees.ac.uk', \"We use cookies to improve your experience on our site. Some of the cookies we use are essential for our site to work, others assist us with our marketing. You can use your browser to change your cookie settings, otherwise, we'll assume you're ok to continue.\", 'How we use cookiesI accept', '', 'https://uws.ac.uk', 'FailedToFindBanner', '', 'https://york.ac.uk', 'FailedToFindBanner', '', 'https://winchester.ac.uk', 'This website uses cookies to improve user experience. By using our website, you consent to all cookies in accordance with our Cookie Policy. I agree', '', 'https://writtle.ac.uk', \"This website uses cookies to give you the best online experience. If you'd like to know more or change your settings,our cookie policy explains more.\", 'Accept', '', 'https://acu.edu', 'This website uses cookies to enhance your user experience. To find out more, read our privacy policy.Cookie settingsACCEPT', 'Necessary cookies are absolutely essential for the website to function properly. This category only includes cookies that ensures basic functionalities and security features of the website. These cookies do not store any personal information.', '', 'https://adelphi.edu', 'This website uses cookies to give you the best experience. By continuing to use this website, you agree to our use of cookies. Privacy PolicyAccept', '', 'https://wlv.ac.uk', 'FailedToFindBanner', '', 'https://arts.ac.uk', 'Your choice regarding cookies on this siteWe use cookies to optimise site functionality and give you the best possible experience.', '', 'https://albion.edu', 'FailedToFindBanner', '', 'https://ambassador.edu', 'FailedToFindBanner', '', 'https://alverno.edu', 'FailedToFindBanner', '', 'https://alma.edu', 'FailedToFindBanner', '', 'https://alfred.edu', 'FailedToFindBanner', '', 'https://amherst.edu', 'FailedToFindBanner', '', 'https://alasu.edu', 'FailedToFindBanner', '', 'https://aic.edu', 'Privacy Policy and use of CookiesWe use cookies on our website to offer a better browsing experience, analyze web traffic and personalize content. By using our website, you agree to the use of cookies as described in our Privacy Policy.', 'AgreeDecline', 'Learn more about cookies', '', 'https://angelo.edu', 'FailedToFindBanner', '', 'https://american.edu', \"American University uses cookies and other technology on our website to improve your experience and to better understand how you use our websites. I agree to American University's use of cookies. Learn moreAgree\", '', 'https://antiochne.edu', 'We use cookies on our website to give you the most relevant experience by remembering your preferences and repeat visits. By clicking “Accept All”, you consent to the use of ALL the cookies. However, you may visit \"Cookie Settings\" to provide a controlled consent.Cookie SettingsAccept All', '', 'https://asu.edu', 'FailedToFindBanner', '', 'https://andrews.edu', 'FailedToFindBanner', '', 'https://aquinas.edu', 'FailedToFindBanner', '', 'https://astate.edu', 'FailedToFindBanner', '', 'https://atu.edu', 'FailedToFindBanner', '', 'https://appstate.edu', 'FailedToFindBanner', '', 'https://ashland.edu', 'FailedToFindBanner', '', 'https://assumption.edu', 'FailedToFindBanner', '', 'https://antiochla.edu', 'We use cookies on our website to give you the most relevant experience by remembering your preferences and repeat visits. By clicking “Accept All”, you consent to the use of ALL the cookies. However, you may visit \"Cookie Settings\" to provide a controlled consent.Cookie SettingsAccept All', '', 'https://auburn.edu', 'x', 'Cookie Acknowledgement', 'This website uses cookies to collect information to improve your browsing experience. Please review our ', '\\t\\t\\tPrivacy Statement for more information.', '\\t\\t', '', 'https://augustana.edu', 'FailedToFindBanner', '', 'https://apu.edu', '©2022 Azusa Pacific University901 E. Alosta Ave., Azusa, CA 91702', 'Contact Directory', 'Feedback', 'Privacy', 'Accessibility', 'This website uses cookies to gather anonymous usage data. By continuing to access this site, you consent to their use.For more information, view our privacy policy.', 'Accreditations', '', 'https://augie.edu', 'FailedToFindBanner', '', 'https://avila.edu', 'FailedToFindBanner', '', 'https://aurora.edu', 'FailedToFindBanner', '', 'https://averett.edu', 'This website uses cookies to understand how you use the website and to improve your experience. By continuing to use the website, you accept Averett University’s use of cookies and similar technologies. To learn more about our use of cookies and how to manage your browser cookie settings, please review our Privacy Policy. Accept Read More', '', 'https://bsu.edu', 'FailedToFindBanner', '', 'https://apsu.edu', 'FailedToFindBanner', '', 'https://bates.edu', 'FailedToFindBanner', '', 'https://barry.edu', 'FailedToFindBanner', '', 'https://bakeru.edu', 'FailedToFindBanner', '', 'https://bentley.edu', 'FailedToFindBanner', '', 'https://bethany.edu', 'FailedToFindBanner', '', 'https://babson.edu', ' CLOSE', 'We have changed our Privacy Statement and we use cookies on our website in an effort to improve your experience on our site.', 'If you continue to use our website, you are consenting to the revised Privacy Statement and the use of cookies in accordance with the Privacy Statement. For more information please see our Privacy Statement.', '', 'https://belmont.edu', 'FailedToFindBanner', '', 'https://beloit.edu', 'This site uses cookies to improve your experience. Read our Web Privacy Policy for more information.', 'Got it! ×', '', 'https://bennington.edu', 'FailedToFindBanner', '', 'https://bethelks.edu', 'FailedToFindBanner', '', 'https://baylor.edu', 'FailedToFindBanner', '', 'https://benedictine.edu', 'FailedToFindBanner', '', 'https://bethel.edu', 'FailedToFindBanner', '', 'https://aum.edu', 'FailedToFindBanner', '', 'https://berklee.edu', 'FailedToFindBanner', '', 'https://berea.edu', 'FailedToFindBanner', '', 'https://biola.edu', 'FailedToFindBanner', '', 'https://bsc.edu', 'FailedToFindBanner', '', 'https://bju.edu', 'FailedToFindBanner', '', 'https://bhsu.edu', 'FailedToFindBanner', '', 'https://bloomu.edu', 'FailedToFindBanner', '', 'https://bluffton.edu', 'FailedToFindBanner', '', 'https://bu.edu', 'FailedToFindBanner', '', 'https://bucknell.edu', 'FailedToFindBanner', '', 'https://calcoastuniv.edu', 'FailedToFindBanner', '', 'https://callutheran.edu', 'FailedToFindBanner', '', 'https://bvu.edu', 'FailedToFindBanner', '', 'https://calpoly.edu', 'FailedToFindBanner', '', 'https://csudh.edu', 'FailedToFindBanner', '', 'https://csuhayward.edu', 'FailedToFindBanner', '', 'https://csulb.edu', 'FailedToFindBanner', '', 'https://caltech.edu', 'FailedToFindBanner', '', 'https://calstate.edu', 'FailedToFindBanner', '', 'https://csum.edu', 'FailedToFindBanner', '', 'https://csun.edu', 'FailedToFindBanner', '', 'https://sjsu.edu', 'FailedToFindBanner', '', 'https://butler.edu', 'FailedToFindBanner', '', 'https://csusb.edu', 'FailedToFindBanner', '', 'https://csufresno.edu', 'FailedToFindBanner', '', 'https://csus.edu', 'FailedToFindBanner', '', 'https://calstatela.edu', 'FailedToFindBanner', '', 'https://csusm.edu', 'FailedToFindBanner', '', 'https://csustan.edu', 'FailedToFindBanner', '', 'https://cameron.edu', 'FailedToFindBanner', '', 'https://carleton.edu', 'FailedToFindBanner', '', 'https://calvin.edu', 'FailedToFindBanner', '', 'https://campbell.edu', 'FailedToFindBanner', '', 'https://carthage.edu', 'FailedToFindBanner', '', 'https://canisius.edu', 'FailedToFindBanner', '', 'https://centenary.edu', 'FailedToFindBanner', '', 'https://cn.edu', 'FailedToFindBanner', '', 'https://carroll.edu', 'We use cookies on this site to enhance your user experienceBy clicking any link on this page you are giving your consent for us to set cookies. More info', '', 'https://carlow.edu', 'FailedToFindBanner', '', 'https://cmu.edu', 'FailedToFindBanner', '', 'https://cwru.edu', 'FailedToFindBanner', '', 'https://cua.edu', 'FailedToFindBanner', '', 'https://cmc.edu', 'FailedToFindBanner', '', 'https://cedarville.edu', 'FailedToFindBanner', '', 'https://central.edu', 'FailedToFindBanner', '', 'https://chesapeake.edu', 'FailedToFindBanner', '', 'https://cmich.edu', 'We use cookies to give you a Fired Up web experience.', 'By continuing to use the site, you are agreeing to our use of cookies. Privacy Policy.', 'OK', 'OK', '', 'https://chatham.edu', 'FailedToFindBanner', '', 'https://cheyney.edu', 'FailedToFindBanner', '', 'https://centre.edu', 'FailedToFindBanner', '', 'https://chapman.edu', 'FailedToFindBanner', '', 'https://cwu.edu', 'FailedToFindBanner', '', 'https://cnu.edu', 'FailedToFindBanner', '', 'https://champlain.edu', 'FailedToFindBanner', '', 'https://cts.edu', 'FailedToFindBanner', '', 'https://cuny.edu', 'FailedToFindBanner', '', 'https://citadel.edu', 'FailedToFindBanner', '', 'https://csuohio.edu', 'FailedToFindBanner', '', 'https://clarkson.edu', 'FailedToFindBanner', '', 'https://cbu.edu', 'FailedToFindBanner', '', 'https://coastal.edu', 'FailedToFindBanner', '', 'https://cityu.edu', 'FailedToFindBanner', '', 'https://clarku.edu', 'FailedToFindBanner', '', 'https://colgate.edu', 'FailedToFindBanner', '', 'https://coe.edu', 'FailedToFindBanner', '', 'https://ceu.edu', 'The Central European University website uses cookies to ensure the basic functionality of the site and for statistical and optimization purposes. It also uses cookies to display content such as YouTube videos and for marketing purposes. Learn more:\\xa0CEU Cookie Statement. You may either accept or reject usage of cookies via the following links.', 'More info', '', 'https://coa.edu', 'FailedToFindBanner', '', 'https://stkate.edu', 'FailedToFindBanner', '', 'https://csbsju.edu', 'FailedToFindBanner', '', 'https://clarke.edu', 'FailedToFindBanner', '', 'https://holycross.edu', 'FailedToFindBanner', '', 'https://clemson.edu', 'FailedToFindBanner', '', 'https://cofc.edu', 'FailedToFindBanner', '', 'https://coker.edu', 'FailedToFindBanner', '', 'https://css.edu', 'FailedToFindBanner', '', 'https://ccu.edu', 'Colorado Christian University uses cookies to enhance your browsing experience through analysis of our site usage, and assists us in our marketing and promotional efforts. By continuing to use the site, you agree to the storage of first- and third-party cookies on your device. Privacy policy.Okay, thanks', '', 'https://stfrancis.edu', 'FailedToFindBanner', '', 'https://colsouth.edu', 'FailedToFindBanner', '', 'https://strose.edu', '<img style=\"float: left;padding-right:5px\" class=\"left lazy\" alt=\"\" src=\"data:image/svg+xml,%3Csvg%20xmlns=\\'http://www.w3.org/2000/svg\\'%20viewBox=\\'0%200%201%201\\'%3E%3C/svg%3E\" data-src=\"https://s3.amazonaws.com/strosemedia/wp-content/uploads/2019/05/30151907/Golden-Knight.png\" />We use cookies to ensure that we give you the best experience on our website. If you continue to use this site, we will assume you have agreed to our policy.', '', 'https://wm.edu', 'That’s one smart cookie.We use cookies to analyze traffic and improve your experience. By continuing without changing your cookie settings, you agree to this convention. For more information, please see our Privacy & Security Statement.Ok, Got It', '', 'https://cord.edu', 'FailedToFindBanner', '', 'https://columbia.edu', 'FailedToFindBanner', '', 'https://wooster.edu', 'FailedToFindBanner', '', 'https://colum.edu', 'FailedToFindBanner', '', 'https://curry.edu', 'FailedToFindBanner', '', 'https://dsu.edu', 'FailedToFindBanner', '', 'https://csp.edu', 'FailedToFindBanner', '', 'https://cooper.edu', 'FailedToFindBanner', '', 'https://daemen.edu', 'FailedToFindBanner', '', 'https://cornell.edu', 'FailedToFindBanner', '', 'https://dwu.edu', 'FailedToFindBanner', '', 'https://creighton.edu', 'By clicking “Accept All Cookies”, you agree to the storing of cookies on your device to enhance site navigation, analyze site usage, and assist in our marketing efforts.Cookie/Privacy Policy', '', 'https://dbu.edu', 'FailedToFindBanner', '', 'https://dartmouth.edu', 'FailedToFindBanner', '', 'https://davenport.edu', 'FailedToFindBanner', '', 'https://davidson.edu', 'FailedToFindBanner', '', 'https://depauw.edu', 'FailedToFindBanner', '', 'https://conncoll.edu', 'FailedToFindBanner', '', 'https://devry.edu', 'FailedToFindBanner', '', 'https://duq.edu', 'FailedToFindBanner', '', 'https://Dordt.edu', 'FailedToFindBanner', '', 'https://duke.edu', 'FailedToFindBanner', '', 'https://dickinson.edu', 'FailedToFindBanner', '', 'https://depaul.edu', 'FailedToFindBanner', '', 'https://drew.edu', 'FailedToFindBanner', '', 'https://drexel.edu', 'FailedToFindBanner', '', 'https://drake.edu', 'FailedToFindBanner', '', 'https://drury.edu', 'FailedToFindBanner', '', 'https://earlham.edu', 'FailedToFindBanner', '', 'https://denison.edu', 'FailedToFindBanner', '', 'https://eiu.edu', 'FailedToFindBanner', '', 'https://esu.edu', 'FailedToFindBanner', '', 'https://ecu.edu', 'FailedToFindBanner', '', 'https://emich.edu', 'FailedToFindBanner', '', 'https://eku.edu', 'FailedToFindBanner', '', 'https://emu.edu', 'We use cookies to analyze traffic and improve your experience. By continuing without', '\\t\\t\\t\\t\\tchanging your cookie settings, you agree to this convention. For more information,', '\\t\\t\\t\\t\\tplease see our Privacy Notice Policy.', '\\t\\t\\t\\t', 'Ok, Got It', '', 'https://etsu.edu', 'FailedToFindBanner', '', 'https://dillard.edu', 'FailedToFindBanner', '', 'https://edgewood.edu', 'FailedToFindBanner', '', 'https://dominican.edu', 'FailedToFindBanner', '', 'https://erau.edu', 'OK Accept Privacy Statement', '\\t\\t\\tThis website uses cookies and similar tools and technologies to understand visitors’ experiences. By\\xa0continuing to use this website, you consent to Embry-Riddle Aeronautical University’s use of cookies and similar technologies, in accordance with the Embry-Riddle Privacy\\xa0Statement.', '\\t\\t', '', 'https://emerson.edu', 'We use cookies on this site to enhance your user experienceBy continuing to use this site, you agree to our\\xa0use of cookies.', '', 'https://enmu.edu', 'FailedToFindBanner', '', 'https://emmanuel.edu', 'FailedToFindBanner', '', 'https://ecok.edu', 'FailedToFindBanner', '', 'https://emporia.edu', 'FailedToFindBanner', '', 'https://edinboro.edu', 'FailedToFindBanner', '', 'https://emory.edu', 'FailedToFindBanner', '', 'https://elmhurst.edu', 'FailedToFindBanner', '', 'https://evergreen.edu', 'FailedToFindBanner', '', 'https://ewu.edu', 'FailedToFindBanner', '', 'https://etown.edu', 'FailedToFindBanner', '', 'https://fdu.edu', 'FailedToFindBanner', '', 'https://elon.edu', 'FailedToFindBanner', '', 'https://ferris.edu', 'By clicking “Accept All Cookies”, you agree to the storing of cookies on your device to enhance site navigation, analyze site usage, and assist in our marketing efforts. Privacy & Cookie Policy', '', 'https://fiu.edu', 'FailedToFindBanner', '', 'https://fsu.edu', 'FailedToFindBanner', '', 'https://fisk.edu', 'FailedToFindBanner', '', 'https://fgcu.edu', 'FGCU Privacy Policy', 'This website stores cookies on your computer to improve your browsing experience.', 'The university does not collect personal information as you browse. Learn about our', 'Privacy and GDPR statements.', ' ', '', 'https://fit.edu', 'FailedToFindBanner', '', 'https://fhsu.edu', 'FailedToFindBanner', '', 'https://fielding.edu', 'FailedToFindBanner', '', 'https://famu.edu', 'FailedToFindBanner', '', 'https://friends.edu', 'FailedToFindBanner', '', 'https://franklin.edu', 'FailedToFindBanner', '', 'https://fuller.edu', 'We use cookies to ensure that we give you the best experience on our website. If you continue use this site we will assume that you agree to this.Ok', '', 'https://fordham.edu', 'FailedToFindBanner', '', 'https://fandm.edu', 'We use cookies to enhance our website and improve your browsing experience. To accept cookies click the \"I Understand\" button, or view our privacy page for more information.', '', 'https://fau.edu', 'FailedToFindBanner', '', 'https://gettysburg.edu', 'FailedToFindBanner', '', 'https://gatech.edu', 'This website uses cookies.\\xa0For more information, review our\\xa0Privacy & Legal Notice.\\xa0Questions?\\xa0Please email\\xa0privacy@gatech.edu. No, give me more info', '', 'https://gannon.edu', 'FailedToFindBanner', '', 'https://fortlewis.edu', 'FailedToFindBanner', '', 'https://geneva.edu', 'FailedToFindBanner', '', 'https://fontbonne.edu', 'We analyze traffic to this site. We collect statistical data on an aggregated basis through Google Analytics. For example, we collect information about the domain names of servers that bring visitors to our site. We count the number of visitors and keep track of where they go on our site. Such information allows us to find out what areas users visit most frequently and what services they access the most, which enables us to create a better overall user experience. To gather such data, we use cookie technology, which collects data in aggregate form, not by individual user.', '', 'https://fresno.edu', 'FailedToFindBanner', '', 'https://gmu.edu', 'FailedToFindBanner', '', 'https://bgu.edu', 'FailedToFindBanner', '', 'https://gvsu.edu', 'FailedToFindBanner', '', 'https://georgian.edu', 'We use cookies and similar technologies to understand our visitors’ experiences. By continuing to use this website, you agree to this condition of use. For further information please see our privacy policy. ', '', 'https://goshen.edu', 'FailedToFindBanner', '', 'https://gsu.edu', 'FailedToFindBanner', '', 'https://guilford.edu', 'FailedToFindBanner', '', 'https://gallaudet.edu', 'FailedToFindBanner', '', 'https://georgetown.edu', 'FailedToFindBanner', '', 'https://gonzaga.edu', 'FailedToFindBanner', '', 'https://hampshire.edu', 'FailedToFindBanner', '', 'https://grace.edu', 'FailedToFindBanner', '', 'https://hamline.edu', 'COVID-19 Information', 'Request Info', 'Menu', 'Academics', 'Academics', 'Academics', 'Undergraduate', 'Graduate', 'Law', 'Online', 'Study Abroad', 'Schools and Colleges', 'Library and Archives', 'Continuing Education', 'Admission', 'Admission', 'Admission', 'Undergraduate', 'Graduate Admission', \"Online Bachelor's Completion\", 'Transfer', 'International', 'Tuition and Aid', 'Request Information', 'Visit', 'Life at Hamline', 'Life at Hamline', 'Life at Hamline', 'Academic Assistance', 'Activities', 'Athletics', 'Bookstore', 'Careers and Internships', 'Counseling and Health', 'Housing and Dining', 'Neighborhood', 'Transportation', 'About', 'About', 'About', 'Fast Facts', 'Maps and Locations', 'Virtual Tour', 'Rankings', 'Mission and History', \"President's Office\", 'Inclusive Excellence', 'Offices and Services', 'Employment', 'Resources', 'Resources', 'Resources', 'Current Students', 'Admitted Students', 'International Students', 'Families and Parents', 'Faculty and Staff', 'Military Student Resource Center', 'Alumni', 'Neighbors', 'HEOA Consumer Information Disclosures', 'Alumni & Donors', 'Alumni & Donors', 'Alumni & Donors', 'Alumni Directory', 'Alumni Events', 'Hamline Magazine', 'Make a Gift Now', 'Ways to Give', 'Take the Lead Campaign', 'Contact Us', 'Search', 'Search:', 'Academic Calendar', 'News', 'Events', 'Directory', 'Maps', 'Contact', 'Logins', 'Logins', 'Email', 'Canvas', 'Banner', 'Piperline', 'Workday', 'Password Reset', 'Course Listings', 'More', 'Apply', 'Academic Calendar | ', '\\t\\t\\t\\t\\t\\t', 'News | Events | ', '\\t\\t\\t\\t\\t\\t', 'Directory', 'Maps | ', '\\t\\t\\t\\t\\t\\t', 'Contact | ', '\\t\\t\\t\\t\\t\\t', 'Logins | ', '\\t\\t\\t\\t\\t\\t', 'Apply', 'Search', 'Search', 'Apply', 'Request Info', \"Hamline's Home Page Content\", ' ', 'A diploma that makes a difference.', '\\t\\t\\tWe take the lead.', '\\t\\t', 'Get more info', 'Apply', 'FIND YOUR PROGRAM', ' ', 'We do all the good we can.', 'Whether it’s volunteering with community cleanup efforts or working with students at Hamline Elementary, we believe in putting education into service.', 'Visit Campus', 'Graduate Info Sessions', ' ', 'Hamline Admissions', 'FIND YOUR PROGRAM', 'UNDERGRADUATE', 'Major, minor, and certificate programs', 'Choose Your Area of Study', 'Select', 'Business and Economics ', 'Education', 'Fine Arts', 'Global Studies', 'Humanities and Culture', 'Law, Political Science, and Public Policy', 'Math, Science, and Technology', 'Psychology and Social Sciences', 'Additional licensure programs ›', 'Administrative licensure ›', 'Continuing studies courses ›', 'Doctorate in Education ›', 'Educational Specialist ›', 'Graduate business certificates ›', 'Graduate education certificates ›', 'Master of Arts in Education ›', 'Master of Arts in Literacy Education ›', 'Master of Arts in Natural Science and Environmental Education ›', 'Master of Arts in Teaching - Initial MN Teaching License ›', 'Master of Arts in Teaching English to Speakers of Other Languages ›', 'Master of Arts in the Study of Law ›', 'Master of Arts in Writing for Children and Young Adults ›', 'Master of Business Administration ›', 'Master of Fine Arts in Creative Writing ›', 'Master of Management and Leadership ›', 'Master of Nonprofit Management ›', 'Master of Public Administration ›', 'Master of Science in Business Analytics ›', 'Paralegal certificate ›', 'PhD in Management and Public Service ›', 'Accounting ›', 'Anthropology ›', 'Art (studio arts) ›', 'Art history ›', 'Biochemistry ›', 'Biology ›', 'Business ›', 'Business analytics ›', 'Chemistry ›', 'Chinese ›', 'Communication studies ›', 'Computational data science ›', 'Conflict studies ›', 'Creative writing ›', 'Criminology and criminal justice ›', 'Digital media arts ›', 'Economics ›', 'Education ›', 'Education (co-major) ›', 'Education (minor) ›', 'Electrical engineering (pre-professional) ›', 'English ›', 'Exercise science ›', 'Finance ›', 'Forensic Psychology (concentration) ›', 'Forensic science (certificate, minor only) ›', 'German ›', 'Global studies ›', 'History ›', 'International business ›', 'Law (pre-professional) ›', 'Legal studies ›', 'Linguistics ›', 'Linguistics (applied) ›', 'Management ›', 'Marketing ›', 'Mathematics ›', 'Mechanical engineering (pre-professional) ›', 'Medical (pre-professional) ›', 'Music ›', 'Neuroscience ›', 'Nonprofit management (minor only) ›', 'Paralegal certificate ›', 'Philosophy ›', 'Physics ›', 'Political science ›', 'Professional writing ›', 'Psychology ›', 'Public health sciences ›', 'Religion ›', 'Rhetoric ›', 'Social justice ›', 'Sociology ›', 'Spanish ›', 'Theatre arts ›', \"Women's studies ›\", 'GRADUATE', \"Master's, doctoral, and certificate programs\", 'Choose Your Area of Study', 'Select', 'Business and Public Administration', 'Education', 'Legal Studies', 'Writing', 'Additional licensure programs ›', 'Administrative licensure ›', 'Continuing studies courses ›', 'Doctorate in Education ›', 'Educational Specialist ›', 'Graduate business certificates ›', 'Graduate education certificates ›', 'Master of Arts in Education ›', 'Master of Arts in Literacy Education ›', 'Master of Arts in Natural Science and Environmental Education ›', 'Master of Arts in Teaching - Initial MN Teaching License ›', 'Master of Arts in Teaching English to Speakers of Other Languages ›', 'Master of Arts in the Study of Law ›', 'Master of Arts in Writing for Children and Young Adults ›', 'Master of Business Administration ›', 'Master of Fine Arts in Creative Writing ›', 'Master of Management and Leadership ›', 'Master of Nonprofit Management ›', 'Master of Public Administration ›', 'Master of Science in Business Analytics ›', 'Paralegal certificate ›', 'PhD in Management and Public Service ›', 'Accounting ›', 'Anthropology ›', 'Art (studio arts) ›', 'Art history ›', 'Biochemistry ›', 'Biology ›', 'Business ›', 'Business analytics ›', 'Chemistry ›', 'Chinese ›', 'Communication studies ›', 'Computational data science ›', 'Conflict studies ›', 'Creative writing ›', 'Criminology and criminal justice ›', 'Digital media arts ›', 'Economics ›', 'Education ›', 'Education (co-major) ›', 'Education (minor) ›', 'Electrical engineering (pre-professional) ›', 'English ›', 'Exercise science ›', 'Finance ›', 'Forensic Psychology (concentration) ›', 'Forensic science (certificate, minor only) ›', 'German ›', 'Global studies ›', 'History ›', 'International business ›', 'Law (pre-professional) ›', 'Legal studies ›', 'Linguistics ›', 'Linguistics (applied) ›', 'Management ›', 'Marketing ›', 'Mathematics ›', 'Mechanical engineering (pre-professional) ›', 'Medical (pre-professional) ›', 'Music ›', 'Neuroscience ›', 'Nonprofit management (minor only) ›', 'Paralegal certificate ›', 'Philosophy ›', 'Physics ›', 'Political science ›', 'Professional writing ›', 'Psychology ›', 'Public health sciences ›', 'Religion ›', 'Rhetoric ›', 'Social justice ›', 'Sociology ›', 'Spanish ›', 'Theatre arts ›', \"Women's studies ›\", ' ', 'The Undergraduate ExperienceReal-world experience, built into your education.', 'No matter what you study, you’ll graduate with service learning, hands-on research, or an internship on your résumé. Or all three. Because in today’s world, real-life experiences aren’t merely a perk: they’re a necessity.', \"- Mari Johnson ’20, physics majorExplore ProgramsUndergraduate AdmissionTransfer to HamlineComplete Your Bachelor's Online\", ' ', 'Hamline Admissions', 'The Graduate ExperienceGain 21st-century leadership skills.', 'Our graduate programs help students build the expertise they need to succeed—and lead.', '(pictured) Abdul Wright ’16 MA-Education, 2016 Minnesota Teacher of the YearExplore Graduate ProgramsGraduate AdmissionInformation Sessions', ' ', 'Hamline Admissions', ' ', 'Hamline Admissions', ' ', 'Hamline Admissions', 'Facebook', 'Twitter', 'YouTube', 'Instagram', \"AcademicsUndergraduateGraduateLawOnlineStudy AbroadSchools and CollegesLibrary and ArchivesContinuing EducationAdmissionUndergraduateGraduate AdmissionOnline Bachelor's CompletionTransferInternationalTuition and AidRequest InformationVisitLife at HamlineAcademic AssistanceActivitiesAthleticsBookstoreCareers and InternshipsCounseling and HealthHousing and DiningNeighborhoodTransportationAboutFast FactsMaps and LocationsVirtual TourMission and HistoryPresident's OfficeInclusive ExcellenceOffices and ServicesEmploymentResourcesCurrent StudentsAdmitted StudentsInternational StudentsFamilies and ParentsFaculty and StaffMilitary Student Resource CenterAlumniNeighborsCARES ActHEOA Consumer Information Disclosures\", '\\t\\t\\t\\t\\t\\t\\t\\tTitle IX', '\\t\\t\\t\\t\\t\\t\\t', 'Why is this h3 here', 'In affiliation with:', '\\xa0 ', 'Mitchell Hamline School of Law* has more enrollment options than any law school in the nation.', '© 2021 Hamline University', '1536 Hewitt Avenue Saint Paul, MN 55104', 'Accreditation', 'Contact', 'Privacy', 'Campus Map', '', 'https://graceland.edu', 'We are using cookies to give you the best experience on our website.You can find out more about which cookies we are using or switch them off in settings.', '', 'https://harding.edu', 'We use cookies to ensure that we give you the best experience on our website. If you continue to use this site we will assume that you are happy with it. OK', '', 'https://heidelberg.edu', 'FailedToFindBanner', '', 'https://goucher.edu', 'FailedToFindBanner', '', 'https://hartwick.edu', 'FailedToFindBanner', '', 'https://hpu.edu', 'FailedToFindBanner', '', 'https://hesston.edu', 'FailedToFindBanner', '', 'https://ggu.edu', 'FailedToFindBanner', '', 'https://haskell.edu', 'FailedToFindBanner', '', 'https://hanover.edu', 'FailedToFindBanner', '', 'https://harvard.edu', 'FailedToFindBanner', '', 'https://hastings.edu', 'FailedToFindBanner', '', 'https://haverford.edu', 'FailedToFindBanner', '', 'https://hendrix.edu', 'FailedToFindBanner', '', 'https://hamilton.edu', \"A fortune cookie once told me: writing is a craft, not an art. I try to live by this fortune cookie's wisdom. I definitely don't view writing as a talent; my writing is full of practice, hard work, perseverance and diligence.\", '', 'https://hillsdale.edu', 'FailedToFindBanner', '', 'https://hood.edu', 'FailedToFindBanner', '', 'https://hunter.cuny.edu', 'FailedToFindBanner', '', 'https://hollins.edu', 'FailedToFindBanner', '', 'https://humboldt.edu', 'FailedToFindBanner', '', 'https://howard.edu', 'FailedToFindBanner', '', 'https://hws.edu', 'FailedToFindBanner', '', 'https://hofstra.edu', 'FailedToFindBanner', '', 'https://highpoint.edu', 'FailedToFindBanner', '', 'https://iit.edu', 'FailedToFindBanner', '', 'https://hiram.edu', 'FailedToFindBanner', '', 'https://isu.edu', 'FailedToFindBanner', '', 'https://iup.edu', 'FailedToFindBanner', '', 'https://iupui.edu', 'FailedToFindBanner', '', 'https://indiana.edu', 'FailedToFindBanner', '', 'https://indwes.edu', 'FailedToFindBanner', '', 'https://ilstu.edu', 'FailedToFindBanner', '', 'https://ibc.edu', 'FailedToFindBanner', '', 'https://ithaca.edu', 'FailedToFindBanner', '', 'https://iastate.edu', 'FailedToFindBanner', '', 'https://jc.edu', 'FailedToFindBanner', '', 'https://iona.edu', 'We use cookies on this site to enhance your user experience.By continuing to use this site, you agree to the use of cookies. Privacy Policy.I agree', '', 'https://ju.edu', 'FailedToFindBanner', '', 'https://huntingdon.edu', 'FailedToFindBanner', '', 'https://jones.edu', 'FailedToFindBanner', '', 'https://metro.inter.edu', 'FailedToFindBanner', '', 'https://jsu.edu', 'FailedToFindBanner', '', 'https://jbc.edu', 'FailedToFindBanner', '', 'https://jtsa.edu', 'FailedToFindBanner', '', 'https://jfku.edu', 'This site uses cookies to offer you a better browsing experience, analyze site traffic, personalize content, and serve targeted advertisements. Review our cookies and privacy policy for more information. If you continue to use this site, you consent to our use of cookies.×', '', 'https://kwu.edu', 'FailedToFindBanner', '', 'https://jhu.edu', 'FailedToFindBanner', '', 'https://ksu.edu', 'FailedToFindBanner', '', 'https://juniata.edu', 'FailedToFindBanner', '', 'https://keene.edu', 'FailedToFindBanner', '', 'https://kzoo.edu', 'FailedToFindBanner', '', 'https://jwu.edu', 'FailedToFindBanner', '', 'https://jcsu.edu', 'FailedToFindBanner', '', 'https://kean.edu', 'FailedToFindBanner', '', 'https://kenyon.edu', 'FailedToFindBanner', '', 'https://judson.edu', 'FailedToFindBanner', '', 'https://lasierra.edu', 'FailedToFindBanner', '', 'https://knox.edu', 'FailedToFindBanner', '', 'https://ltu.edu', 'Lawrence Technological University, near Detroit, MI, A private university with programs in the Arts & Sciences, Architecture & Design, Business Management, Engineering and Technology fields. ', ' 21000 West Ten Mile Road', 'Southfield, MI, 48075-1058 ', '1 800 CALL LTU 1-800-225-5588 ', '(1 800 225 5588)', 'Admissions', 'Academics', 'Campus Life', 'Community', 'Current Students', 'Faculty + Staff', 'News', 'Events', 'Athletics', 'Alumni', 'Give Now', 'Apply', 'Home', 'Contact Us', 'Site Map', ' © 2022 Lawrence Technological University \\xa0 | \\xa0 Privacy Statement', \"\\t\\tThis site uses cookies to provide you with a better experience. For information on LTU's cookie policy, please visit this page.\", '\\t\\tBy continuing to use the site or closing this banner, you are agreeing to our terms of use.', '\\t\\t×', ' ', '×', 'Request Info', 'Get Personalized Information Based on your Interests', ' Lawrence Technological University has created a personalized, easy-access web site for prospective students. ', ' You can start by setting up your own VIP interest page. Based on your unique interests and needs, we will communicate directly with you about events and other important information you might like to know. ', ' To create your VIP interest page, choose the level of admissions you are seeking: ', 'Undergraduate ', 'Graduate ', ' Contact us today. ', '248.204.3160 ', '800.225.5588 ', 'admissions@ltu.edu ', 'We look forward to hearing from you!', '×', 'Heading', ' ', '×', 'Heading', ' ', '×', '×', ' ', '×', ' ', '× close', 'Heading', ' ', ' [Read more ]', '', 'https://lawrence.edu', 'FailedToFindBanner', '', 'https://lafayette.edu', 'FailedToFindBanner', '', 'https://kutztown.edu', 'FailedToFindBanner', '', 'https://lfc.edu', 'FailedToFindBanner', '', 'https://lssu.edu', 'FailedToFindBanner', '', 'https://lcsc.edu', 'FailedToFindBanner', '', 'https://lehigh.edu', 'FailedToFindBanner', '', 'https://lewisu.edu', 'FailedToFindBanner', '', 'https://lclark.edu', 'FailedToFindBanner', '', 'https://linfield.edu', 'FailedToFindBanner', '', 'https://liunet.edu', 'FailedToFindBanner', '', 'https://kings.edu', 'FailedToFindBanner', '', 'https://lemoyne.edu', 'FailedToFindBanner', '', 'https://lamar.edu', 'FailedToFindBanner', '', 'https://llu.edu', 'FailedToFindBanner', '', 'https://lvc.edu', 'FailedToFindBanner', '', 'https://loras.edu', 'FailedToFindBanner', '', 'https://lasalle.edu', 'FailedToFindBanner', '', 'https://loyola.edu', 'FailedToFindBanner', '', 'https://letu.edu', 'FailedToFindBanner', '', 'https://liberty.edu', 'FailedToFindBanner', '', 'https://luc.edu', 'FailedToFindBanner', '', 'https://lsu.edu', 'This website uses cookies to ensure site visitors get the best experience on our website. By continuing to use this site, you accept our use of cookies and Privacy Statement. To learn more, please visit LSU Privacy Statement.', '', 'https://lsua.edu', 'FailedToFindBanner', '', 'https://lycoming.edu', 'We use cookies on this site to enhance your user experience. To accept cookies click the \"Ok, I agree\" button, or view our privacy statement for more information.', '', 'https://luther.edu', 'FailedToFindBanner', '', 'https://lmu.edu', 'FailedToFindBanner', '', 'https://lacollege.edu', 'FailedToFindBanner', '', 'https://mancol.edu', 'FailedToFindBanner', '', 'https://luthersem.edu', 'FailedToFindBanner', '', 'https://malone.edu', 'FailedToFindBanner', '', 'https://latech.edu', 'FailedToFindBanner', '', 'https://mu.edu', 'FailedToFindBanner', '', 'https://marlboro.edu', 'FailedToFindBanner', '', 'https://mit.edu', 'FailedToFindBanner', '', 'https://marietta.edu', 'FailedToFindBanner', '', 'https://mcneese.edu', 'FailedToFindBanner', '', 'https://marymount.edu', 'FailedToFindBanner', '', 'https://lyon.edu', 'FailedToFindBanner', '', 'https://mcw.edu', 'FailedToFindBanner', '', 'https://lynchburg.edu', 'FailedToFindBanner', '', 'https://mum.edu', 'FailedToFindBanner', '', 'https://muohio.edu', 'FailedToFindBanner', '', 'https://msu.edu', 'FailedToFindBanner', '', 'https://mercy.edu', 'FailedToFindBanner', '', 'https://middlebury.edu', 'FailedToFindBanner', '', 'https://mtsu.edu', 'FailedToFindBanner', '', 'https://meredith.edu', 'FailedToFindBanner', '', 'https://mtu.edu', 'FailedToFindBanner', '', 'https://millikin.edu', 'FailedToFindBanner', '', 'https://millsaps.edu', 'FailedToFindBanner', '', 'https://misu.nodak.edu', 'FailedToFindBanner', '', 'https://mcad.edu', 'FailedToFindBanner', '', 'https://msoe.edu', 'FailedToFindBanner', '', '']\n",
            "[('https://uk250.co.uk', 'Got it!This website uses cookies to ensure you get the best experience on our website More infoCookie Consent plugin for the EU cookie law'), ('https://gla.ac.uk', 'The University of Glasgow uses cookies for analytics and advertising.Find out more about our Privacy policy. privacy settingsclose'), ('https://mango.com', 'We use our own and third-party cookies for analytical purposes and to show you advertising and personalised content based on a profile prepared from your browsing habits. You can accept all the cookies or manage your preferences in the settings panel. For more information, consult theCookies Policy.'), ('https://anglia.ac.uk', 'We use cookies to improve your browsing experience, monitor how our site is used, and aid us with advertising. By continuing to use our site you are agreeing to our privacy and cookies policy.'), ('https://bangor.ac.uk', 'This website uses cookies to improve your experience and distinguish you from other users. By continuing to browse this site, we assume you agree to this. For more information please view our cookie policy.'), ('https://aston.ac.uk', 'We use cookies to enhance your online experienceTo find out more, please read ourupdated privacy policy and cookie policy'), ('https://bcu.ac.uk', \"Recent searchesWe won't record your recent searches as you have opted out of functional cookies.You can change this on our Manage Privacy page should you wish to.\"), ('https://abdn.ac.uk', \"We use cookies to give you the best possible experienceIf you don't want to accept cookies you can change preferences\"), ('https://abertay.ac.uk', \"We use cookies to ensure we provide you with the best user experience. If you continue without changing your settings, we'll assume that you are happy to receive cookies from our site. Learn more.\"), ('https://bath.ac.uk', '© University of Bath 2022DisclaimerFreedom of informationModern slavery statementPrivacy and cookie policyStaying COVID-19 SecureTransparency informationWebsite accessibility statement'), ('https://bolton.ac.uk', 'This website uses cookiesWe use cookies to personalise content and ads, to provide social media features and to analyse our traffic. We also share information about your use of our site with our social media,advertising and analytics partners who may combine it with other information that you’ve provided to them or that they’ve collected from your use of their services.You consent to our cookies if you continue to use our website.Learn more.BasicPreferencesStatisticsMarketingAccept'), ('https://reddit.com', 'We use cookies on our websites for a number of purposes, including analytics and performance, functionality and advertising.\\xa0Learn more about Reddit’s use of cookies.Reject non-essentialAccept all'), ('https://cam.ac.uk', 'Your cookie choicesCookies are little files that we save on your device to make sure we remember your preferences.We use necessary cookies to make our site work. We use site usage measurement cookies to analyse anonymised usage patterns, to make our websites better for you.You may choose to opt-in to use optional cookies for personalisation and to remember your social marketing preferences. Give me more information'), ('https://bournemouth.ac.uk', 'This site uses cookies and by using the site you are consenting to this. Find out more about what cookies we use and why in our privacy policy.'), ('https://brighton.ac.uk', ' Skip to contentSkip to footerAccessibility options About us  Business and employers  Alumni andsupporters  Forstudents  For staff  AccessibilityoptionsClose Study Courses and subjects Find a course A-Z course list Explore our subjects Academic departments Visiting the universityExplore: get to know usOnline eventsVirtual toursChat to our students and staffOpen daysApplicant daysOrder a prospectus Ask a question Studying here Accommodation and locations Applying Undergraduate Postgraduate Transferring from another universityThe Student ContractClearingInternational students Fees and finance Advice and helpAdvice for students Advice for parents and carers Advice for schools and teachers Managing your applicationUndergraduatePostgraduateApprenticeships Research Research and knowledge exchangeResearch and knowledge exchange organisationBrighton Futures – our themesCentres of Research and Enterprise Excellence (COREs) Research and Enterprise Groups (REGs)Our research database Information for business Community University Partnership Programme (CUPP)Postgraduate research degrees PhD research disciplines and programmes PhD funding opportunities and studentshipsHow to apply for your PhD Research environment Investing in research careers Strategic plan Research concordat News, events, publications and filmsResearch and knowledge exchange newsInaugural lecturesResearch and knowledge exchange publications and filmsAcademic staff search About us Business and employers Alumni, supporters and giving Current students Staff Accessibility SearchUniversity of BrightonApply nowFind your courseFind your courseOrder a prospectusBook onto an advice Q+AChat to our studentsFind out more about your course, living here, social life, managing money, what help is on offer and what it\\'s like living away from home.Message nowWe see the personRight now there’s a lot of change to deal with, but the\\xa0inclusive and personalised way we make offers remains the same. We value a range of qualifications and achievements and we\\'ll consider your application individually.Apply to BrightonTop 50 for graduate outcomesBrighton is ranked in the top 50 UK universities, reflecting the number of our brilliant graduates who are in highly skilled employment or further study (2022 Complete University Guide).Read moreThe Big BuildThe Big Build is transforming our Moulsecoomb campus, with new student bedrooms, a new academic building, home to the School of Business and Law and new Students\\' Union and fitness facilities.Take a lookBrighton studentsWhether you\\'ve just joined us, or have returned to your studies this term, everyone is dealing with something new and different. Stay on track with our support and resources.Find out howDiscover our researchOur research and knowledge exchange activities tackle global challenges, solve practical problems and seek to improve people’s lives and environments. We foster a vibrant, agile research community; supporting our established experts and nurturing the next generation of talent from our thriving postgraduate and early career researchers.Tell me moreApplying to Brighton? Read our adviceHeadlinesNewsDesign Museum showcases Brighton-trained sustainable fashion pioneerThe award-winning social change fashion of University of Brighton graduate Bethany Williams has gone on show at London\\'s Design Museum until 4 September. NewsBrighton researchers at the heart of UK project to transform older age healthThe University of Brighton is leading a new national research network focused on transforming the wellbeing of older people and boosting the economy. News\"Our values become even more important in the face of adversity\"A message from the Vice-Chancellor on the Russian invasion of Ukraine.NewsBrighton the biggest climber in latest Complete University GuideThe University of Brighton has recorded the largest improvement of any UK institution in the updated 2022 Complete University Guide.COVID-19 updateIf you\\'re studying or thinking of studying here and have questions about COVID-19, our enquiries line 01273 644644 is open Monday–Friday, 10am–4pm.Read about what you can expect on campus.Contact usUniversity of Brighton Mithras House Lewes Road Brighton BN2 4ATMain switchboard 01273 600900 Course enquiries  Sign up for updates  University contacts Report a problem with this page Quick linksCoursesOpen daysOrder a prospectus Academic departments Academic staff Professional services departments JobsPrivacy and cookie policyAccessibility statementLibrariesTerm datesMapsGraduationSite informationOnline shopCOVID-19Information forCurrent studentsInternational studentsMedia/pressCareers advisers/teachersParents/carersBusiness/employersAlumni/supportersSuppliersLocal residents\\t<iframe src=\"//www.googletagmanager.com/ns.html?id=GTM-KGXLQ2\" height=\"0\" width=\"0\" style=\"display:none;visibility:hidden\"></iframe>'), ('https://brunel.ac.uk', 'Brunel.ac.uk uses cookies to make our site better for you. By clicking on or navigating this site, you accept our use of cookies in accordance with our cookie policy.Close this message'), ('https://birmingham.ac.uk', 'We use cookies to track visits to our website and to deliver targeted messages about the University to users.We do not store personal details.For more information or to change your cookie settings, see our Cookie Policy. ACCEPT COOKIES What are cookies?'), ('https://chester.ac.uk', 'Our website uses cookies to enhance your experience. By continuing to browse the site you are agreeing to our use of cookies. You can find out more and control your Cookie settings on our Cookie Policy page.'), ('https://uel.ac.uk', 'We use cookies to ensure you get the best experience on our website.We use cookies to optimise site functionality and give you the best possible experience.'), ('https://essex.ac.uk', 'This site uses cookies. By continuing to browse the site you are consenting to their use. Please visit our cookie policy to find out which cookies we use and why.View cookie policy.'), ('https://glos.ac.uk', '\\t\\t\\t\\t\\t\\t\\tUniversity of Gloucestershire,\\t\\t\\t\\t\\t\\t\\tThe Park,\\t\\t\\t\\t\\t\\t\\tCheltenham,\\t\\t\\t\\t\\t\\t\\tGL50 2RH.\\t\\t\\t\\t\\t\\t\\tTelephone +44 (0)1242 714700View larger mapBusiness & partnershipsDo business on campusApprenticeshipsRecruit student talentVenue hireGrowth HubProcurementOutreach and widening participation Governance and structureStrategic Plan 2022-2027Student CharterInformation governanceUniversity CouncilSlavery and Human TraffickingInsuranceFreedom\\xa0of informationCriminal Finances Act StatementAppeals and complaintsValue for money About UsCoronavirus statementAcademic schoolsOur campusesLatest newsPress officeSustainabilityPublic lecturesGraduationAlumniPay onlineClearingBlogs  AccessibilityCareersDisclaimerDocument hubPrivacy & cookiesContact us  \\t\\t\\t\\t\\t\\t\\t\\t\\t© 2022 Copyright University of Gloucestershire\\t\\t\\t\\t\\t\\t\\t\\t\\tCompany Registration Number 06023243. VAT Number GB 393 9083 56.\\t\\t\\t\\t\\t\\t\\t\\tback to top '), ('https://exeter.ac.uk', \"Connect with us 中文网Information for:Current studentsNew studentsStaffAlumni and supportersQuick linksEmailiExeterLibrarySIDContact usJob vacanciesCampusesStreatham Campus Find usContact St Luke's Campus Find usContact Penryn Campus Find usContact Truro Campus Find usContact Footer links Using our siteFreedom of InformationModern Slavery Act StatementData ProtectionCopyright & disclaimerPrivacy & cookiesSite map\"), ('https://hud.ac.uk', 'We have updated our cookie policy. We use cookies to ensure that we give you the best experience on our website.'), ('https://gold.ac.uk', 'Your choice regarding cookies on this siteWe use cookies to provide functionality, understand how people use our website, and to personalise content on and off gold.ac.uk.'), ('https://gre.ac.uk', 'Our website uses cookies to recognise users of our site and optimise your experience. By continuing to use this site, you are giving your consent for us to set cookies. For more information, please see our Cookies Policy.'), ('https://ucl.ac.uk', 'Necessary cookiesNecessary cookies enable core functionality such as page navigation and access to secure areas. The website cannot function properly without these cookies, and they can only be disabled by changing your browser preferences.Analytics and customisation cookiesThese cookies enhance the functionality of our websites and improve your user experience. Without these cookies, certain functionality (like videos, personalised content or the ability to save your favourite content) may not work.Advertising cookiesThese cookies are used to make advertising messages more relevant to you. They perform functions like preventing the same ad from continuously reappearing, ensuring that ads are properly displayed for advertisers, and in some cases selecting advertisements that are based on your interests.Save preferences'), ('https://lancs.ac.uk', \"Our use of cookiesWe use necessary cookies to make our site work. We'd also liketo set optional cookies to help us measure web traffic and reporton campaigns.We won't set optional cookies unless you enable them.\"), ('https://kingston.ac.uk', 'We use cookies to ensure that we give you the best experience on our website. Learn more about cookies on this siteClose this message '), ('https://dmu.ac.uk', 'We place cookies on your device to help make this website better, and improve your experience. You can change your cookie settings at any time. Please see our data protection policy for full details.'), ('https://le.ac.uk', 'Accept cookiesWe use cookies to make sure you get the best experience on our website; you can read ourPrivacy Policy to learn more.Cookie Consent plugin for the EU cookie law'), ('https://leeds.ac.uk', 'Cookies are files saved on your phone, tablet or computer when you visit a website. We use cookies to improve your website experience, gather information about how you use the website and to help us with marketing.You can find out more on the privacy page'), ('https://lincoln.ac.uk', 'We use cookies to understand how visitors use our website and to improve the user experience. To find out more, see our Cookies Policy.\\xa0\\xa0 Accept'), ('https://ljmu.ac.uk', \"Cookie SettingsSome essential features of our website won't work without cookies. Please check your cookie settings below and deselect any you wish to opt out of:We use cookies to ensure that we give you the best experience on our website. You can change your cookies in your browser at any time.\"), ('https://leedsbeckett.ac.uk', 'Necessary cookies enable you to use all the different parts of leedsbeckett.ac.uk. Without them services that you have asked for cannot be provided. Necessary cookies can only be disabled by changing your browser preferences.'), ('https://lsbu.ac.uk', 'We use cookies for analytics, personalised content and ads. By continuing to browse this site, you agree to this use. ClosePrivacy Policy'), ('https://lse.ac.uk', 'We use cookies on this website to make your browsing experience better. By continuing to use this website, you agree toAccept and Continueour cookie policy.'), ('https://lshtm.ac.uk', 'This website uses cookies to improve user experienceBy using our website you consent to all cookies in accordance with our Cookie Policy'), ('https://mmu.ac.uk', 'We use cookies on this site to enhance your user\\xa0experienceBy clicking the Accept button, you agree to us doing\\xa0so.'), ('https://lut.ac.uk', 'This site uses cookies to store information on your computer.Some of these cookies are essential, while others help us to improve your experience by providing insights into how the site is being used.For more information and to change your settings in the future, visit our privacy statement(Opens in a new window)External Link IconAccept all cookiesReject all cookiesNecessary CookiesNecessary cookies enable core functionality such as page navigation and access to secure areas. The website cannot function properly without these cookies, and can only be disabled by changing your browser preferences.Analytical CookiesAnalytical cookies help us to improve our website by collecting and reporting information on its usage.Analytical CookiesOnOffMarketing CookiesWe use marketing cookies to help us improve the relevancy of advertising campaigns you receive.Marketing CookiesOnOffSave and close'), ('https://leedstrinity.ac.uk', 'This site uses cookies.Some of these cookies are essential, while others help us to improve your experience.For more information vist our Privacy and Cookies Policy(Opens in a new window)External Link IconAccept Recommended SettingsI Do Not AcceptNecessary CookiesNecessary cookies enable core functionality. These can only be disabled by changing your browser preferences.Analytical CookiesAnalytical cookies help us to improve our website by collecting and reporting information on its usage.Analytical CookiesOnOffMarketing CookiesWe use marketing cookies to help us improve the relevancy of advertising campaigns you receive.Marketing CookiesOnOffAbout this tool(Opens in a new window)External Link Icon'), ('https://northumbria.ac.uk', 'Northumbria University uses cookies to improve your experience on our site.\\xa0 By clicking accept you consent to our cookies on this device Learn More'), ('https://ntu.ac.uk', 'This website uses cookies to enhance your user experience. By continuing to browse the site you are agreeing to our use of cookies. Find out more hereOK'), ('https://ox.ac.uk', 'Your choice regarding cookies on this siteEssential cookies are enabled by default to give you the best possible site experience. For details on the other cookies we use click on settings, or accept them all.'), ('https://qmu.ac.uk', 'We use a variety of analytics and marketing cookies to help improve our website and give you the best possibleexperience. Analytics cookies allow us to review our website traffic and performance, building intelligence on howour site is used. We also use marketing cookies via third party technologies/agencies to advertise online. Thesetrack the ads you have been exposed to, and help us serve up targeted and relevant content to you. You can changeyour cookie settings at any stage if you wish. By continuing without changing your cookie settings, you aretherefore agreeing to this. Please read our website terms of use to findout more.I Accept'), ('https://rave.ac.uk', 'Your choice regarding cookies on this siteWe use cookies to optimise site functionality and give you the best possible experience.'), ('https://bruford.ac.uk', 'This website uses cookies to ensure you get the best experience on our website.AcceptMore Information '), ('https://rgu.ac.uk', 'We use cookies on this website to improve your browsing experience. Some of the cookies are used for analysis and marketing purposes.\\xa0For more details see our\\xa0privacy and cookie statement.Accept Recommended Settings Manage Preferences '), ('https://rca.ac.uk', 'We use cookies to personalise your experience on this site and others. For more information, visit our Privacy & Cookies page.'), ('https://qub.ac.uk', 'YOUR CHOICE REGARDING COOKIESWe use cookies to optimise site functionality and give you the best possible experience.'), ('https://nottingham.ac.uk', 'The University of Nottingham collects and holds some personal information about how you use our website when you visit us.OKSee our policy'), ('https://rwcmd.ac.uk', 'Your choice regarding cookies on this siteWe use cookies to optimise site functionality and give you the best possible experience.'), ('https://rcm.ac.uk', 'This website uses cookies to ensure you get the best experience during your visit. Read our Cookie PolicyAccept and close'), ('https://soas.ac.uk', 'Select \"Accept\" to agree to SOAS\\'s use of cookies and similar technologies to enhance your browsing experience, security, analytics, customization and personalized advertising. Select \"Cookie Settings\" to make more granular choices. '), ('https://shef.ac.uk', \"Your cookie choices Our website uses cookies to help give you a better experience. By accepting all cookies, you agree to the storing of cookies on your device. Use 'Cookie settings' to manage your preferences.Cookie and similar technologies policy\"), ('https://salford.ac.uk', 'This site uses cookies and by using the site you are consenting to this. You can manage cookies in your browser.Find out more about cookies'), ('https://st-and.ac.uk', 'Your choice regarding cookies on this siteWe use cookies to optimise site functionality and give you the best possible experience.'), ('https://sruc.ac.uk', \"Skip to main contentCourses & TrainingBusiness ServicesResearchNews & EventsConnectCourses & Trainingdiscover sectionMain MenuCourses & TrainingCourse catalogueSubject areasCampusesUseful informationWays of learningTraining coursesStudent supportCourses & TrainingCourse catalogueCourse catalogueSubject areasSubject areasAgricultureAgricultureAnimal CareAnimal CareAnimal SciencesAnimal SciencesBusinessBusinessConservationConservationEngineeringEngineeringEnvironmentEnvironmentEquine & Horse CareEquine & Horse CareForestry & ArboricultureForestry & ArboricultureGarden DesignGarden DesignGolfGolfHorticulture & LandscapingHorticulture & LandscapingOrganic FarmingOrganic FarmingPoultryPoultryRural & Estate SkillsRural & Estate SkillsSustainabilitySustainabilityVeterinary NursingVeterinary NursingCampusesCampusesStudent accommodationStudent accommodationAccommodation at SRUC King’s Buildings, EdinburghAccommodation at SRUC King’s Buildings, EdinburghAccommodation at SRUC Riverside, AyrAccommodation at SRUC Riverside, AyrAccommodation at SRUC Barony, DumfriesAccommodation at SRUC Barony, DumfriesAccommodation at SRUC Craibstone, AberdeenAccommodation at SRUC Craibstone, AberdeenAccommodation at SRUC Elmwood, FifeAccommodation at SRUC Elmwood, FifeAccommodation at SRUC Oatridge, West LothianAccommodation at SRUC Oatridge, West LothianCampus term & course datesCampus term & course datesSRUC King's Buildings, EdinburghSRUC King's Buildings, EdinburghSRUC Riverside, AyrSRUC Riverside, AyrSRUC Barony, DumfriesSRUC Barony, DumfriesSRUC Craibstone, AberdeenSRUC Craibstone, AberdeenSRUC Elmwood, FifeSRUC Elmwood, FifeSRUC Oatridge, West LothianSRUC Oatridge, West LothianGlasgow Queens ParkGlasgow Queens ParkUseful informationUseful informationOpen days & eventsOpen days & eventsFees & fundingFees & fundingRequest a prospectusRequest a prospectusHow to applyHow to applyGetting started at SRUCGetting started at SRUCBefore you arriveBefore you arriveInduction and course startInduction and course startProgrammes & systems for studentsProgrammes & systems for studentsIT resource assessmentIT resource assessmentMulti-factor authenticationMulti-factor authenticationStudent support assessmentStudent support assessmentStatement of tuition fee liabilityStatement of tuition fee liabilityStudent parking applicationStudent parking applicationCraibstone campus coach transportCraibstone campus coach transportQualifications and requirementsQualifications and requirementsEntry requirements for academic coursesEntry requirements for academic coursesCollege & university qualifications explainedCollege & university qualifications explainedParents & guardiansParents & guardiansWays of learningWays of learningDistance learningDistance learningWork-based learningWork-based learningPostgraduate StudiesPostgraduate StudiesAdult & continuing educationAdult & continuing educationPart-time studyPart-time studyCourses for schoolsCourses for schoolsTraining coursesTraining coursesVeterinary CPD coursesVeterinary CPD coursesTestimonialsTestimonialsFind a CPD courseFind a CPD courseSouth Scotland training coursesSouth Scotland training coursesCentral Scotland training coursesCentral Scotland training coursesNorth Scotland training coursesNorth Scotland training coursesScotPIL Poultry personal license courseScotPIL Poultry personal license courseStudent supportStudent supportInternational studentsInternational studentsLiving in ScotlandLiving in ScotlandPracticalitiesPracticalitiesScottish ways and customsScottish ways and customsStudy requirements for international studentsStudy requirements for international studentsVisas & immigrationVisas & immigrationStudent visaStudent visaGraduate immigration routeGraduate immigration routeDo I need a visa?Do I need a visa?ErasmusErasmusERASMUS term datesERASMUS term datesApplying for Erasmus Exchange at SRUCApplying for Erasmus Exchange at SRUCPartnersPartnersSRUC Craibstone, Aberdeen coursesSRUC Craibstone, Aberdeen coursesSRUC King’s Buildings, Edinburgh coursesSRUC King’s Buildings, Edinburgh coursesSRUC Riverside, Ayr coursesSRUC Riverside, Ayr coursesCareer servicesCareer servicesCampus-specific careers adviceCampus-specific careers adviceInformation for career advisorsInformation for career advisorsAcademic supportAcademic supportHealth & wellbeingHealth & wellbeingCampus medical servicesCampus medical servicesStudents' AssociationStudents' AssociationBackBusiness Servicesdiscover sectionMain MenuBusiness ServicesWhat is your goal?Help in your sectorBusiness ServicesWhat is your goal?What is your goal?Veterinary & laboratory servicesVeterinary & laboratory servicesSheep and goat health schemesSheep and goat health schemesHighlands and Islands Sheep Health Association (HISHA)Highlands and Islands Sheep Health Association (HISHA)Premium Sheep and Goat Health SchemesPremium Sheep and Goat Health SchemesShow and sale organisersShow and sale organisersMember resourcesMember resourcesAbout the diseasesAbout the diseasesScrapie monitoring for exportScrapie monitoring for exportCattle health schemesCattle health schemesBVD Stamp It OutBVD Stamp It OutPremium Cattle Health SchemePremium Cattle Health SchemeMember resourcesMember resourcesAbout the diseasesAbout the diseasesShetland Islands Health SchemeShetland Islands Health SchemeVeterinary diagnosticsVeterinary diagnosticsAnimal disease surveillanceAnimal disease surveillanceScottish Government Veterinary Services ProgrammeScottish Government Veterinary Services ProgrammeLivestock health planningLivestock health planningCapital Quality Assessment Scheme (C-QAS)Capital Quality Assessment Scheme (C-QAS)Horse health schemeHorse health schemePremium Assured Strangles SchemePremium Assured Strangles SchemeMember resourcesMember resourcesContact Veterinary ServicesContact Veterinary ServicesAnimal feed, crop & soil analytical servicesAnimal feed, crop & soil analytical servicesAnimal feed & forage testingAnimal feed & forage testingCrop testingCrop testingOrganic waste analysisOrganic waste analysisSoils analysisSoils analysisSubscribe to our consulting servicesSubscribe to our consulting servicesSustainabilitySustainabilityAgrecalcAgrecalcBiodiversity consultancyBiodiversity consultancyCircular economyCircular economyClimate changeClimate changeWater & air qualityWater & air qualityFood & FootprintFood & FootprintDiversificationDiversificationAgriScot Diversified Farm of the Year awardAgriScot Diversified Farm of the Year awardCommercial opportunitiesCommercial opportunitiesManaging business financesManaging business financesCommission project management & researchCommission project management & researchBrand, marketing & digital adviceBrand, marketing & digital adviceHelp in your sectorHelp in your sectorAgricultural productionAgricultural productionCattle & sheepCattle & sheepLivestock Record ProgrammeLivestock Record ProgrammeSheep & Beef NewsSheep & Beef NewsCropsCropsDairyDairyGrassland managementGrassland managementGrazeUPGrazeUPOrganic farmingOrganic farmingPigsPigsPotatoesPotatoesPoultryPoultrySoilsSoilsSoil health testingSoil health testingTaking soil samplesTaking soil samplesTechnical notesTechnical notesFarm business managementFarm business managementBookkeeping & payroll servicesBookkeeping & payroll servicesCore farm servicesCore farm servicesElectricity Buying ServiceElectricity Buying ServiceFarm Management HandbookFarm Management HandbookManagement & individual contractsManagement & individual contractsMilkNETMilkNETNitrate Vulnerable ZonesNitrate Vulnerable ZonesScottish Farm Business SurveyScottish Farm Business SurveyFood & drinkFood & drinkNatural resource managementNatural resource managementBy-productsBy-productsSOMASOMARenewable energyRenewable energySoil, water, air & wasteSoil, water, air & wasteSpecialist projectsSpecialist projectsFarm woodlands & forestryFarm woodlands & forestryCroftingCroftingDevelopment planning & designDevelopment planning & designEnvironmental assessments & planningEnvironmental assessments & planningMajor projectsMajor projectsRural developmentRural developmentAgritourismAgritourismBackResearchdiscover sectionMain MenuResearchFacilities & capabilitiesResearch activitiesChallenge CentresResearch operationsPhD opportunitiesResearchFacilities & capabilitiesFacilities & capabilitiesBeef & sheep researchBeef & sheep researchBeef & sheep research facilitiesBeef & sheep research facilitiesEaster Howgate FarmEaster Howgate FarmMethane chambersMethane chambersFeed efficiencyFeed efficiencyMeat qualityMeat qualityCT scanningCT scanningPrecision livestock farmingPrecision livestock farmingBeef & sheep research projectsBeef & sheep research projectsParabanParabanMeet the Beef & sheep research teamMeet the Beef & sheep research teamRural Policy CentreRural Policy CentreRural policy resourcesRural policy resourcesEnvironment & climateEnvironment & climateLand use & land reformLand use & land reformFood, health & wellbeingFood, health & wellbeingRural economies & communitiesRural economies & communitiesRural Policy eventsRural Policy eventsRural Brexit HubRural Brexit HubAbout the Rural Policy CentreAbout the Rural Policy CentreMeet the teamMeet the teamCommission a projectCommission a projectRural Policy Centre research & analysisRural Policy Centre research & analysisRural ReportRural ReportSGSRPSGSRPDairy Research & Innovation CentreDairy Research & Innovation CentreCrichton Royal FarmCrichton Royal FarmMeet the Dairy teamMeet the Dairy teamDairy Research Centre facilitiesDairy Research Centre facilitiesCows & feedingCows & feedingCalf research facilityCalf research facilitySoil & grassland workSoil & grassland workDairy projectsDairy projectsDairy sensorsDairy sensorsLanghill breeding studyLanghill breeding studyTanzania milk qualityTanzania milk qualityGrASTechGrASTechLegumes TranslatedLegumes TranslatedSmartCowSmartCowDairy-4-FutureDairy-4-FutureHome-grown feedsHome-grown feedsFeeding by-productsFeeding by-productsSoil compactionSoil compactionLow protein dietsLow protein dietsControlled traffic farmingControlled traffic farmingOutwintering heifersOutwintering heifersDairy PhD projectsDairy PhD projectsHonours & Masters projectsHonours & Masters projectsCCC farmingCCC farmingKeeping Cow with CalfKeeping Cow with CalfTechnical notesTechnical notesMonogastric researchMonogastric researchPig Info GroupPig Info GroupPoultry activitiesPoultry activitiesBiosecurityBiosecurityConventional, free-range & organicConventional, free-range & organicHusbandryHusbandryNutritionNutritionHill & mountain researchHill & mountain researchCrop trialsCrop trialsBiorefining & advanced materials researchBiorefining & advanced materials researchResearch activitiesResearch activitiesSoils & plantsSoils & plantsAnimal behaviour & welfareAnimal behaviour & welfareQualitative Behaviour Assessment appQualitative Behaviour Assessment appGenetics & genomicsGenetics & genomicsDisease & epidemiologyDisease & epidemiologyGreenhouse gases & environmentGreenhouse gases & environmentAgri-food systemsAgri-food systemsEconomics & policyEconomics & policyInternational researchInternational researchFarming MindsFarming MindsChallenge CentresChallenge CentresFuture food systemsFuture food systemsGlobal climate emergencyGlobal climate emergencySafe & improved foodSafe & improved foodThriving natural capitalThriving natural capitalDelivering data & digital innovationDelivering data & digital innovationResearch operationsResearch operationsOpen accessOpen accessResearch ethicsResearch ethicsAnimal Ethical CommitteeAnimal Ethical CommitteePhD opportunitiesPhD opportunitiesBackNews & Eventsdiscover sectionMain MenuNews & EventsNews & viewsEventsPodcasts & videosNewsletterMedia CentreNews & EventsNews & viewsNews & viewsEventsEventsPodcasts & videosPodcasts & videosSRUCBytesSRUCBytesSRUC Rural Policy podcastSRUC Rural Policy podcastThriving Natural Capital podcastThriving Natural Capital podcastNewsletterNewsletterMedia CentreMedia CentreBackConnectdiscover sectionMain MenuConnectContact usJobsAbout SRUCFind an expertAlumni & friendsFacilitiesSupport SRUCConnectContact usContact usJobsJobsList of vacanciesList of vacanciesRecruitment processRecruitment processApplication & interview adviceApplication & interview adviceSkilled Worker visa guidanceSkilled Worker visa guidanceCosts involved in obtaining a visaCosts involved in obtaining a visaWorking for SRUCWorking for SRUCBenefitsBenefitsAbout SRUCAbout SRUCOur historyOur historyInternational activitiesInternational activitiesGovernanceGovernancePolicies & compliancePolicies & complianceProcurementProcurementFinance & regulationsFinance & regulationsComplianceCompliancePrivacy policy, GDPR & cookiesPrivacy policy, GDPR & cookiesFreedom of informationFreedom of informationComplaints handling procedureComplaints handling procedureModern Slavery ActModern Slavery ActAccessibilityAccessibilityClimate Change Action PlanClimate Change Action PlanSRUC ShopSRUC ShopEquality, diversity & inclusionEquality, diversity & inclusionCovid-19 informationCovid-19 informationCovid-19 information for studentsCovid-19 information for studentsCovid-19 Veterinary Services updateCovid-19 Veterinary Services updateFind an expertFind an expertAlumni & friendsAlumni & friendsAlumni storiesAlumni storiesKeep in touch with the communityKeep in touch with the communityUpdate your detailsUpdate your detailsAlumni jobs & careersAlumni jobs & careersEmployers looking for SRUC alumniEmployers looking for SRUC alumniRecruitment agencies & sector specialistsRecruitment agencies & sector specialistsSRUC Matters magazineSRUC Matters magazineAlumni discount for postgraduate coursesAlumni discount for postgraduate coursesFacilitiesFacilitiesCampus librariesCampus librariesHoliday letsHoliday letsScottish National Equestrian CentreScottish National Equestrian CentreGolf coursesGolf coursesConferences & eventsConferences & eventsSRUC Oatridge conferences & eventsSRUC Oatridge conferences & eventsSRUC Barony conferences & eventsSRUC Barony conferences & eventsSupport SRUCSupport SRUCBack\"), ('https://sunderland.ac.uk', 'We use cookies to ensure you have the best browsing experience, to help us improve our website and for targeted advertising. By continuing to browse the site you are agreeing to our use of cookies, check our cookies page for more information.Accept and close'), ('https://surrey.ac.uk', ' We use cookies to help our site work, to understand how it is used, and to tailor ads that are more relevant to you and your interests.By accepting, you agree to cookies being stored on your device. You can view details and manage settings at any time on our cookies policy page.'), ('https://staffs.ac.uk', \"Cookie settingsWe use cookies to help enhance site navigation, analyse site usage and assist in our marketing efforts. You can control which cookies are set when using our site by clicking 'Manage cookie settings'.\"), ('https://stmarys.ac.uk', 'This website uses cookies to ensure we offer you the best possible experience on our website. By continuing to use our site, you agree to our cookie policy. Learn moreContinue'), ('https://stir.ac.uk', 'The University of Stirling uses cookies for advertising and analytics. Read our website privacy notice to find out more.Close'), ('https://www2.warwick.ac.uk', 'We use cookies to give you the best online experience. Please let us know if you agree to functional, advertising and performance cookies. You can update your cookie preferences at any time.Cookie policy'), ('https://cumbria.ac.uk', 'This website uses cookies to improve user experience. By using our website you consent to all cookies in accordance with our Cookie Policy. Accept & Close'), ('https://westminster.ac.uk', 'We use cookies to ensure the best experience on our website.By accepting you agree to cookies being stored on your device.'), ('https://tees.ac.uk', \"We use cookies to improve your experience on our site. Some of the cookies we use are essential for our site to work, others assist us with our marketing. You can use your browser to change your cookie settings, otherwise, we'll assume you're ok to continue.How we use cookiesI accept\"), ('https://winchester.ac.uk', 'This website uses cookies to improve user experience. By using our website, you consent to all cookies in accordance with our Cookie Policy. I agree'), ('https://writtle.ac.uk', \"This website uses cookies to give you the best online experience. If you'd like to know more or change your settings,our cookie policy explains more.Accept\"), ('https://acu.edu', 'This website uses cookies to enhance your user experience. To find out more, read our privacy policy.Cookie settingsACCEPTNecessary cookies are absolutely essential for the website to function properly. This category only includes cookies that ensures basic functionalities and security features of the website. These cookies do not store any personal information.'), ('https://adelphi.edu', 'This website uses cookies to give you the best experience. By continuing to use this website, you agree to our use of cookies. Privacy PolicyAccept'), ('https://arts.ac.uk', 'Your choice regarding cookies on this siteWe use cookies to optimise site functionality and give you the best possible experience.'), ('https://aic.edu', 'Privacy Policy and use of CookiesWe use cookies on our website to offer a better browsing experience, analyze web traffic and personalize content. By using our website, you agree to the use of cookies as described in our Privacy Policy.AgreeDeclineLearn more about cookies'), ('https://american.edu', \"American University uses cookies and other technology on our website to improve your experience and to better understand how you use our websites. I agree to American University's use of cookies. Learn moreAgree\"), ('https://antiochne.edu', 'We use cookies on our website to give you the most relevant experience by remembering your preferences and repeat visits. By clicking “Accept All”, you consent to the use of ALL the cookies. However, you may visit \"Cookie Settings\" to provide a controlled consent.Cookie SettingsAccept All'), ('https://antiochla.edu', 'We use cookies on our website to give you the most relevant experience by remembering your preferences and repeat visits. By clicking “Accept All”, you consent to the use of ALL the cookies. However, you may visit \"Cookie Settings\" to provide a controlled consent.Cookie SettingsAccept All'), ('https://auburn.edu', 'xCookie AcknowledgementThis website uses cookies to collect information to improve your browsing experience. Please review our \\t\\t\\tPrivacy Statement for more information.\\t\\t'), ('https://apu.edu', '©2022 Azusa Pacific University901 E. Alosta Ave., Azusa, CA 91702Contact DirectoryFeedbackPrivacyAccessibilityThis website uses cookies to gather anonymous usage data. By continuing to access this site, you consent to their use.For more information, view our privacy policy.Accreditations'), ('https://averett.edu', 'This website uses cookies to understand how you use the website and to improve your experience. By continuing to use the website, you accept Averett University’s use of cookies and similar technologies. To learn more about our use of cookies and how to manage your browser cookie settings, please review our Privacy Policy. Accept Read More'), ('https://babson.edu', ' CLOSEWe have changed our Privacy Statement and we use cookies on our website in an effort to improve your experience on our site.If you continue to use our website, you are consenting to the revised Privacy Statement and the use of cookies in accordance with the Privacy Statement. For more information please see our Privacy Statement.'), ('https://beloit.edu', 'This site uses cookies to improve your experience. Read our Web Privacy Policy for more information.Got it! ×'), ('https://carroll.edu', 'We use cookies on this site to enhance your user experienceBy clicking any link on this page you are giving your consent for us to set cookies. More info'), ('https://cmich.edu', 'We use cookies to give you a Fired Up web experience.By continuing to use the site, you are agreeing to our use of cookies. Privacy Policy.OKOK'), ('https://ceu.edu', 'The Central European University website uses cookies to ensure the basic functionality of the site and for statistical and optimization purposes. It also uses cookies to display content such as YouTube videos and for marketing purposes. Learn more:\\xa0CEU Cookie Statement. You may either accept or reject usage of cookies via the following links.More info'), ('https://ccu.edu', 'Colorado Christian University uses cookies to enhance your browsing experience through analysis of our site usage, and assists us in our marketing and promotional efforts. By continuing to use the site, you agree to the storage of first- and third-party cookies on your device. Privacy policy.Okay, thanks'), ('https://strose.edu', '<img style=\"float: left;padding-right:5px\" class=\"left lazy\" alt=\"\" src=\"data:image/svg+xml,%3Csvg%20xmlns=\\'http://www.w3.org/2000/svg\\'%20viewBox=\\'0%200%201%201\\'%3E%3C/svg%3E\" data-src=\"https://s3.amazonaws.com/strosemedia/wp-content/uploads/2019/05/30151907/Golden-Knight.png\" />We use cookies to ensure that we give you the best experience on our website. If you continue to use this site, we will assume you have agreed to our policy.'), ('https://wm.edu', 'That’s one smart cookie.We use cookies to analyze traffic and improve your experience. By continuing without changing your cookie settings, you agree to this convention. For more information, please see our Privacy & Security Statement.Ok, Got It'), ('https://creighton.edu', 'By clicking “Accept All Cookies”, you agree to the storing of cookies on your device to enhance site navigation, analyze site usage, and assist in our marketing efforts.Cookie/Privacy Policy'), ('https://emu.edu', 'We use cookies to analyze traffic and improve your experience. By continuing without\\t\\t\\t\\t\\tchanging your cookie settings, you agree to this convention. For more information,\\t\\t\\t\\t\\tplease see our Privacy Notice Policy.\\t\\t\\t\\tOk, Got It'), ('https://erau.edu', 'OK Accept Privacy Statement\\t\\t\\tThis website uses cookies and similar tools and technologies to understand visitors’ experiences. By\\xa0continuing to use this website, you consent to Embry-Riddle Aeronautical University’s use of cookies and similar technologies, in accordance with the Embry-Riddle Privacy\\xa0Statement.\\t\\t'), ('https://emerson.edu', 'We use cookies on this site to enhance your user experienceBy continuing to use this site, you agree to our\\xa0use of cookies.'), ('https://ferris.edu', 'By clicking “Accept All Cookies”, you agree to the storing of cookies on your device to enhance site navigation, analyze site usage, and assist in our marketing efforts. Privacy & Cookie Policy'), ('https://fgcu.edu', 'FGCU Privacy PolicyThis website stores cookies on your computer to improve your browsing experience.The university does not collect personal information as you browse. Learn about ourPrivacy and GDPR statements. '), ('https://fuller.edu', 'We use cookies to ensure that we give you the best experience on our website. If you continue use this site we will assume that you agree to this.Ok'), ('https://fandm.edu', 'We use cookies to enhance our website and improve your browsing experience. To accept cookies click the \"I Understand\" button, or view our privacy page for more information.'), ('https://gatech.edu', 'This website uses cookies.\\xa0For more information, review our\\xa0Privacy & Legal Notice.\\xa0Questions?\\xa0Please email\\xa0privacy@gatech.edu. No, give me more info'), ('https://fontbonne.edu', 'We analyze traffic to this site. We collect statistical data on an aggregated basis through Google Analytics. For example, we collect information about the domain names of servers that bring visitors to our site. We count the number of visitors and keep track of where they go on our site. Such information allows us to find out what areas users visit most frequently and what services they access the most, which enables us to create a better overall user experience. To gather such data, we use cookie technology, which collects data in aggregate form, not by individual user.'), ('https://georgian.edu', 'We use cookies and similar technologies to understand our visitors’ experiences. By continuing to use this website, you agree to this condition of use. For further information please see our privacy policy. '), ('https://hamline.edu', \"COVID-19 InformationRequest InfoMenuAcademicsAcademicsAcademicsUndergraduateGraduateLawOnlineStudy AbroadSchools and CollegesLibrary and ArchivesContinuing EducationAdmissionAdmissionAdmissionUndergraduateGraduate AdmissionOnline Bachelor's CompletionTransferInternationalTuition and AidRequest InformationVisitLife at HamlineLife at HamlineLife at HamlineAcademic AssistanceActivitiesAthleticsBookstoreCareers and InternshipsCounseling and HealthHousing and DiningNeighborhoodTransportationAboutAboutAboutFast FactsMaps and LocationsVirtual TourRankingsMission and HistoryPresident's OfficeInclusive ExcellenceOffices and ServicesEmploymentResourcesResourcesResourcesCurrent StudentsAdmitted StudentsInternational StudentsFamilies and ParentsFaculty and StaffMilitary Student Resource CenterAlumniNeighborsHEOA Consumer Information DisclosuresAlumni & DonorsAlumni & DonorsAlumni & DonorsAlumni DirectoryAlumni EventsHamline MagazineMake a Gift NowWays to GiveTake the Lead CampaignContact UsSearchSearch:Academic CalendarNewsEventsDirectoryMapsContactLoginsLoginsEmailCanvasBannerPiperlineWorkdayPassword ResetCourse ListingsMoreApplyAcademic Calendar | \\t\\t\\t\\t\\t\\tNews | Events | \\t\\t\\t\\t\\t\\tDirectoryMaps | \\t\\t\\t\\t\\t\\tContact | \\t\\t\\t\\t\\t\\tLogins | \\t\\t\\t\\t\\t\\tApplySearchSearchApplyRequest InfoHamline's Home Page Content A diploma that makes a difference.\\t\\t\\tWe take the lead.\\t\\tGet more infoApplyFIND YOUR PROGRAM We do all the good we can.Whether it’s volunteering with community cleanup efforts or working with students at Hamline Elementary, we believe in putting education into service.Visit CampusGraduate Info Sessions Hamline AdmissionsFIND YOUR PROGRAMUNDERGRADUATEMajor, minor, and certificate programsChoose Your Area of StudySelectBusiness and Economics EducationFine ArtsGlobal StudiesHumanities and CultureLaw, Political Science, and Public PolicyMath, Science, and TechnologyPsychology and Social SciencesAdditional licensure programs ›Administrative licensure ›Continuing studies courses ›Doctorate in Education ›Educational Specialist ›Graduate business certificates ›Graduate education certificates ›Master of Arts in Education ›Master of Arts in Literacy Education ›Master of Arts in Natural Science and Environmental Education ›Master of Arts in Teaching - Initial MN Teaching License ›Master of Arts in Teaching English to Speakers of Other Languages ›Master of Arts in the Study of Law ›Master of Arts in Writing for Children and Young Adults ›Master of Business Administration ›Master of Fine Arts in Creative Writing ›Master of Management and Leadership ›Master of Nonprofit Management ›Master of Public Administration ›Master of Science in Business Analytics ›Paralegal certificate ›PhD in Management and Public Service ›Accounting ›Anthropology ›Art (studio arts) ›Art history ›Biochemistry ›Biology ›Business ›Business analytics ›Chemistry ›Chinese ›Communication studies ›Computational data science ›Conflict studies ›Creative writing ›Criminology and criminal justice ›Digital media arts ›Economics ›Education ›Education (co-major) ›Education (minor) ›Electrical engineering (pre-professional) ›English ›Exercise science ›Finance ›Forensic Psychology (concentration) ›Forensic science (certificate, minor only) ›German ›Global studies ›History ›International business ›Law (pre-professional) ›Legal studies ›Linguistics ›Linguistics (applied) ›Management ›Marketing ›Mathematics ›Mechanical engineering (pre-professional) ›Medical (pre-professional) ›Music ›Neuroscience ›Nonprofit management (minor only) ›Paralegal certificate ›Philosophy ›Physics ›Political science ›Professional writing ›Psychology ›Public health sciences ›Religion ›Rhetoric ›Social justice ›Sociology ›Spanish ›Theatre arts ›Women's studies ›GRADUATEMaster's, doctoral, and certificate programsChoose Your Area of StudySelectBusiness and Public AdministrationEducationLegal StudiesWritingAdditional licensure programs ›Administrative licensure ›Continuing studies courses ›Doctorate in Education ›Educational Specialist ›Graduate business certificates ›Graduate education certificates ›Master of Arts in Education ›Master of Arts in Literacy Education ›Master of Arts in Natural Science and Environmental Education ›Master of Arts in Teaching - Initial MN Teaching License ›Master of Arts in Teaching English to Speakers of Other Languages ›Master of Arts in the Study of Law ›Master of Arts in Writing for Children and Young Adults ›Master of Business Administration ›Master of Fine Arts in Creative Writing ›Master of Management and Leadership ›Master of Nonprofit Management ›Master of Public Administration ›Master of Science in Business Analytics ›Paralegal certificate ›PhD in Management and Public Service ›Accounting ›Anthropology ›Art (studio arts) ›Art history ›Biochemistry ›Biology ›Business ›Business analytics ›Chemistry ›Chinese ›Communication studies ›Computational data science ›Conflict studies ›Creative writing ›Criminology and criminal justice ›Digital media arts ›Economics ›Education ›Education (co-major) ›Education (minor) ›Electrical engineering (pre-professional) ›English ›Exercise science ›Finance ›Forensic Psychology (concentration) ›Forensic science (certificate, minor only) ›German ›Global studies ›History ›International business ›Law (pre-professional) ›Legal studies ›Linguistics ›Linguistics (applied) ›Management ›Marketing ›Mathematics ›Mechanical engineering (pre-professional) ›Medical (pre-professional) ›Music ›Neuroscience ›Nonprofit management (minor only) ›Paralegal certificate ›Philosophy ›Physics ›Political science ›Professional writing ›Psychology ›Public health sciences ›Religion ›Rhetoric ›Social justice ›Sociology ›Spanish ›Theatre arts ›Women's studies › The Undergraduate ExperienceReal-world experience, built into your education.No matter what you study, you’ll graduate with service learning, hands-on research, or an internship on your résumé. Or all three. Because in today’s world, real-life experiences aren’t merely a perk: they’re a necessity.- Mari Johnson ’20, physics majorExplore ProgramsUndergraduate AdmissionTransfer to HamlineComplete Your Bachelor's Online Hamline AdmissionsThe Graduate ExperienceGain 21st-century leadership skills.Our graduate programs help students build the expertise they need to succeed—and lead.(pictured) Abdul Wright ’16 MA-Education, 2016 Minnesota Teacher of the YearExplore Graduate ProgramsGraduate AdmissionInformation Sessions Hamline Admissions Hamline Admissions Hamline AdmissionsFacebookTwitterYouTubeInstagramAcademicsUndergraduateGraduateLawOnlineStudy AbroadSchools and CollegesLibrary and ArchivesContinuing EducationAdmissionUndergraduateGraduate AdmissionOnline Bachelor's CompletionTransferInternationalTuition and AidRequest InformationVisitLife at HamlineAcademic AssistanceActivitiesAthleticsBookstoreCareers and InternshipsCounseling and HealthHousing and DiningNeighborhoodTransportationAboutFast FactsMaps and LocationsVirtual TourMission and HistoryPresident's OfficeInclusive ExcellenceOffices and ServicesEmploymentResourcesCurrent StudentsAdmitted StudentsInternational StudentsFamilies and ParentsFaculty and StaffMilitary Student Resource CenterAlumniNeighborsCARES ActHEOA Consumer Information Disclosures\\t\\t\\t\\t\\t\\t\\t\\tTitle IX\\t\\t\\t\\t\\t\\t\\tWhy is this h3 hereIn affiliation with:\\xa0 Mitchell Hamline School of Law* has more enrollment options than any law school in the nation.© 2021 Hamline University1536 Hewitt Avenue Saint Paul, MN 55104AccreditationContactPrivacyCampus Map\"), ('https://graceland.edu', 'We are using cookies to give you the best experience on our website.You can find out more about which cookies we are using or switch them off in settings.'), ('https://harding.edu', 'We use cookies to ensure that we give you the best experience on our website. If you continue to use this site we will assume that you are happy with it. OK'), ('https://hamilton.edu', \"A fortune cookie once told me: writing is a craft, not an art. I try to live by this fortune cookie's wisdom. I definitely don't view writing as a talent; my writing is full of practice, hard work, perseverance and diligence.\"), ('https://iona.edu', 'We use cookies on this site to enhance your user experience.By continuing to use this site, you agree to the use of cookies. Privacy Policy.I agree'), ('https://jfku.edu', 'This site uses cookies to offer you a better browsing experience, analyze site traffic, personalize content, and serve targeted advertisements. Review our cookies and privacy policy for more information. If you continue to use this site, you consent to our use of cookies.×'), ('https://ltu.edu', \"Lawrence Technological University, near Detroit, MI, A private university with programs in the Arts & Sciences, Architecture & Design, Business Management, Engineering and Technology fields.  21000 West Ten Mile RoadSouthfield, MI, 48075-1058 1 800 CALL LTU 1-800-225-5588 (1 800 225 5588)AdmissionsAcademicsCampus LifeCommunityCurrent StudentsFaculty + StaffNewsEventsAthleticsAlumniGive NowApplyHomeContact UsSite Map © 2022 Lawrence Technological University \\xa0 | \\xa0 Privacy Statement\\t\\tThis site uses cookies to provide you with a better experience. For information on LTU's cookie policy, please visit this page.\\t\\tBy continuing to use the site or closing this banner, you are agreeing to our terms of use.\\t\\t× ×Request InfoGet Personalized Information Based on your Interests Lawrence Technological University has created a personalized, easy-access web site for prospective students.  You can start by setting up your own VIP interest page. Based on your unique interests and needs, we will communicate directly with you about events and other important information you might like to know.  To create your VIP interest page, choose the level of admissions you are seeking: Undergraduate Graduate  Contact us today. 248.204.3160 800.225.5588 admissions@ltu.edu We look forward to hearing from you!×Heading ×Heading ×× × × closeHeading  [Read more ]\"), ('https://lsu.edu', 'This website uses cookies to ensure site visitors get the best experience on our website. By continuing to use this site, you accept our use of cookies and Privacy Statement. To learn more, please visit LSU Privacy Statement.'), ('https://lycoming.edu', 'We use cookies on this site to enhance your user experience. To accept cookies click the \"Ok, I agree\" button, or view our privacy statement for more information.')]\n"
          ]
        }
      ]
    },
    {
      "cell_type": "markdown",
      "source": [
        ""
      ],
      "metadata": {
        "id": "OiD2VGgmo64P"
      }
    },
    {
      "cell_type": "markdown",
      "metadata": {
        "id": "nczWjc6jLDP_"
      },
      "source": [
        "### Import spacy"
      ]
    },
    {
      "cell_type": "code",
      "metadata": {
        "id": "070sQ63uTZ7V",
        "outputId": "d030a986-d64b-4c29-c787-a33ace38474b",
        "colab": {
          "base_uri": "https://localhost:8080/"
        }
      },
      "source": [
        "!python -m spacy download en\n",
        "\n",
        "import spacy\n",
        "\n",
        "import sys\n",
        "print(sys.version)\n",
        "\n",
        "# Version checks\n",
        "import importlib\n",
        "def version_check(libname, min_version):\n",
        "    m = importlib.import_module(libname)\n",
        "    print (\"%s version %s is\" % (libname, m.__version__))\n",
        "    print (\"OK\" if m.__version__ >= min_version \n",
        "           else \"out-of-date. Please upgrade!\")\n",
        "    \n",
        "version_check(\"spacy\", \"2.0\")\n",
        "\n",
        "# Load the small english model. \n",
        "# Disable the advanced NLP features in the pipeline for efficiency.\n",
        "nlp = spacy.load('en_core_web_sm', disable=['ner'])\n",
        "print(nlp.pipeline)\n",
        "print(nlp.pipe_names)\n",
        "nlp.remove_pipe('tagger')\n",
        "nlp.remove_pipe('parser')\n",
        "# Verify they are empty.\n",
        "print(nlp.pipeline)\n"
      ],
      "execution_count": 30,
      "outputs": [
        {
          "output_type": "stream",
          "name": "stdout",
          "text": [
            "Collecting en_core_web_sm==2.2.5\n",
            "  Downloading https://github.com/explosion/spacy-models/releases/download/en_core_web_sm-2.2.5/en_core_web_sm-2.2.5.tar.gz (12.0 MB)\n",
            "\u001b[K     |████████████████████████████████| 12.0 MB 5.3 MB/s \n",
            "\u001b[?25hRequirement already satisfied: spacy>=2.2.2 in /usr/local/lib/python3.7/dist-packages (from en_core_web_sm==2.2.5) (2.2.4)\n",
            "Requirement already satisfied: setuptools in /usr/local/lib/python3.7/dist-packages (from spacy>=2.2.2->en_core_web_sm==2.2.5) (57.4.0)\n",
            "Requirement already satisfied: requests<3.0.0,>=2.13.0 in /usr/local/lib/python3.7/dist-packages (from spacy>=2.2.2->en_core_web_sm==2.2.5) (2.23.0)\n",
            "Requirement already satisfied: thinc==7.4.0 in /usr/local/lib/python3.7/dist-packages (from spacy>=2.2.2->en_core_web_sm==2.2.5) (7.4.0)\n",
            "Requirement already satisfied: wasabi<1.1.0,>=0.4.0 in /usr/local/lib/python3.7/dist-packages (from spacy>=2.2.2->en_core_web_sm==2.2.5) (0.9.0)\n",
            "Requirement already satisfied: murmurhash<1.1.0,>=0.28.0 in /usr/local/lib/python3.7/dist-packages (from spacy>=2.2.2->en_core_web_sm==2.2.5) (1.0.6)\n",
            "Requirement already satisfied: numpy>=1.15.0 in /usr/local/lib/python3.7/dist-packages (from spacy>=2.2.2->en_core_web_sm==2.2.5) (1.21.5)\n",
            "Requirement already satisfied: cymem<2.1.0,>=2.0.2 in /usr/local/lib/python3.7/dist-packages (from spacy>=2.2.2->en_core_web_sm==2.2.5) (2.0.6)\n",
            "Requirement already satisfied: catalogue<1.1.0,>=0.0.7 in /usr/local/lib/python3.7/dist-packages (from spacy>=2.2.2->en_core_web_sm==2.2.5) (1.0.0)\n",
            "Requirement already satisfied: preshed<3.1.0,>=3.0.2 in /usr/local/lib/python3.7/dist-packages (from spacy>=2.2.2->en_core_web_sm==2.2.5) (3.0.6)\n",
            "Requirement already satisfied: blis<0.5.0,>=0.4.0 in /usr/local/lib/python3.7/dist-packages (from spacy>=2.2.2->en_core_web_sm==2.2.5) (0.4.1)\n",
            "Requirement already satisfied: srsly<1.1.0,>=1.0.2 in /usr/local/lib/python3.7/dist-packages (from spacy>=2.2.2->en_core_web_sm==2.2.5) (1.0.5)\n",
            "Requirement already satisfied: tqdm<5.0.0,>=4.38.0 in /usr/local/lib/python3.7/dist-packages (from spacy>=2.2.2->en_core_web_sm==2.2.5) (4.63.0)\n",
            "Requirement already satisfied: plac<1.2.0,>=0.9.6 in /usr/local/lib/python3.7/dist-packages (from spacy>=2.2.2->en_core_web_sm==2.2.5) (1.1.3)\n",
            "Requirement already satisfied: importlib-metadata>=0.20 in /usr/local/lib/python3.7/dist-packages (from catalogue<1.1.0,>=0.0.7->spacy>=2.2.2->en_core_web_sm==2.2.5) (4.11.2)\n",
            "Requirement already satisfied: typing-extensions>=3.6.4 in /usr/local/lib/python3.7/dist-packages (from importlib-metadata>=0.20->catalogue<1.1.0,>=0.0.7->spacy>=2.2.2->en_core_web_sm==2.2.5) (3.10.0.2)\n",
            "Requirement already satisfied: zipp>=0.5 in /usr/local/lib/python3.7/dist-packages (from importlib-metadata>=0.20->catalogue<1.1.0,>=0.0.7->spacy>=2.2.2->en_core_web_sm==2.2.5) (3.7.0)\n",
            "Requirement already satisfied: chardet<4,>=3.0.2 in /usr/local/lib/python3.7/dist-packages (from requests<3.0.0,>=2.13.0->spacy>=2.2.2->en_core_web_sm==2.2.5) (3.0.4)\n",
            "Requirement already satisfied: idna<3,>=2.5 in /usr/local/lib/python3.7/dist-packages (from requests<3.0.0,>=2.13.0->spacy>=2.2.2->en_core_web_sm==2.2.5) (2.10)\n",
            "Requirement already satisfied: certifi>=2017.4.17 in /usr/local/lib/python3.7/dist-packages (from requests<3.0.0,>=2.13.0->spacy>=2.2.2->en_core_web_sm==2.2.5) (2021.10.8)\n",
            "Requirement already satisfied: urllib3!=1.25.0,!=1.25.1,<1.26,>=1.21.1 in /usr/local/lib/python3.7/dist-packages (from requests<3.0.0,>=2.13.0->spacy>=2.2.2->en_core_web_sm==2.2.5) (1.24.3)\n",
            "\u001b[38;5;2m✔ Download and installation successful\u001b[0m\n",
            "You can now load the model via spacy.load('en_core_web_sm')\n",
            "\u001b[38;5;2m✔ Linking successful\u001b[0m\n",
            "/usr/local/lib/python3.7/dist-packages/en_core_web_sm -->\n",
            "/usr/local/lib/python3.7/dist-packages/spacy/data/en\n",
            "You can now load the model via spacy.load('en')\n",
            "3.7.12 (default, Jan 15 2022, 18:48:18) \n",
            "[GCC 7.5.0]\n",
            "spacy version 2.2.4 is\n",
            "OK\n",
            "[('tagger', <spacy.pipeline.pipes.Tagger object at 0x7effa13c2910>), ('parser', <spacy.pipeline.pipes.DependencyParser object at 0x7eff875ae2f0>)]\n",
            "['tagger', 'parser']\n",
            "[]\n"
          ]
        }
      ]
    },
    {
      "cell_type": "markdown",
      "metadata": {
        "id": "MJ06kvvlKBLG"
      },
      "source": [
        "### Tokenize and Normalize the text of the cookies (data pre-processing)"
      ]
    },
    {
      "cell_type": "code",
      "metadata": {
        "id": "Sk2z8rRNSIof",
        "cellView": "both"
      },
      "source": [
        "\n",
        "all_stopwords = nlp.Defaults.stop_words\n",
        "\n",
        "# remove stop words\n",
        "def spacy_tokenize(string):\n",
        "  tokens = list()\n",
        "  doc = nlp(string)\n",
        "  for token in doc:\n",
        "    if token not in all_stopwords:\n",
        "      tokens.append(token)\n",
        "  return tokens\n",
        "\n",
        "# This tokenizes the body posts and creates vector of tokens for each post.\n",
        "all_posts_tokenized = post_frame.body.apply(spacy_tokenize)\n",
        "\n",
        "import itertools\n",
        "# A single variable with the (flattened) tokens from all posts.\n",
        "flat_tokens = list(itertools.chain.from_iterable(all_posts_tokenized))"
      ],
      "execution_count": 31,
      "outputs": []
    },
    {
      "cell_type": "code",
      "metadata": {
        "id": "14m7RfqGzo_x",
        "cellView": "both"
      },
      "source": [
        "# take only lowercase letters and numbers, remove noise\n",
        "def normalize(tokens):\n",
        "  normalized = list()\n",
        "  for token in tokens:\n",
        "    if (token.is_alpha or token.is_digit):\n",
        "      lemma = token.lemma_.lower().strip() if token.lemma_ != \"-PRON-\" else token.lower_\n",
        "      if lemma not in all_stopwords:\n",
        "        normalized.append(lemma)\n",
        "  return normalized"
      ],
      "execution_count": 32,
      "outputs": []
    },
    {
      "cell_type": "code",
      "metadata": {
        "id": "_D_wpV5Q4l69"
      },
      "source": [
        "normalized_tokens = normalize(flat_tokens)"
      ],
      "execution_count": 33,
      "outputs": []
    },
    {
      "cell_type": "markdown",
      "metadata": {
        "id": "-XWjf3yuTO6J"
      },
      "source": [
        "## Count the words frequency in all cookies - get the 10 most frequently found ones"
      ]
    },
    {
      "cell_type": "code",
      "metadata": {
        "id": "Y9z2_Bi-_by_"
      },
      "source": [
        "posts_to_load = len(posts_tmp)"
      ],
      "execution_count": 34,
      "outputs": []
    },
    {
      "cell_type": "code",
      "metadata": {
        "id": "Q997lE7FTiyo",
        "colab": {
          "base_uri": "https://localhost:8080/"
        },
        "outputId": "1001c2e8-7bad-4106-f954-e430fd4e7952"
      },
      "source": [
        "from itertools import islice\n",
        "\n",
        "# Parallel arrays of the post keys and values (data pre-processing step)\n",
        "post_vals = list()\n",
        "post_keys = list()\n",
        "\n",
        "for post in islice(post_frame.itertuples(index=True, name='Pandas'), posts_to_load):\n",
        "    post_keys.append(getattr(post, 'url'))\n",
        "    post_vals.append(getattr(post,'body'))\n",
        "print(post_vals)"
      ],
      "execution_count": 35,
      "outputs": [
        {
          "output_type": "stream",
          "name": "stdout",
          "text": [
            "['Got it!This website uses cookies to ensure you get the best experience on our website More infoCookie Consent plugin for the EU cookie law', 'The University of Glasgow uses cookies for analytics and advertising.Find out more about our Privacy policy. privacy settingsclose', 'We use our own and third-party cookies for analytical purposes and to show you advertising and personalised content based on a profile prepared from your browsing habits. You can accept all the cookies or manage your preferences in the settings panel. For more information, consult theCookies Policy.', 'We use cookies to improve your browsing experience, monitor how our site is used, and aid us with advertising. By continuing to use our site you are agreeing to our privacy and cookies policy.', 'This website uses cookies to improve your experience and distinguish you from other users. By continuing to browse this site, we assume you agree to this. For more information please view our cookie policy.', 'We use cookies to enhance your online experienceTo find out more, please read ourupdated privacy policy and cookie policy', \"Recent searchesWe won't record your recent searches as you have opted out of functional cookies.You can change this on our Manage Privacy page should you wish to.\", \"We use cookies to give you the best possible experienceIf you don't want to accept cookies you can change preferences\", \"We use cookies to ensure we provide you with the best user experience. If you continue without changing your settings, we'll assume that you are happy to receive cookies from our site. Learn more.\", '© University of Bath 2022DisclaimerFreedom of informationModern slavery statementPrivacy and cookie policyStaying COVID-19 SecureTransparency informationWebsite accessibility statement', 'This website uses cookiesWe use cookies to personalise content and ads, to provide social media features and to analyse our traffic. We also share information about your use of our site with our social media,advertising and analytics partners who may combine it with other information that you’ve provided to them or that they’ve collected from your use of their services.You consent to our cookies if you continue to use our website.Learn more.BasicPreferencesStatisticsMarketingAccept', 'We use cookies on our websites for a number of purposes, including analytics and performance, functionality and advertising.\\xa0Learn more about Reddit’s use of cookies.Reject non-essentialAccept all', 'Your cookie choicesCookies are little files that we save on your device to make sure we remember your preferences.We use necessary cookies to make our site work. We use site usage measurement cookies to analyse anonymised usage patterns, to make our websites better for you.You may choose to opt-in to use optional cookies for personalisation and to remember your social marketing preferences. Give me more information', 'This site uses cookies and by using the site you are consenting to this. Find out more about what cookies we use and why in our privacy policy.', ' Skip to contentSkip to footerAccessibility options About us  Business and employers  Alumni andsupporters  Forstudents  For staff  AccessibilityoptionsClose Study Courses and subjects Find a course A-Z course list Explore our subjects Academic departments Visiting the universityExplore: get to know usOnline eventsVirtual toursChat to our students and staffOpen daysApplicant daysOrder a prospectus Ask a question Studying here Accommodation and locations Applying Undergraduate Postgraduate Transferring from another universityThe Student ContractClearingInternational students Fees and finance Advice and helpAdvice for students Advice for parents and carers Advice for schools and teachers Managing your applicationUndergraduatePostgraduateApprenticeships Research Research and knowledge exchangeResearch and knowledge exchange organisationBrighton Futures – our themesCentres of Research and Enterprise Excellence (COREs) Research and Enterprise Groups (REGs)Our research database Information for business Community University Partnership Programme (CUPP)Postgraduate research degrees PhD research disciplines and programmes PhD funding opportunities and studentshipsHow to apply for your PhD Research environment Investing in research careers Strategic plan Research concordat News, events, publications and filmsResearch and knowledge exchange newsInaugural lecturesResearch and knowledge exchange publications and filmsAcademic staff search About us Business and employers Alumni, supporters and giving Current students Staff Accessibility SearchUniversity of BrightonApply nowFind your courseFind your courseOrder a prospectusBook onto an advice Q+AChat to our studentsFind out more about your course, living here, social life, managing money, what help is on offer and what it\\'s like living away from home.Message nowWe see the personRight now there’s a lot of change to deal with, but the\\xa0inclusive and personalised way we make offers remains the same. We value a range of qualifications and achievements and we\\'ll consider your application individually.Apply to BrightonTop 50 for graduate outcomesBrighton is ranked in the top 50 UK universities, reflecting the number of our brilliant graduates who are in highly skilled employment or further study (2022 Complete University Guide).Read moreThe Big BuildThe Big Build is transforming our Moulsecoomb campus, with new student bedrooms, a new academic building, home to the School of Business and Law and new Students\\' Union and fitness facilities.Take a lookBrighton studentsWhether you\\'ve just joined us, or have returned to your studies this term, everyone is dealing with something new and different. Stay on track with our support and resources.Find out howDiscover our researchOur research and knowledge exchange activities tackle global challenges, solve practical problems and seek to improve people’s lives and environments. We foster a vibrant, agile research community; supporting our established experts and nurturing the next generation of talent from our thriving postgraduate and early career researchers.Tell me moreApplying to Brighton? Read our adviceHeadlinesNewsDesign Museum showcases Brighton-trained sustainable fashion pioneerThe award-winning social change fashion of University of Brighton graduate Bethany Williams has gone on show at London\\'s Design Museum until 4 September. NewsBrighton researchers at the heart of UK project to transform older age healthThe University of Brighton is leading a new national research network focused on transforming the wellbeing of older people and boosting the economy. News\"Our values become even more important in the face of adversity\"A message from the Vice-Chancellor on the Russian invasion of Ukraine.NewsBrighton the biggest climber in latest Complete University GuideThe University of Brighton has recorded the largest improvement of any UK institution in the updated 2022 Complete University Guide.COVID-19 updateIf you\\'re studying or thinking of studying here and have questions about COVID-19, our enquiries line 01273 644644 is open Monday–Friday, 10am–4pm.Read about what you can expect on campus.Contact usUniversity of Brighton Mithras House Lewes Road Brighton BN2 4ATMain switchboard 01273 600900 Course enquiries  Sign up for updates  University contacts Report a problem with this page Quick linksCoursesOpen daysOrder a prospectus Academic departments Academic staff Professional services departments JobsPrivacy and cookie policyAccessibility statementLibrariesTerm datesMapsGraduationSite informationOnline shopCOVID-19Information forCurrent studentsInternational studentsMedia/pressCareers advisers/teachersParents/carersBusiness/employersAlumni/supportersSuppliersLocal residents\\t<iframe src=\"//www.googletagmanager.com/ns.html?id=GTM-KGXLQ2\" height=\"0\" width=\"0\" style=\"display:none;visibility:hidden\"></iframe>', 'Brunel.ac.uk uses cookies to make our site better for you. By clicking on or navigating this site, you accept our use of cookies in accordance with our cookie policy.Close this message', 'We use cookies to track visits to our website and to deliver targeted messages about the University to users.We do not store personal details.For more information or to change your cookie settings, see our Cookie Policy. ACCEPT COOKIES What are cookies?', 'Our website uses cookies to enhance your experience. By continuing to browse the site you are agreeing to our use of cookies. You can find out more and control your Cookie settings on our Cookie Policy page.', 'We use cookies to ensure you get the best experience on our website.We use cookies to optimise site functionality and give you the best possible experience.', 'This site uses cookies. By continuing to browse the site you are consenting to their use. Please visit our cookie policy to find out which cookies we use and why.View cookie policy.', '\\t\\t\\t\\t\\t\\t\\tUniversity of Gloucestershire,\\t\\t\\t\\t\\t\\t\\tThe Park,\\t\\t\\t\\t\\t\\t\\tCheltenham,\\t\\t\\t\\t\\t\\t\\tGL50 2RH.\\t\\t\\t\\t\\t\\t\\tTelephone +44 (0)1242 714700View larger mapBusiness & partnershipsDo business on campusApprenticeshipsRecruit student talentVenue hireGrowth HubProcurementOutreach and widening participation Governance and structureStrategic Plan 2022-2027Student CharterInformation governanceUniversity CouncilSlavery and Human TraffickingInsuranceFreedom\\xa0of informationCriminal Finances Act StatementAppeals and complaintsValue for money About UsCoronavirus statementAcademic schoolsOur campusesLatest newsPress officeSustainabilityPublic lecturesGraduationAlumniPay onlineClearingBlogs  AccessibilityCareersDisclaimerDocument hubPrivacy & cookiesContact us  \\t\\t\\t\\t\\t\\t\\t\\t\\t© 2022 Copyright University of Gloucestershire\\t\\t\\t\\t\\t\\t\\t\\t\\tCompany Registration Number 06023243. VAT Number GB 393 9083 56.\\t\\t\\t\\t\\t\\t\\t\\tback to top ', \"Connect with us 中文网Information for:Current studentsNew studentsStaffAlumni and supportersQuick linksEmailiExeterLibrarySIDContact usJob vacanciesCampusesStreatham Campus Find usContact St Luke's Campus Find usContact Penryn Campus Find usContact Truro Campus Find usContact Footer links Using our siteFreedom of InformationModern Slavery Act StatementData ProtectionCopyright & disclaimerPrivacy & cookiesSite map\", 'We have updated our cookie policy. We use cookies to ensure that we give you the best experience on our website.', 'Your choice regarding cookies on this siteWe use cookies to provide functionality, understand how people use our website, and to personalise content on and off gold.ac.uk.', 'Our website uses cookies to recognise users of our site and optimise your experience. By continuing to use this site, you are giving your consent for us to set cookies. For more information, please see our Cookies Policy.', 'Necessary cookiesNecessary cookies enable core functionality such as page navigation and access to secure areas. The website cannot function properly without these cookies, and they can only be disabled by changing your browser preferences.Analytics and customisation cookiesThese cookies enhance the functionality of our websites and improve your user experience. Without these cookies, certain functionality (like videos, personalised content or the ability to save your favourite content) may not work.Advertising cookiesThese cookies are used to make advertising messages more relevant to you. They perform functions like preventing the same ad from continuously reappearing, ensuring that ads are properly displayed for advertisers, and in some cases selecting advertisements that are based on your interests.Save preferences', \"Our use of cookiesWe use necessary cookies to make our site work. We'd also liketo set optional cookies to help us measure web traffic and reporton campaigns.We won't set optional cookies unless you enable them.\", 'We use cookies to ensure that we give you the best experience on our website. Learn more about cookies on this siteClose this message ', 'We place cookies on your device to help make this website better, and improve your experience. You can change your cookie settings at any time. Please see our data protection policy for full details.', 'Accept cookiesWe use cookies to make sure you get the best experience on our website; you can read ourPrivacy Policy to learn more.Cookie Consent plugin for the EU cookie law', 'Cookies are files saved on your phone, tablet or computer when you visit a website. We use cookies to improve your website experience, gather information about how you use the website and to help us with marketing.You can find out more on the privacy page', 'We use cookies to understand how visitors use our website and to improve the user experience. To find out more, see our Cookies Policy.\\xa0\\xa0 Accept', \"Cookie SettingsSome essential features of our website won't work without cookies. Please check your cookie settings below and deselect any you wish to opt out of:We use cookies to ensure that we give you the best experience on our website. You can change your cookies in your browser at any time.\", 'Necessary cookies enable you to use all the different parts of leedsbeckett.ac.uk. Without them services that you have asked for cannot be provided. Necessary cookies can only be disabled by changing your browser preferences.', 'We use cookies for analytics, personalised content and ads. By continuing to browse this site, you agree to this use. ClosePrivacy Policy', 'We use cookies on this website to make your browsing experience better. By continuing to use this website, you agree toAccept and Continueour cookie policy.', 'This website uses cookies to improve user experienceBy using our website you consent to all cookies in accordance with our Cookie Policy', 'We use cookies on this site to enhance your user\\xa0experienceBy clicking the Accept button, you agree to us doing\\xa0so.', 'This site uses cookies to store information on your computer.Some of these cookies are essential, while others help us to improve your experience by providing insights into how the site is being used.For more information and to change your settings in the future, visit our privacy statement(Opens in a new window)External Link IconAccept all cookiesReject all cookiesNecessary CookiesNecessary cookies enable core functionality such as page navigation and access to secure areas. The website cannot function properly without these cookies, and can only be disabled by changing your browser preferences.Analytical CookiesAnalytical cookies help us to improve our website by collecting and reporting information on its usage.Analytical CookiesOnOffMarketing CookiesWe use marketing cookies to help us improve the relevancy of advertising campaigns you receive.Marketing CookiesOnOffSave and close', 'This site uses cookies.Some of these cookies are essential, while others help us to improve your experience.For more information vist our Privacy and Cookies Policy(Opens in a new window)External Link IconAccept Recommended SettingsI Do Not AcceptNecessary CookiesNecessary cookies enable core functionality. These can only be disabled by changing your browser preferences.Analytical CookiesAnalytical cookies help us to improve our website by collecting and reporting information on its usage.Analytical CookiesOnOffMarketing CookiesWe use marketing cookies to help us improve the relevancy of advertising campaigns you receive.Marketing CookiesOnOffAbout this tool(Opens in a new window)External Link Icon', 'Northumbria University uses cookies to improve your experience on our site.\\xa0 By clicking accept you consent to our cookies on this device Learn More', 'This website uses cookies to enhance your user experience. By continuing to browse the site you are agreeing to our use of cookies. Find out more hereOK', 'Your choice regarding cookies on this siteEssential cookies are enabled by default to give you the best possible site experience. For details on the other cookies we use click on settings, or accept them all.', 'We use a variety of analytics and marketing cookies to help improve our website and give you the best possibleexperience. Analytics cookies allow us to review our website traffic and performance, building intelligence on howour site is used. We also use marketing cookies via third party technologies/agencies to advertise online. Thesetrack the ads you have been exposed to, and help us serve up targeted and relevant content to you. You can changeyour cookie settings at any stage if you wish. By continuing without changing your cookie settings, you aretherefore agreeing to this. Please read our website terms of use to findout more.I Accept', 'Your choice regarding cookies on this siteWe use cookies to optimise site functionality and give you the best possible experience.', 'This website uses cookies to ensure you get the best experience on our website.AcceptMore Information ', 'We use cookies on this website to improve your browsing experience. Some of the cookies are used for analysis and marketing purposes.\\xa0For more details see our\\xa0privacy and cookie statement.Accept Recommended Settings Manage Preferences ', 'We use cookies to personalise your experience on this site and others. For more information, visit our Privacy & Cookies page.', 'YOUR CHOICE REGARDING COOKIESWe use cookies to optimise site functionality and give you the best possible experience.', 'The University of Nottingham collects and holds some personal information about how you use our website when you visit us.OKSee our policy', 'Your choice regarding cookies on this siteWe use cookies to optimise site functionality and give you the best possible experience.', 'This website uses cookies to ensure you get the best experience during your visit. Read our Cookie PolicyAccept and close', 'Select \"Accept\" to agree to SOAS\\'s use of cookies and similar technologies to enhance your browsing experience, security, analytics, customization and personalized advertising. Select \"Cookie Settings\" to make more granular choices. ', \"Your cookie choices Our website uses cookies to help give you a better experience. By accepting all cookies, you agree to the storing of cookies on your device. Use 'Cookie settings' to manage your preferences.Cookie and similar technologies policy\", 'This site uses cookies and by using the site you are consenting to this. You can manage cookies in your browser.Find out more about cookies', 'Your choice regarding cookies on this siteWe use cookies to optimise site functionality and give you the best possible experience.', \"Skip to main contentCourses & TrainingBusiness ServicesResearchNews & EventsConnectCourses & Trainingdiscover sectionMain MenuCourses & TrainingCourse catalogueSubject areasCampusesUseful informationWays of learningTraining coursesStudent supportCourses & TrainingCourse catalogueCourse catalogueSubject areasSubject areasAgricultureAgricultureAnimal CareAnimal CareAnimal SciencesAnimal SciencesBusinessBusinessConservationConservationEngineeringEngineeringEnvironmentEnvironmentEquine & Horse CareEquine & Horse CareForestry & ArboricultureForestry & ArboricultureGarden DesignGarden DesignGolfGolfHorticulture & LandscapingHorticulture & LandscapingOrganic FarmingOrganic FarmingPoultryPoultryRural & Estate SkillsRural & Estate SkillsSustainabilitySustainabilityVeterinary NursingVeterinary NursingCampusesCampusesStudent accommodationStudent accommodationAccommodation at SRUC King’s Buildings, EdinburghAccommodation at SRUC King’s Buildings, EdinburghAccommodation at SRUC Riverside, AyrAccommodation at SRUC Riverside, AyrAccommodation at SRUC Barony, DumfriesAccommodation at SRUC Barony, DumfriesAccommodation at SRUC Craibstone, AberdeenAccommodation at SRUC Craibstone, AberdeenAccommodation at SRUC Elmwood, FifeAccommodation at SRUC Elmwood, FifeAccommodation at SRUC Oatridge, West LothianAccommodation at SRUC Oatridge, West LothianCampus term & course datesCampus term & course datesSRUC King's Buildings, EdinburghSRUC King's Buildings, EdinburghSRUC Riverside, AyrSRUC Riverside, AyrSRUC Barony, DumfriesSRUC Barony, DumfriesSRUC Craibstone, AberdeenSRUC Craibstone, AberdeenSRUC Elmwood, FifeSRUC Elmwood, FifeSRUC Oatridge, West LothianSRUC Oatridge, West LothianGlasgow Queens ParkGlasgow Queens ParkUseful informationUseful informationOpen days & eventsOpen days & eventsFees & fundingFees & fundingRequest a prospectusRequest a prospectusHow to applyHow to applyGetting started at SRUCGetting started at SRUCBefore you arriveBefore you arriveInduction and course startInduction and course startProgrammes & systems for studentsProgrammes & systems for studentsIT resource assessmentIT resource assessmentMulti-factor authenticationMulti-factor authenticationStudent support assessmentStudent support assessmentStatement of tuition fee liabilityStatement of tuition fee liabilityStudent parking applicationStudent parking applicationCraibstone campus coach transportCraibstone campus coach transportQualifications and requirementsQualifications and requirementsEntry requirements for academic coursesEntry requirements for academic coursesCollege & university qualifications explainedCollege & university qualifications explainedParents & guardiansParents & guardiansWays of learningWays of learningDistance learningDistance learningWork-based learningWork-based learningPostgraduate StudiesPostgraduate StudiesAdult & continuing educationAdult & continuing educationPart-time studyPart-time studyCourses for schoolsCourses for schoolsTraining coursesTraining coursesVeterinary CPD coursesVeterinary CPD coursesTestimonialsTestimonialsFind a CPD courseFind a CPD courseSouth Scotland training coursesSouth Scotland training coursesCentral Scotland training coursesCentral Scotland training coursesNorth Scotland training coursesNorth Scotland training coursesScotPIL Poultry personal license courseScotPIL Poultry personal license courseStudent supportStudent supportInternational studentsInternational studentsLiving in ScotlandLiving in ScotlandPracticalitiesPracticalitiesScottish ways and customsScottish ways and customsStudy requirements for international studentsStudy requirements for international studentsVisas & immigrationVisas & immigrationStudent visaStudent visaGraduate immigration routeGraduate immigration routeDo I need a visa?Do I need a visa?ErasmusErasmusERASMUS term datesERASMUS term datesApplying for Erasmus Exchange at SRUCApplying for Erasmus Exchange at SRUCPartnersPartnersSRUC Craibstone, Aberdeen coursesSRUC Craibstone, Aberdeen coursesSRUC King’s Buildings, Edinburgh coursesSRUC King’s Buildings, Edinburgh coursesSRUC Riverside, Ayr coursesSRUC Riverside, Ayr coursesCareer servicesCareer servicesCampus-specific careers adviceCampus-specific careers adviceInformation for career advisorsInformation for career advisorsAcademic supportAcademic supportHealth & wellbeingHealth & wellbeingCampus medical servicesCampus medical servicesStudents' AssociationStudents' AssociationBackBusiness Servicesdiscover sectionMain MenuBusiness ServicesWhat is your goal?Help in your sectorBusiness ServicesWhat is your goal?What is your goal?Veterinary & laboratory servicesVeterinary & laboratory servicesSheep and goat health schemesSheep and goat health schemesHighlands and Islands Sheep Health Association (HISHA)Highlands and Islands Sheep Health Association (HISHA)Premium Sheep and Goat Health SchemesPremium Sheep and Goat Health SchemesShow and sale organisersShow and sale organisersMember resourcesMember resourcesAbout the diseasesAbout the diseasesScrapie monitoring for exportScrapie monitoring for exportCattle health schemesCattle health schemesBVD Stamp It OutBVD Stamp It OutPremium Cattle Health SchemePremium Cattle Health SchemeMember resourcesMember resourcesAbout the diseasesAbout the diseasesShetland Islands Health SchemeShetland Islands Health SchemeVeterinary diagnosticsVeterinary diagnosticsAnimal disease surveillanceAnimal disease surveillanceScottish Government Veterinary Services ProgrammeScottish Government Veterinary Services ProgrammeLivestock health planningLivestock health planningCapital Quality Assessment Scheme (C-QAS)Capital Quality Assessment Scheme (C-QAS)Horse health schemeHorse health schemePremium Assured Strangles SchemePremium Assured Strangles SchemeMember resourcesMember resourcesContact Veterinary ServicesContact Veterinary ServicesAnimal feed, crop & soil analytical servicesAnimal feed, crop & soil analytical servicesAnimal feed & forage testingAnimal feed & forage testingCrop testingCrop testingOrganic waste analysisOrganic waste analysisSoils analysisSoils analysisSubscribe to our consulting servicesSubscribe to our consulting servicesSustainabilitySustainabilityAgrecalcAgrecalcBiodiversity consultancyBiodiversity consultancyCircular economyCircular economyClimate changeClimate changeWater & air qualityWater & air qualityFood & FootprintFood & FootprintDiversificationDiversificationAgriScot Diversified Farm of the Year awardAgriScot Diversified Farm of the Year awardCommercial opportunitiesCommercial opportunitiesManaging business financesManaging business financesCommission project management & researchCommission project management & researchBrand, marketing & digital adviceBrand, marketing & digital adviceHelp in your sectorHelp in your sectorAgricultural productionAgricultural productionCattle & sheepCattle & sheepLivestock Record ProgrammeLivestock Record ProgrammeSheep & Beef NewsSheep & Beef NewsCropsCropsDairyDairyGrassland managementGrassland managementGrazeUPGrazeUPOrganic farmingOrganic farmingPigsPigsPotatoesPotatoesPoultryPoultrySoilsSoilsSoil health testingSoil health testingTaking soil samplesTaking soil samplesTechnical notesTechnical notesFarm business managementFarm business managementBookkeeping & payroll servicesBookkeeping & payroll servicesCore farm servicesCore farm servicesElectricity Buying ServiceElectricity Buying ServiceFarm Management HandbookFarm Management HandbookManagement & individual contractsManagement & individual contractsMilkNETMilkNETNitrate Vulnerable ZonesNitrate Vulnerable ZonesScottish Farm Business SurveyScottish Farm Business SurveyFood & drinkFood & drinkNatural resource managementNatural resource managementBy-productsBy-productsSOMASOMARenewable energyRenewable energySoil, water, air & wasteSoil, water, air & wasteSpecialist projectsSpecialist projectsFarm woodlands & forestryFarm woodlands & forestryCroftingCroftingDevelopment planning & designDevelopment planning & designEnvironmental assessments & planningEnvironmental assessments & planningMajor projectsMajor projectsRural developmentRural developmentAgritourismAgritourismBackResearchdiscover sectionMain MenuResearchFacilities & capabilitiesResearch activitiesChallenge CentresResearch operationsPhD opportunitiesResearchFacilities & capabilitiesFacilities & capabilitiesBeef & sheep researchBeef & sheep researchBeef & sheep research facilitiesBeef & sheep research facilitiesEaster Howgate FarmEaster Howgate FarmMethane chambersMethane chambersFeed efficiencyFeed efficiencyMeat qualityMeat qualityCT scanningCT scanningPrecision livestock farmingPrecision livestock farmingBeef & sheep research projectsBeef & sheep research projectsParabanParabanMeet the Beef & sheep research teamMeet the Beef & sheep research teamRural Policy CentreRural Policy CentreRural policy resourcesRural policy resourcesEnvironment & climateEnvironment & climateLand use & land reformLand use & land reformFood, health & wellbeingFood, health & wellbeingRural economies & communitiesRural economies & communitiesRural Policy eventsRural Policy eventsRural Brexit HubRural Brexit HubAbout the Rural Policy CentreAbout the Rural Policy CentreMeet the teamMeet the teamCommission a projectCommission a projectRural Policy Centre research & analysisRural Policy Centre research & analysisRural ReportRural ReportSGSRPSGSRPDairy Research & Innovation CentreDairy Research & Innovation CentreCrichton Royal FarmCrichton Royal FarmMeet the Dairy teamMeet the Dairy teamDairy Research Centre facilitiesDairy Research Centre facilitiesCows & feedingCows & feedingCalf research facilityCalf research facilitySoil & grassland workSoil & grassland workDairy projectsDairy projectsDairy sensorsDairy sensorsLanghill breeding studyLanghill breeding studyTanzania milk qualityTanzania milk qualityGrASTechGrASTechLegumes TranslatedLegumes TranslatedSmartCowSmartCowDairy-4-FutureDairy-4-FutureHome-grown feedsHome-grown feedsFeeding by-productsFeeding by-productsSoil compactionSoil compactionLow protein dietsLow protein dietsControlled traffic farmingControlled traffic farmingOutwintering heifersOutwintering heifersDairy PhD projectsDairy PhD projectsHonours & Masters projectsHonours & Masters projectsCCC farmingCCC farmingKeeping Cow with CalfKeeping Cow with CalfTechnical notesTechnical notesMonogastric researchMonogastric researchPig Info GroupPig Info GroupPoultry activitiesPoultry activitiesBiosecurityBiosecurityConventional, free-range & organicConventional, free-range & organicHusbandryHusbandryNutritionNutritionHill & mountain researchHill & mountain researchCrop trialsCrop trialsBiorefining & advanced materials researchBiorefining & advanced materials researchResearch activitiesResearch activitiesSoils & plantsSoils & plantsAnimal behaviour & welfareAnimal behaviour & welfareQualitative Behaviour Assessment appQualitative Behaviour Assessment appGenetics & genomicsGenetics & genomicsDisease & epidemiologyDisease & epidemiologyGreenhouse gases & environmentGreenhouse gases & environmentAgri-food systemsAgri-food systemsEconomics & policyEconomics & policyInternational researchInternational researchFarming MindsFarming MindsChallenge CentresChallenge CentresFuture food systemsFuture food systemsGlobal climate emergencyGlobal climate emergencySafe & improved foodSafe & improved foodThriving natural capitalThriving natural capitalDelivering data & digital innovationDelivering data & digital innovationResearch operationsResearch operationsOpen accessOpen accessResearch ethicsResearch ethicsAnimal Ethical CommitteeAnimal Ethical CommitteePhD opportunitiesPhD opportunitiesBackNews & Eventsdiscover sectionMain MenuNews & EventsNews & viewsEventsPodcasts & videosNewsletterMedia CentreNews & EventsNews & viewsNews & viewsEventsEventsPodcasts & videosPodcasts & videosSRUCBytesSRUCBytesSRUC Rural Policy podcastSRUC Rural Policy podcastThriving Natural Capital podcastThriving Natural Capital podcastNewsletterNewsletterMedia CentreMedia CentreBackConnectdiscover sectionMain MenuConnectContact usJobsAbout SRUCFind an expertAlumni & friendsFacilitiesSupport SRUCConnectContact usContact usJobsJobsList of vacanciesList of vacanciesRecruitment processRecruitment processApplication & interview adviceApplication & interview adviceSkilled Worker visa guidanceSkilled Worker visa guidanceCosts involved in obtaining a visaCosts involved in obtaining a visaWorking for SRUCWorking for SRUCBenefitsBenefitsAbout SRUCAbout SRUCOur historyOur historyInternational activitiesInternational activitiesGovernanceGovernancePolicies & compliancePolicies & complianceProcurementProcurementFinance & regulationsFinance & regulationsComplianceCompliancePrivacy policy, GDPR & cookiesPrivacy policy, GDPR & cookiesFreedom of informationFreedom of informationComplaints handling procedureComplaints handling procedureModern Slavery ActModern Slavery ActAccessibilityAccessibilityClimate Change Action PlanClimate Change Action PlanSRUC ShopSRUC ShopEquality, diversity & inclusionEquality, diversity & inclusionCovid-19 informationCovid-19 informationCovid-19 information for studentsCovid-19 information for studentsCovid-19 Veterinary Services updateCovid-19 Veterinary Services updateFind an expertFind an expertAlumni & friendsAlumni & friendsAlumni storiesAlumni storiesKeep in touch with the communityKeep in touch with the communityUpdate your detailsUpdate your detailsAlumni jobs & careersAlumni jobs & careersEmployers looking for SRUC alumniEmployers looking for SRUC alumniRecruitment agencies & sector specialistsRecruitment agencies & sector specialistsSRUC Matters magazineSRUC Matters magazineAlumni discount for postgraduate coursesAlumni discount for postgraduate coursesFacilitiesFacilitiesCampus librariesCampus librariesHoliday letsHoliday letsScottish National Equestrian CentreScottish National Equestrian CentreGolf coursesGolf coursesConferences & eventsConferences & eventsSRUC Oatridge conferences & eventsSRUC Oatridge conferences & eventsSRUC Barony conferences & eventsSRUC Barony conferences & eventsSupport SRUCSupport SRUCBack\", 'We use cookies to ensure you have the best browsing experience, to help us improve our website and for targeted advertising. By continuing to browse the site you are agreeing to our use of cookies, check our cookies page for more information.Accept and close', ' We use cookies to help our site work, to understand how it is used, and to tailor ads that are more relevant to you and your interests.By accepting, you agree to cookies being stored on your device. You can view details and manage settings at any time on our cookies policy page.', \"Cookie settingsWe use cookies to help enhance site navigation, analyse site usage and assist in our marketing efforts. You can control which cookies are set when using our site by clicking 'Manage cookie settings'.\", 'This website uses cookies to ensure we offer you the best possible experience on our website. By continuing to use our site, you agree to our cookie policy. Learn moreContinue', 'The University of Stirling uses cookies for advertising and analytics. Read our website privacy notice to find out more.Close', 'We use cookies to give you the best online experience. Please let us know if you agree to functional, advertising and performance cookies. You can update your cookie preferences at any time.Cookie policy', 'This website uses cookies to improve user experience. By using our website you consent to all cookies in accordance with our Cookie Policy. Accept & Close', 'We use cookies to ensure the best experience on our website.By accepting you agree to cookies being stored on your device.', \"We use cookies to improve your experience on our site. Some of the cookies we use are essential for our site to work, others assist us with our marketing. You can use your browser to change your cookie settings, otherwise, we'll assume you're ok to continue.How we use cookiesI accept\", 'This website uses cookies to improve user experience. By using our website, you consent to all cookies in accordance with our Cookie Policy. I agree', \"This website uses cookies to give you the best online experience. If you'd like to know more or change your settings,our cookie policy explains more.Accept\", 'This website uses cookies to enhance your user experience. To find out more, read our privacy policy.Cookie settingsACCEPTNecessary cookies are absolutely essential for the website to function properly. This category only includes cookies that ensures basic functionalities and security features of the website. These cookies do not store any personal information.', 'This website uses cookies to give you the best experience. By continuing to use this website, you agree to our use of cookies. Privacy PolicyAccept', 'Your choice regarding cookies on this siteWe use cookies to optimise site functionality and give you the best possible experience.', 'Privacy Policy and use of CookiesWe use cookies on our website to offer a better browsing experience, analyze web traffic and personalize content. By using our website, you agree to the use of cookies as described in our Privacy Policy.AgreeDeclineLearn more about cookies', \"American University uses cookies and other technology on our website to improve your experience and to better understand how you use our websites. I agree to American University's use of cookies. Learn moreAgree\", 'We use cookies on our website to give you the most relevant experience by remembering your preferences and repeat visits. By clicking “Accept All”, you consent to the use of ALL the cookies. However, you may visit \"Cookie Settings\" to provide a controlled consent.Cookie SettingsAccept All', 'We use cookies on our website to give you the most relevant experience by remembering your preferences and repeat visits. By clicking “Accept All”, you consent to the use of ALL the cookies. However, you may visit \"Cookie Settings\" to provide a controlled consent.Cookie SettingsAccept All', 'xCookie AcknowledgementThis website uses cookies to collect information to improve your browsing experience. Please review our \\t\\t\\tPrivacy Statement for more information.\\t\\t', '©2022 Azusa Pacific University901 E. Alosta Ave., Azusa, CA 91702Contact DirectoryFeedbackPrivacyAccessibilityThis website uses cookies to gather anonymous usage data. By continuing to access this site, you consent to their use.For more information, view our privacy policy.Accreditations', 'This website uses cookies to understand how you use the website and to improve your experience. By continuing to use the website, you accept Averett University’s use of cookies and similar technologies. To learn more about our use of cookies and how to manage your browser cookie settings, please review our Privacy Policy. Accept Read More', ' CLOSEWe have changed our Privacy Statement and we use cookies on our website in an effort to improve your experience on our site.If you continue to use our website, you are consenting to the revised Privacy Statement and the use of cookies in accordance with the Privacy Statement. For more information please see our Privacy Statement.', 'This site uses cookies to improve your experience. Read our Web Privacy Policy for more information.Got it! ×', 'We use cookies on this site to enhance your user experienceBy clicking any link on this page you are giving your consent for us to set cookies. More info', 'We use cookies to give you a Fired Up web experience.By continuing to use the site, you are agreeing to our use of cookies. Privacy Policy.OKOK', 'The Central European University website uses cookies to ensure the basic functionality of the site and for statistical and optimization purposes. It also uses cookies to display content such as YouTube videos and for marketing purposes. Learn more:\\xa0CEU Cookie Statement. You may either accept or reject usage of cookies via the following links.More info', 'Colorado Christian University uses cookies to enhance your browsing experience through analysis of our site usage, and assists us in our marketing and promotional efforts. By continuing to use the site, you agree to the storage of first- and third-party cookies on your device. Privacy policy.Okay, thanks', '<img style=\"float: left;padding-right:5px\" class=\"left lazy\" alt=\"\" src=\"data:image/svg+xml,%3Csvg%20xmlns=\\'http://www.w3.org/2000/svg\\'%20viewBox=\\'0%200%201%201\\'%3E%3C/svg%3E\" data-src=\"https://s3.amazonaws.com/strosemedia/wp-content/uploads/2019/05/30151907/Golden-Knight.png\" />We use cookies to ensure that we give you the best experience on our website. If you continue to use this site, we will assume you have agreed to our policy.', 'That’s one smart cookie.We use cookies to analyze traffic and improve your experience. By continuing without changing your cookie settings, you agree to this convention. For more information, please see our Privacy & Security Statement.Ok, Got It', 'By clicking “Accept All Cookies”, you agree to the storing of cookies on your device to enhance site navigation, analyze site usage, and assist in our marketing efforts.Cookie/Privacy Policy', 'We use cookies to analyze traffic and improve your experience. By continuing without\\t\\t\\t\\t\\tchanging your cookie settings, you agree to this convention. For more information,\\t\\t\\t\\t\\tplease see our Privacy Notice Policy.\\t\\t\\t\\tOk, Got It', 'OK Accept Privacy Statement\\t\\t\\tThis website uses cookies and similar tools and technologies to understand visitors’ experiences. By\\xa0continuing to use this website, you consent to Embry-Riddle Aeronautical University’s use of cookies and similar technologies, in accordance with the Embry-Riddle Privacy\\xa0Statement.\\t\\t', 'We use cookies on this site to enhance your user experienceBy continuing to use this site, you agree to our\\xa0use of cookies.', 'By clicking “Accept All Cookies”, you agree to the storing of cookies on your device to enhance site navigation, analyze site usage, and assist in our marketing efforts. Privacy & Cookie Policy', 'FGCU Privacy PolicyThis website stores cookies on your computer to improve your browsing experience.The university does not collect personal information as you browse. Learn about ourPrivacy and GDPR statements. ', 'We use cookies to ensure that we give you the best experience on our website. If you continue use this site we will assume that you agree to this.Ok', 'We use cookies to enhance our website and improve your browsing experience. To accept cookies click the \"I Understand\" button, or view our privacy page for more information.', 'This website uses cookies.\\xa0For more information, review our\\xa0Privacy & Legal Notice.\\xa0Questions?\\xa0Please email\\xa0privacy@gatech.edu. No, give me more info', 'We analyze traffic to this site. We collect statistical data on an aggregated basis through Google Analytics. For example, we collect information about the domain names of servers that bring visitors to our site. We count the number of visitors and keep track of where they go on our site. Such information allows us to find out what areas users visit most frequently and what services they access the most, which enables us to create a better overall user experience. To gather such data, we use cookie technology, which collects data in aggregate form, not by individual user.', 'We use cookies and similar technologies to understand our visitors’ experiences. By continuing to use this website, you agree to this condition of use. For further information please see our privacy policy. ', \"COVID-19 InformationRequest InfoMenuAcademicsAcademicsAcademicsUndergraduateGraduateLawOnlineStudy AbroadSchools and CollegesLibrary and ArchivesContinuing EducationAdmissionAdmissionAdmissionUndergraduateGraduate AdmissionOnline Bachelor's CompletionTransferInternationalTuition and AidRequest InformationVisitLife at HamlineLife at HamlineLife at HamlineAcademic AssistanceActivitiesAthleticsBookstoreCareers and InternshipsCounseling and HealthHousing and DiningNeighborhoodTransportationAboutAboutAboutFast FactsMaps and LocationsVirtual TourRankingsMission and HistoryPresident's OfficeInclusive ExcellenceOffices and ServicesEmploymentResourcesResourcesResourcesCurrent StudentsAdmitted StudentsInternational StudentsFamilies and ParentsFaculty and StaffMilitary Student Resource CenterAlumniNeighborsHEOA Consumer Information DisclosuresAlumni & DonorsAlumni & DonorsAlumni & DonorsAlumni DirectoryAlumni EventsHamline MagazineMake a Gift NowWays to GiveTake the Lead CampaignContact UsSearchSearch:Academic CalendarNewsEventsDirectoryMapsContactLoginsLoginsEmailCanvasBannerPiperlineWorkdayPassword ResetCourse ListingsMoreApplyAcademic Calendar | \\t\\t\\t\\t\\t\\tNews | Events | \\t\\t\\t\\t\\t\\tDirectoryMaps | \\t\\t\\t\\t\\t\\tContact | \\t\\t\\t\\t\\t\\tLogins | \\t\\t\\t\\t\\t\\tApplySearchSearchApplyRequest InfoHamline's Home Page Content A diploma that makes a difference.\\t\\t\\tWe take the lead.\\t\\tGet more infoApplyFIND YOUR PROGRAM We do all the good we can.Whether it’s volunteering with community cleanup efforts or working with students at Hamline Elementary, we believe in putting education into service.Visit CampusGraduate Info Sessions Hamline AdmissionsFIND YOUR PROGRAMUNDERGRADUATEMajor, minor, and certificate programsChoose Your Area of StudySelectBusiness and Economics EducationFine ArtsGlobal StudiesHumanities and CultureLaw, Political Science, and Public PolicyMath, Science, and TechnologyPsychology and Social SciencesAdditional licensure programs ›Administrative licensure ›Continuing studies courses ›Doctorate in Education ›Educational Specialist ›Graduate business certificates ›Graduate education certificates ›Master of Arts in Education ›Master of Arts in Literacy Education ›Master of Arts in Natural Science and Environmental Education ›Master of Arts in Teaching - Initial MN Teaching License ›Master of Arts in Teaching English to Speakers of Other Languages ›Master of Arts in the Study of Law ›Master of Arts in Writing for Children and Young Adults ›Master of Business Administration ›Master of Fine Arts in Creative Writing ›Master of Management and Leadership ›Master of Nonprofit Management ›Master of Public Administration ›Master of Science in Business Analytics ›Paralegal certificate ›PhD in Management and Public Service ›Accounting ›Anthropology ›Art (studio arts) ›Art history ›Biochemistry ›Biology ›Business ›Business analytics ›Chemistry ›Chinese ›Communication studies ›Computational data science ›Conflict studies ›Creative writing ›Criminology and criminal justice ›Digital media arts ›Economics ›Education ›Education (co-major) ›Education (minor) ›Electrical engineering (pre-professional) ›English ›Exercise science ›Finance ›Forensic Psychology (concentration) ›Forensic science (certificate, minor only) ›German ›Global studies ›History ›International business ›Law (pre-professional) ›Legal studies ›Linguistics ›Linguistics (applied) ›Management ›Marketing ›Mathematics ›Mechanical engineering (pre-professional) ›Medical (pre-professional) ›Music ›Neuroscience ›Nonprofit management (minor only) ›Paralegal certificate ›Philosophy ›Physics ›Political science ›Professional writing ›Psychology ›Public health sciences ›Religion ›Rhetoric ›Social justice ›Sociology ›Spanish ›Theatre arts ›Women's studies ›GRADUATEMaster's, doctoral, and certificate programsChoose Your Area of StudySelectBusiness and Public AdministrationEducationLegal StudiesWritingAdditional licensure programs ›Administrative licensure ›Continuing studies courses ›Doctorate in Education ›Educational Specialist ›Graduate business certificates ›Graduate education certificates ›Master of Arts in Education ›Master of Arts in Literacy Education ›Master of Arts in Natural Science and Environmental Education ›Master of Arts in Teaching - Initial MN Teaching License ›Master of Arts in Teaching English to Speakers of Other Languages ›Master of Arts in the Study of Law ›Master of Arts in Writing for Children and Young Adults ›Master of Business Administration ›Master of Fine Arts in Creative Writing ›Master of Management and Leadership ›Master of Nonprofit Management ›Master of Public Administration ›Master of Science in Business Analytics ›Paralegal certificate ›PhD in Management and Public Service ›Accounting ›Anthropology ›Art (studio arts) ›Art history ›Biochemistry ›Biology ›Business ›Business analytics ›Chemistry ›Chinese ›Communication studies ›Computational data science ›Conflict studies ›Creative writing ›Criminology and criminal justice ›Digital media arts ›Economics ›Education ›Education (co-major) ›Education (minor) ›Electrical engineering (pre-professional) ›English ›Exercise science ›Finance ›Forensic Psychology (concentration) ›Forensic science (certificate, minor only) ›German ›Global studies ›History ›International business ›Law (pre-professional) ›Legal studies ›Linguistics ›Linguistics (applied) ›Management ›Marketing ›Mathematics ›Mechanical engineering (pre-professional) ›Medical (pre-professional) ›Music ›Neuroscience ›Nonprofit management (minor only) ›Paralegal certificate ›Philosophy ›Physics ›Political science ›Professional writing ›Psychology ›Public health sciences ›Religion ›Rhetoric ›Social justice ›Sociology ›Spanish ›Theatre arts ›Women's studies › The Undergraduate ExperienceReal-world experience, built into your education.No matter what you study, you’ll graduate with service learning, hands-on research, or an internship on your résumé. Or all three. Because in today’s world, real-life experiences aren’t merely a perk: they’re a necessity.- Mari Johnson ’20, physics majorExplore ProgramsUndergraduate AdmissionTransfer to HamlineComplete Your Bachelor's Online Hamline AdmissionsThe Graduate ExperienceGain 21st-century leadership skills.Our graduate programs help students build the expertise they need to succeed—and lead.(pictured) Abdul Wright ’16 MA-Education, 2016 Minnesota Teacher of the YearExplore Graduate ProgramsGraduate AdmissionInformation Sessions Hamline Admissions Hamline Admissions Hamline AdmissionsFacebookTwitterYouTubeInstagramAcademicsUndergraduateGraduateLawOnlineStudy AbroadSchools and CollegesLibrary and ArchivesContinuing EducationAdmissionUndergraduateGraduate AdmissionOnline Bachelor's CompletionTransferInternationalTuition and AidRequest InformationVisitLife at HamlineAcademic AssistanceActivitiesAthleticsBookstoreCareers and InternshipsCounseling and HealthHousing and DiningNeighborhoodTransportationAboutFast FactsMaps and LocationsVirtual TourMission and HistoryPresident's OfficeInclusive ExcellenceOffices and ServicesEmploymentResourcesCurrent StudentsAdmitted StudentsInternational StudentsFamilies and ParentsFaculty and StaffMilitary Student Resource CenterAlumniNeighborsCARES ActHEOA Consumer Information Disclosures\\t\\t\\t\\t\\t\\t\\t\\tTitle IX\\t\\t\\t\\t\\t\\t\\tWhy is this h3 hereIn affiliation with:\\xa0 Mitchell Hamline School of Law* has more enrollment options than any law school in the nation.© 2021 Hamline University1536 Hewitt Avenue Saint Paul, MN 55104AccreditationContactPrivacyCampus Map\", 'We are using cookies to give you the best experience on our website.You can find out more about which cookies we are using or switch them off in settings.', 'We use cookies to ensure that we give you the best experience on our website. If you continue to use this site we will assume that you are happy with it. OK', \"A fortune cookie once told me: writing is a craft, not an art. I try to live by this fortune cookie's wisdom. I definitely don't view writing as a talent; my writing is full of practice, hard work, perseverance and diligence.\", 'We use cookies on this site to enhance your user experience.By continuing to use this site, you agree to the use of cookies. Privacy Policy.I agree', 'This site uses cookies to offer you a better browsing experience, analyze site traffic, personalize content, and serve targeted advertisements. Review our cookies and privacy policy for more information. If you continue to use this site, you consent to our use of cookies.×', \"Lawrence Technological University, near Detroit, MI, A private university with programs in the Arts & Sciences, Architecture & Design, Business Management, Engineering and Technology fields.  21000 West Ten Mile RoadSouthfield, MI, 48075-1058 1 800 CALL LTU 1-800-225-5588 (1 800 225 5588)AdmissionsAcademicsCampus LifeCommunityCurrent StudentsFaculty + StaffNewsEventsAthleticsAlumniGive NowApplyHomeContact UsSite Map © 2022 Lawrence Technological University \\xa0 | \\xa0 Privacy Statement\\t\\tThis site uses cookies to provide you with a better experience. For information on LTU's cookie policy, please visit this page.\\t\\tBy continuing to use the site or closing this banner, you are agreeing to our terms of use.\\t\\t× ×Request InfoGet Personalized Information Based on your Interests Lawrence Technological University has created a personalized, easy-access web site for prospective students.  You can start by setting up your own VIP interest page. Based on your unique interests and needs, we will communicate directly with you about events and other important information you might like to know.  To create your VIP interest page, choose the level of admissions you are seeking: Undergraduate Graduate  Contact us today. 248.204.3160 800.225.5588 admissions@ltu.edu We look forward to hearing from you!×Heading ×Heading ×× × × closeHeading  [Read more ]\", 'This website uses cookies to ensure site visitors get the best experience on our website. By continuing to use this site, you accept our use of cookies and Privacy Statement. To learn more, please visit LSU Privacy Statement.', 'We use cookies on this site to enhance your user experience. To accept cookies click the \"Ok, I agree\" button, or view our privacy statement for more information.']\n"
          ]
        }
      ]
    },
    {
      "cell_type": "code",
      "metadata": {
        "id": "YwXj9Cwfjt41"
      },
      "source": [
        "\n",
        "def tokenize_normalize(string):\n",
        "  return normalize(spacy_tokenize(string))"
      ],
      "execution_count": 36,
      "outputs": []
    },
    {
      "cell_type": "code",
      "metadata": {
        "id": "JjvakxSQEu-m",
        "colab": {
          "base_uri": "https://localhost:8080/"
        },
        "outputId": "f529feef-0769-4e6a-bf20-8392bf12570c"
      },
      "source": [
        "from collections import Counter\n",
        "# tokenize and normalize ALL cookies the count themm using Counter method\n",
        "list1 = normalized_tokens\n",
        "counts = Counter(list1)\n",
        "counts.most_common(10)"
      ],
      "execution_count": 37,
      "outputs": [
        {
          "output_type": "execute_result",
          "data": {
            "text/plain": [
              "[('cooky', 183),\n",
              " ('use', 177),\n",
              " ('website', 82),\n",
              " ('site', 74),\n",
              " ('experience', 71),\n",
              " ('policy', 58),\n",
              " ('cookie', 54),\n",
              " ('privacy', 42),\n",
              " ('information', 41),\n",
              " ('continue', 34)]"
            ]
          },
          "metadata": {},
          "execution_count": 37
        }
      ]
    },
    {
      "cell_type": "code",
      "source": [
        "# plot the mkost frequent words\n",
        "import matplotlib.pyplot as plt\n",
        "fig = plt.figure()\n",
        "ax = fig.add_axes([0,0,1,1])\n",
        "words = [ word for (word,count) in counts.most_common(20)]\n",
        "count = [ count for (word,count) in counts.most_common(20)]\n",
        "\n",
        "ax.bar(words,count)\n",
        "plt.xticks(rotation='vertical')\n",
        "ax.set_xlabel('Words')\n",
        "ax.set_title('20 most frequent words found in cookies')\n",
        "ax.set_ylabel('Counts')\n",
        "\n",
        "plt.show()"
      ],
      "metadata": {
        "colab": {
          "base_uri": "https://localhost:8080/",
          "height": 403
        },
        "id": "LDrGFJiANuvM",
        "outputId": "363e8ac6-f46a-4abc-f565-ff39c042d636"
      },
      "execution_count": 38,
      "outputs": [
        {
          "output_type": "display_data",
          "data": {
            "text/plain": [
              "<Figure size 432x288 with 1 Axes>"
            ],
            "image/png": "[encoded data removed]"
          },
          "metadata": {
            "needs_background": "light"
          }
        }
      ]
    },
    {
      "cell_type": "markdown",
      "source": [
        "### Count the length (number of tokens) of the cookies "
      ],
      "metadata": {
        "id": "JiHUZHCCqQ-b"
      }
    },
    {
      "cell_type": "code",
      "source": [
        "lengths = []\n",
        "less_informative_counts = 0\n",
        "medium_informative_counts = 0\n",
        "very_informative_counts = 0\n",
        "for cookie in post_vals:\n",
        "  tokenized_cookie = tokenize_normalize(cookie)\n",
        "  # remove noisy cookies\n",
        "  \n",
        "  if (len(tokenized_cookie)<100):\n",
        "    lengths.append(len(tokenized_cookie))\n",
        "    if (len(tokenized_cookie)<=10):\n",
        "      less_informative_counts += 1\n",
        "      print(cookie)\n",
        "    elif len(tokenized_cookie) < 30:\n",
        "      medium_informative_counts += 1\n",
        "    else:\n",
        "      very_informative_counts  += 1\n"
      ],
      "metadata": {
        "colab": {
          "base_uri": "https://localhost:8080/"
        },
        "id": "raC8eg5PtGhm",
        "outputId": "b4963c6b-5ae8-4fad-87d6-94ab87f6610b"
      },
      "execution_count": 47,
      "outputs": [
        {
          "output_type": "stream",
          "name": "stdout",
          "text": [
            "We use cookies to give you the best possible experienceIf you don't want to accept cookies you can change preferences\n",
            "We have updated our cookie policy. We use cookies to ensure that we give you the best experience on our website.\n",
            "We use cookies to ensure that we give you the best experience on our website. Learn more about cookies on this siteClose this message \n",
            "We use cookies on this site to enhance your user experienceBy clicking the Accept button, you agree to us doing so.\n",
            "This website uses cookies to ensure you get the best experience on our website.AcceptMore Information \n",
            "We use cookies to personalise your experience on this site and others. For more information, visit our Privacy & Cookies page.\n",
            "YOUR CHOICE REGARDING COOKIESWe use cookies to optimise site functionality and give you the best possible experience.\n",
            "This website uses cookies to ensure you get the best experience during your visit. Read our Cookie PolicyAccept and close\n",
            "We use cookies to ensure the best experience on our website.By accepting you agree to cookies being stored on your device.\n",
            "We are using cookies to give you the best experience on our website.You can find out more about which cookies we are using or switch them off in settings.\n"
          ]
        }
      ]
    },
    {
      "cell_type": "code",
      "source": [
        "very_informative_counts"
      ],
      "metadata": {
        "colab": {
          "base_uri": "https://localhost:8080/"
        },
        "id": "C2rlrSMlpYJE",
        "outputId": "7600a3bb-8d0d-49e1-88e6-980413e6dfd0"
      },
      "execution_count": 46,
      "outputs": [
        {
          "output_type": "execute_result",
          "data": {
            "text/plain": [
              "13"
            ]
          },
          "metadata": {},
          "execution_count": 46
        }
      ]
    },
    {
      "cell_type": "code",
      "source": [
        "# we plot all counts using log scale (Because most counts are small, and there are a few counts with anomalities)\n",
        "\n",
        "import matplotlib.pyplot as plt\n",
        "import numpy as np\n",
        "%matplotlib inline\n",
        "\n",
        "plt.hist(lengths, bins=10)\n",
        "plt.ylabel('Number of cookies')\n",
        "plt.xlabel('Number of words');\n",
        "plt.title('Distribution of the number of tokens from each banner')\n"
      ],
      "metadata": {
        "colab": {
          "base_uri": "https://localhost:8080/",
          "height": 311
        },
        "id": "k2xkr9uQqsog",
        "outputId": "283007d1-73b9-4e79-b135-fc664c348895"
      },
      "execution_count": 40,
      "outputs": [
        {
          "output_type": "execute_result",
          "data": {
            "text/plain": [
              "Text(0.5, 1.0, 'Distribution of the number of tokens from each banner')"
            ]
          },
          "metadata": {},
          "execution_count": 40
        },
        {
          "output_type": "display_data",
          "data": {
            "text/plain": [
              "<Figure size 432x288 with 1 Axes>"
            ],
            "image/png": "[encoded data removed]"
          },
          "metadata": {
            "needs_background": "light"
          }
        }
      ]
    },
    {
      "cell_type": "code",
      "source": [
        "import numpy\n",
        "n = np.array(lengths)\n",
        "index_formative = np.argwhere(n>20)\n",
        "index_unformative = np.argwhere(n<13)"
      ],
      "metadata": {
        "id": "nxzpgpLsqsrO"
      },
      "execution_count": 41,
      "outputs": []
    },
    {
      "cell_type": "code",
      "source": [
        "for i in index_unformative.tolist():\n",
        "  print(post_vals[i[0]])"
      ],
      "metadata": {
        "colab": {
          "base_uri": "https://localhost:8080/"
        },
        "id": "BE6pBBH0qsuN",
        "outputId": "66c6de47-1c8c-4f6a-9f47-27f5d24cb0e3"
      },
      "execution_count": 42,
      "outputs": [
        {
          "output_type": "stream",
          "name": "stdout",
          "text": [
            "The University of Glasgow uses cookies for analytics and advertising.Find out more about our Privacy policy. privacy settingsclose\n",
            "We use cookies to enhance your online experienceTo find out more, please read ourupdated privacy policy and cookie policy\n",
            "We use cookies to give you the best possible experienceIf you don't want to accept cookies you can change preferences\n",
            "© University of Bath 2022DisclaimerFreedom of informationModern slavery statementPrivacy and cookie policyStaying COVID-19 SecureTransparency informationWebsite accessibility statement\n",
            "This site uses cookies and by using the site you are consenting to this. Find out more about what cookies we use and why in our privacy policy.\n",
            "Our website uses cookies to enhance your experience. By continuing to browse the site you are agreeing to our use of cookies. You can find out more and control your Cookie settings on our Cookie Policy page.\n",
            "Connect with us 中文网Information for:Current studentsNew studentsStaffAlumni and supportersQuick linksEmailiExeterLibrarySIDContact usJob vacanciesCampusesStreatham Campus Find usContact St Luke's Campus Find usContact Penryn Campus Find usContact Truro Campus Find usContact Footer links Using our siteFreedom of InformationModern Slavery Act StatementData ProtectionCopyright & disclaimerPrivacy & cookiesSite map\n",
            "Our use of cookiesWe use necessary cookies to make our site work. We'd also liketo set optional cookies to help us measure web traffic and reporton campaigns.We won't set optional cookies unless you enable them.\n",
            "This website uses cookies to improve user experienceBy using our website you consent to all cookies in accordance with our Cookie Policy\n",
            "We use a variety of analytics and marketing cookies to help improve our website and give you the best possibleexperience. Analytics cookies allow us to review our website traffic and performance, building intelligence on howour site is used. We also use marketing cookies via third party technologies/agencies to advertise online. Thesetrack the ads you have been exposed to, and help us serve up targeted and relevant content to you. You can changeyour cookie settings at any stage if you wish. By continuing without changing your cookie settings, you aretherefore agreeing to this. Please read our website terms of use to findout more.I Accept\n",
            "Your choice regarding cookies on this siteWe use cookies to optimise site functionality and give you the best possible experience.\n",
            "We use cookies on this website to improve your browsing experience. Some of the cookies are used for analysis and marketing purposes. For more details see our privacy and cookie statement.Accept Recommended Settings Manage Preferences \n",
            "We use cookies to personalise your experience on this site and others. For more information, visit our Privacy & Cookies page.\n",
            "YOUR CHOICE REGARDING COOKIESWe use cookies to optimise site functionality and give you the best possible experience.\n",
            "The University of Nottingham collects and holds some personal information about how you use our website when you visit us.OKSee our policy\n",
            "Your choice regarding cookies on this siteWe use cookies to optimise site functionality and give you the best possible experience.\n",
            "Your cookie choices Our website uses cookies to help give you a better experience. By accepting all cookies, you agree to the storing of cookies on your device. Use 'Cookie settings' to manage your preferences.Cookie and similar technologies policy\n",
            "This site uses cookies and by using the site you are consenting to this. You can manage cookies in your browser.Find out more about cookies\n",
            "Cookie settingsWe use cookies to help enhance site navigation, analyse site usage and assist in our marketing efforts. You can control which cookies are set when using our site by clicking 'Manage cookie settings'.\n",
            "We use cookies to give you the best online experience. Please let us know if you agree to functional, advertising and performance cookies. You can update your cookie preferences at any time.Cookie policy\n",
            "This website uses cookies to give you the best online experience. If you'd like to know more or change your settings,our cookie policy explains more.Accept\n",
            "This website uses cookies to enhance your user experience. To find out more, read our privacy policy.Cookie settingsACCEPTNecessary cookies are absolutely essential for the website to function properly. This category only includes cookies that ensures basic functionalities and security features of the website. These cookies do not store any personal information.\n",
            "This website uses cookies to understand how you use the website and to improve your experience. By continuing to use the website, you accept Averett University’s use of cookies and similar technologies. To learn more about our use of cookies and how to manage your browser cookie settings, please review our Privacy Policy. Accept Read More\n",
            "We use cookies to analyze traffic and improve your experience. By continuing without\t\t\t\t\tchanging your cookie settings, you agree to this convention. For more information,\t\t\t\t\tplease see our Privacy Notice Policy.\t\t\t\tOk, Got It\n",
            "By clicking “Accept All Cookies”, you agree to the storing of cookies on your device to enhance site navigation, analyze site usage, and assist in our marketing efforts. Privacy & Cookie Policy\n",
            "We use cookies to ensure that we give you the best experience on our website. If you continue use this site we will assume that you agree to this.Ok\n",
            "We analyze traffic to this site. We collect statistical data on an aggregated basis through Google Analytics. For example, we collect information about the domain names of servers that bring visitors to our site. We count the number of visitors and keep track of where they go on our site. Such information allows us to find out what areas users visit most frequently and what services they access the most, which enables us to create a better overall user experience. To gather such data, we use cookie technology, which collects data in aggregate form, not by individual user.\n",
            "We use cookies and similar technologies to understand our visitors’ experiences. By continuing to use this website, you agree to this condition of use. For further information please see our privacy policy. \n"
          ]
        }
      ]
    },
    {
      "cell_type": "markdown",
      "source": [
        "### Clustering"
      ],
      "metadata": {
        "id": "eU5j7OTSywAJ"
      }
    },
    {
      "cell_type": "code",
      "source": [
        "\n",
        "all_stopwords = nlp.Defaults.stop_words\n",
        "\n",
        "# add everything, including stop words\n",
        "def spacy_tokenize(string):\n",
        "  tokens = list()\n",
        "  doc = nlp(string)\n",
        "  for token in doc:\n",
        "    tokens.append(token)\n",
        "  return tokens\n",
        "\n",
        "# take only lowercase letters and numbers, remove noise\n",
        "def normalize(tokens):\n",
        "  normalized = list()\n",
        "  for token in tokens:\n",
        "    if (token.is_alpha or token.is_digit):\n",
        "      lemma = token.lemma_.lower().strip() if token.lemma_ != \"-PRON-\" else token.lower_\n",
        "      if lemma not in all_stopwords:\n",
        "        normalized.append(lemma)\n",
        "  return normalized\n",
        "def tokenize_normalize(string):\n",
        "  return normalize(spacy_tokenize(string))"
      ],
      "metadata": {
        "id": "dot84MASqszs"
      },
      "execution_count": 15,
      "outputs": []
    },
    {
      "cell_type": "code",
      "source": [
        "from sklearn.feature_extraction.text import TfidfVectorizer\n",
        "\n",
        "\n",
        "vectorizer = TfidfVectorizer(tokenizer=tokenize_normalize,ngram_range=(1,2),max_features = 50000,sublinear_tf=True)\n",
        "vectorizer.fit(post_vals)\n",
        "document_matrix = vectorizer.transform(post_vals)\n"
      ],
      "metadata": {
        "colab": {
          "base_uri": "https://localhost:8080/"
        },
        "id": "qnBWk0q_wi2A",
        "outputId": "5bf846ad-441f-44c3-cee2-3865a18ff65e"
      },
      "execution_count": 16,
      "outputs": [
        {
          "output_type": "stream",
          "name": "stderr",
          "text": [
            "/usr/local/lib/python3.7/dist-packages/sklearn/feature_extraction/text.py:517: UserWarning: The parameter 'token_pattern' will not be used since 'tokenizer' is not None'\n",
            "  \"The parameter 'token_pattern' will not be used\"\n"
          ]
        }
      ]
    },
    {
      "cell_type": "markdown",
      "metadata": {
        "id": "3zc6zTizJLgs"
      },
      "source": [
        "**Exercise:** Next, lets pick a post to compute similarity with. Put the content of a post in the variable called `my_string`"
      ]
    },
    {
      "cell_type": "markdown",
      "metadata": {
        "id": "vIx1ORo4Ziga"
      },
      "source": [
        "## KMeans clustering"
      ]
    },
    {
      "cell_type": "markdown",
      "metadata": {
        "id": "uUhTG7OQ8Wag"
      },
      "source": [
        "What's in the Reddit dataset? When we want to explore a dataset, one method is to apply clustering and then to inspect the result."
      ]
    },
    {
      "cell_type": "code",
      "metadata": {
        "id": "m5gOfHPwzUZk",
        "outputId": "20250363-40d4-4468-8a05-60cdefb9bd69",
        "colab": {
          "base_uri": "https://localhost:8080/"
        }
      },
      "source": [
        "from sklearn.cluster import KMeans\n",
        "kmeans = KMeans(n_clusters=11, n_init=5,verbose=10,random_state = 0).fit(document_matrix)"
      ],
      "execution_count": 17,
      "outputs": [
        {
          "output_type": "stream",
          "name": "stdout",
          "text": [
            "Initialization complete\n",
            "Iteration 0, inertia 144.7803193586571\n",
            "Iteration 1, inertia 81.52958585467778\n",
            "Iteration 2, inertia 81.31777489082366\n",
            "Converged at iteration 2: strict convergence.\n",
            "Initialization complete\n",
            "Iteration 0, inertia 146.06779450592865\n",
            "Iteration 1, inertia 81.3202080117942\n",
            "Iteration 2, inertia 81.107991583064\n",
            "Converged at iteration 2: strict convergence.\n",
            "Initialization complete\n",
            "Iteration 0, inertia 146.09489941302462\n",
            "Iteration 1, inertia 81.49544347700683\n",
            "Iteration 2, inertia 81.26517918385875\n",
            "Converged at iteration 2: strict convergence.\n",
            "Initialization complete\n",
            "Iteration 0, inertia 149.98402658428355\n",
            "Iteration 1, inertia 81.0523399117047\n",
            "Iteration 2, inertia 80.9195823067297\n",
            "Converged at iteration 2: strict convergence.\n",
            "Initialization complete\n",
            "Iteration 0, inertia 145.04595770264436\n",
            "Iteration 1, inertia 81.53930710927557\n",
            "Iteration 2, inertia 81.05243930750397\n",
            "Converged at iteration 2: strict convergence.\n"
          ]
        }
      ]
    },
    {
      "cell_type": "code",
      "metadata": {
        "id": "GMZQiQtddm4s",
        "outputId": "50b013fd-e966-475d-ae03-ba3e7c90284c",
        "colab": {
          "base_uri": "https://localhost:8080/"
        }
      },
      "source": [
        "order_centroids = kmeans.cluster_centers_.argsort()[:, ::-1]\n",
        "terms = vectorizer.get_feature_names()\n",
        "num_clusters = 11\n",
        "for i in range(num_clusters):\n",
        "  print(\"Cluster %d:\" % i)\n",
        "  for ind in order_centroids[i, :20]:\n",
        "    print(' %s' % terms[ind])\n",
        "  print()"
      ],
      "execution_count": 18,
      "outputs": [
        {
          "output_type": "stream",
          "name": "stdout",
          "text": [
            "Cluster 0:\n",
            " analytics\n",
            " notice\n",
            " privacy\n",
            " university\n",
            " advertise\n",
            " advertise analytics\n",
            " use\n",
            " university glasgow\n",
            " settingsclose\n",
            " privacy settingsclose\n",
            " glasgow\n",
            " glasgow use\n",
            " analytics privacy\n",
            " policy privacy\n",
            " numb\n",
            " website\n",
            " use cooky\n",
            " cooky\n",
            " cooky analytics\n",
            " medium\n",
            "\n",
            "Cluster 1:\n",
            " cookie policy\n",
            " use\n",
            " cooky\n",
            " find\n",
            " user\n",
            " continue browse\n",
            " browse site\n",
            " policy\n",
            " use cooky\n",
            " cookie\n",
            " website\n",
            " browse\n",
            " user experience\n",
            " website use\n",
            " continue\n",
            " cooky improve\n",
            " site\n",
            " experience\n",
            " accordance cookie\n",
            " cooky enhance\n",
            "\n",
            "Cluster 2:\n",
            " change\n",
            " browser\n",
            " help improve\n",
            " change browser\n",
            " disable change\n",
            " disable\n",
            " help\n",
            " improve\n",
            " cooky enable\n",
            " cooky\n",
            " enable\n",
            " necessary\n",
            " market\n",
            " cooky disable\n",
            " cooky help\n",
            " market cooky\n",
            " cookiesnecessary\n",
            " new\n",
            " essential\n",
            " necessary cooky\n",
            "\n",
            "Cluster 3:\n",
            " cooky\n",
            " accept cooky\n",
            " accept\n",
            " device\n",
            " click\n",
            " view\n",
            " cooky device\n",
            " privacy\n",
            " improve\n",
            " site\n",
            " view privacy\n",
            " privacy page\n",
            " store\n",
            " click accept\n",
            " information\n",
            " enhance\n",
            " use\n",
            " manage\n",
            " browse\n",
            " store cooky\n",
            "\n",
            "Cluster 4:\n",
            " website\n",
            " website agree\n",
            " cooky website\n",
            " use website\n",
            " visit\n",
            " use\n",
            " use cooky\n",
            " cooky\n",
            " experience continue\n",
            " remember preference\n",
            " relevant experience\n",
            " repeat visit\n",
            " control settingsaccept\n",
            " website relevant\n",
            " experience remember\n",
            " setting provide\n",
            " settingsaccept\n",
            " visit click\n",
            " preference repeat\n",
            " cooky visit\n",
            "\n",
            "Cluster 5:\n",
            " ensure experience\n",
            " cooky ensure\n",
            " ensure\n",
            " experience website\n",
            " website\n",
            " experience\n",
            " cooky\n",
            " use\n",
            " use cooky\n",
            " cookie\n",
            " website continue\n",
            " website use\n",
            " site assume\n",
            " policy\n",
            " assume\n",
            " cookie policy\n",
            " use site\n",
            " agree\n",
            " continue use\n",
            " update cookie\n",
            "\n",
            "Cluster 6:\n",
            " choice regard\n",
            " regard\n",
            " possible\n",
            " site functionality\n",
            " cooky optimise\n",
            " functionality possible\n",
            " optimise site\n",
            " possible experience\n",
            " optimise\n",
            " choice\n",
            " functionality\n",
            " regard cooky\n",
            " sitewe\n",
            " cooky sitewe\n",
            " sitewe use\n",
            " cooky\n",
            " site\n",
            " experience\n",
            " use\n",
            " use cooky\n",
            "\n",
            "Cluster 7:\n",
            " site\n",
            " use site\n",
            " use\n",
            " cooky\n",
            " continue use\n",
            " site enhance\n",
            " use cooky\n",
            " site agree\n",
            " enhance user\n",
            " agree\n",
            " site consent\n",
            " user\n",
            " cooky site\n",
            " continue\n",
            " enhance\n",
            " consent\n",
            " site use\n",
            " user experienceby\n",
            " experienceby\n",
            " agree use\n",
            "\n",
            "Cluster 8:\n",
            " technology\n",
            " similar\n",
            " use\n",
            " improve experience\n",
            " similar technology\n",
            " understand\n",
            " improve\n",
            " cooky\n",
            " use website\n",
            " cooky similar\n",
            " experience\n",
            " use cooky\n",
            " policy\n",
            " experience continue\n",
            " privacy\n",
            " cookie setting\n",
            " understand visitor\n",
            " website\n",
            " information privacy\n",
            " agree\n",
            "\n",
            "Cluster 9:\n",
            " optional\n",
            " optional cooky\n",
            " set\n",
            " set optional\n",
            " usage\n",
            " use necessary\n",
            " site\n",
            " analyse\n",
            " necessary cooky\n",
            " cooky help\n",
            " necessary\n",
            " site work\n",
            " site usage\n",
            " help\n",
            " work\n",
            " cooky\n",
            " cooky site\n",
            " market\n",
            " use\n",
            " remember\n",
            "\n",
            "Cluster 10:\n",
            " statement\n",
            " privacy statement\n",
            " privacy\n",
            " cooky\n",
            " site\n",
            " use\n",
            " use cooky\n",
            " information\n",
            " site accept\n",
            " accept use\n",
            " statement information\n",
            " cooky accordance\n",
            " visit\n",
            " website\n",
            " accordance\n",
            " information visit\n",
            " personalise experience\n",
            " statement use\n",
            " accept\n",
            " experience\n",
            "\n"
          ]
        },
        {
          "output_type": "stream",
          "name": "stderr",
          "text": [
            "/usr/local/lib/python3.7/dist-packages/sklearn/utils/deprecation.py:87: FutureWarning: Function get_feature_names is deprecated; get_feature_names is deprecated in 1.0 and will be removed in 1.2. Please use get_feature_names_out instead.\n",
            "  warnings.warn(msg, category=FutureWarning)\n"
          ]
        }
      ]
    },
    {
      "cell_type": "markdown",
      "metadata": {
        "id": "e8f0AE1Y9_-G"
      },
      "source": [
        "We can also look at the cluster assignments.  Each post is assigned a cluster label. "
      ]
    },
    {
      "cell_type": "code",
      "metadata": {
        "id": "aTkj56Tzklk3"
      },
      "source": [
        "\"\"\"\n",
        "0: Analytics\n",
        "1: Enhance Browser experience\n",
        "\n",
        "\"\"\"\n",
        "\n",
        "\n",
        "import collections\n",
        "# Group the posts by their cluster labels.\n",
        "clustering = collections.defaultdict(list)\n",
        "for idx, label in enumerate(kmeans.labels_):\n",
        "  clustering[label].append(idx)\n"
      ],
      "execution_count": 19,
      "outputs": []
    },
    {
      "cell_type": "code",
      "source": [
        ""
      ],
      "metadata": {
        "id": "F9Svg5reuRFq"
      },
      "execution_count": 19,
      "outputs": []
    },
    {
      "cell_type": "code",
      "metadata": {
        "id": "rcwzuz7vlvS5",
        "outputId": "c704087b-e302-496a-b66b-05a4df0cdac3",
        "colab": {
          "base_uri": "https://localhost:8080/",
          "height": 1000
        }
      },
      "source": [
        "for cluster, indices in clustering.items():\n",
        "  print(\"\\nCluster:\", cluster, \" Num posts: \", len(indices))\n",
        "  cur_docs = 0\n",
        "  for index in indices:\n",
        "    post_contents = post_vals[index].replace('\\n', '')\n",
        "    print(index, post_keys[index], (post_contents) if len(post_contents) > 75 else post_contents)\n",
        "    cur_docs+= 1\n",
        "\n",
        "\n",
        "\"\"\"\n",
        "0: advertising and analytics\n",
        "1: enhance browser, website experience\n",
        "2: Disable cookies\n",
        "3: go to Cookie Policy page to see how cookies are stored on the device\n",
        "4: remembering your preferences\n",
        "5: best customer experience\n",
        "6: otpimise site functionality\n",
        "7: By using this website, you consent to using cookies\n",
        "8: use cookies and similar technologies to understand our visitors’ experiences\n",
        "9: optional cookies\n",
        "10: Privacy Statement; \n",
        "\n",
        "\n",
        "\"\"\""
      ],
      "execution_count": 20,
      "outputs": [
        {
          "output_type": "stream",
          "name": "stdout",
          "text": [
            "\n",
            "Cluster: 5  Num posts:  15\n",
            "0 https://uk250.co.uk Got it!This website uses cookies to ensure you get the best experience on our website More infoCookie Consent plugin for the EU cookie law\n",
            "16 https://birmingham.ac.uk We use cookies to track visits to our website and to deliver targeted messages about the University to users.We do not store personal details.For more information or to change your cookie settings, see our Cookie Policy. ACCEPT COOKIES What are cookies?\n",
            "22 https://hud.ac.uk We have updated our cookie policy. We use cookies to ensure that we give you the best experience on our website.\n",
            "27 https://kingston.ac.uk We use cookies to ensure that we give you the best experience on our website. Learn more about cookies on this siteClose this message \n",
            "29 https://le.ac.uk Accept cookiesWe use cookies to make sure you get the best experience on our website; you can read ourPrivacy Policy to learn more.Cookie Consent plugin for the EU cookie law\n",
            "32 https://ljmu.ac.uk Cookie SettingsSome essential features of our website won't work without cookies. Please check your cookie settings below and deselect any you wish to opt out of:We use cookies to ensure that we give you the best experience on our website. You can change your cookies in your browser at any time.\n",
            "45 https://bruford.ac.uk This website uses cookies to ensure you get the best experience on our website.AcceptMore Information \n",
            "51 https://rcm.ac.uk This website uses cookies to ensure you get the best experience during your visit. Read our Cookie PolicyAccept and close\n",
            "60 https://stmarys.ac.uk This website uses cookies to ensure we offer you the best possible experience on our website. By continuing to use our site, you agree to our cookie policy. Learn moreContinue\n",
            "62 https://www2.warwick.ac.uk We use cookies to give you the best online experience. Please let us know if you agree to functional, advertising and performance cookies. You can update your cookie preferences at any time.Cookie policy\n",
            "64 https://westminster.ac.uk We use cookies to ensure the best experience on our website.By accepting you agree to cookies being stored on your device.\n",
            "67 https://writtle.ac.uk This website uses cookies to give you the best online experience. If you'd like to know more or change your settings,our cookie policy explains more.Accept\n",
            "84 https://strose.edu <img style=\"float: left;padding-right:5px\" class=\"left lazy\" alt=\"\" src=\"data:image/svg+xml,%3Csvg%20xmlns='http://www.w3.org/2000/svg'%20viewBox='0%200%201%201'%3E%3C/svg%3E\" data-src=\"https://s3.amazonaws.com/strosemedia/wp-content/uploads/2019/05/30151907/Golden-Knight.png\" />We use cookies to ensure that we give you the best experience on our website. If you continue to use this site, we will assume you have agreed to our policy.\n",
            "92 https://fuller.edu We use cookies to ensure that we give you the best experience on our website. If you continue use this site we will assume that you agree to this.Ok\n",
            "99 https://harding.edu We use cookies to ensure that we give you the best experience on our website. If you continue to use this site we will assume that you are happy with it. OK\n",
            "\n",
            "Cluster: 0  Num posts:  7\n",
            "1 https://gla.ac.uk The University of Glasgow uses cookies for analytics and advertising.Find out more about our Privacy policy. privacy settingsclose\n",
            "10 https://bolton.ac.uk This website uses cookiesWe use cookies to personalise content and ads, to provide social media features and to analyse our traffic. We also share information about your use of our site with our social media,advertising and analytics partners who may combine it with other information that you’ve provided to them or that they’ve collected from your use of their services.You consent to our cookies if you continue to use our website.Learn more.BasicPreferencesStatisticsMarketingAccept\n",
            "11 https://reddit.com We use cookies on our websites for a number of purposes, including analytics and performance, functionality and advertising. Learn more about Reddit’s use of cookies.Reject non-essentialAccept all\n",
            "20 https://glos.ac.uk \t\t\t\t\t\t\tUniversity of Gloucestershire,\t\t\t\t\t\t\tThe Park,\t\t\t\t\t\t\tCheltenham,\t\t\t\t\t\t\tGL50 2RH.\t\t\t\t\t\t\tTelephone +44 (0)1242 714700View larger mapBusiness & partnershipsDo business on campusApprenticeshipsRecruit student talentVenue hireGrowth HubProcurementOutreach and widening participation Governance and structureStrategic Plan 2022-2027Student CharterInformation governanceUniversity CouncilSlavery and Human TraffickingInsuranceFreedom of informationCriminal Finances Act StatementAppeals and complaintsValue for money About UsCoronavirus statementAcademic schoolsOur campusesLatest newsPress officeSustainabilityPublic lecturesGraduationAlumniPay onlineClearingBlogs  AccessibilityCareersDisclaimerDocument hubPrivacy & cookiesContact us  \t\t\t\t\t\t\t\t\t© 2022 Copyright University of Gloucestershire\t\t\t\t\t\t\t\t\tCompany Registration Number 06023243. VAT Number GB 393 9083 56.\t\t\t\t\t\t\t\tback to top \n",
            "61 https://stir.ac.uk The University of Stirling uses cookies for advertising and analytics. Read our website privacy notice to find out more.Close\n",
            "94 https://gatech.edu This website uses cookies. For more information, review our Privacy & Legal Notice. Questions? Please email privacy@gatech.edu. No, give me more info\n",
            "97 https://hamline.edu COVID-19 InformationRequest InfoMenuAcademicsAcademicsAcademicsUndergraduateGraduateLawOnlineStudy AbroadSchools and CollegesLibrary and ArchivesContinuing EducationAdmissionAdmissionAdmissionUndergraduateGraduate AdmissionOnline Bachelor's CompletionTransferInternationalTuition and AidRequest InformationVisitLife at HamlineLife at HamlineLife at HamlineAcademic AssistanceActivitiesAthleticsBookstoreCareers and InternshipsCounseling and HealthHousing and DiningNeighborhoodTransportationAboutAboutAboutFast FactsMaps and LocationsVirtual TourRankingsMission and HistoryPresident's OfficeInclusive ExcellenceOffices and ServicesEmploymentResourcesResourcesResourcesCurrent StudentsAdmitted StudentsInternational StudentsFamilies and ParentsFaculty and StaffMilitary Student Resource CenterAlumniNeighborsHEOA Consumer Information DisclosuresAlumni & DonorsAlumni & DonorsAlumni & DonorsAlumni DirectoryAlumni EventsHamline MagazineMake a Gift NowWays to GiveTake the Lead CampaignContact UsSearchSearch:Academic CalendarNewsEventsDirectoryMapsContactLoginsLoginsEmailCanvasBannerPiperlineWorkdayPassword ResetCourse ListingsMoreApplyAcademic Calendar | \t\t\t\t\t\tNews | Events | \t\t\t\t\t\tDirectoryMaps | \t\t\t\t\t\tContact | \t\t\t\t\t\tLogins | \t\t\t\t\t\tApplySearchSearchApplyRequest InfoHamline's Home Page Content A diploma that makes a difference.\t\t\tWe take the lead.\t\tGet more infoApplyFIND YOUR PROGRAM We do all the good we can.Whether it’s volunteering with community cleanup efforts or working with students at Hamline Elementary, we believe in putting education into service.Visit CampusGraduate Info Sessions Hamline AdmissionsFIND YOUR PROGRAMUNDERGRADUATEMajor, minor, and certificate programsChoose Your Area of StudySelectBusiness and Economics EducationFine ArtsGlobal StudiesHumanities and CultureLaw, Political Science, and Public PolicyMath, Science, and TechnologyPsychology and Social SciencesAdditional licensure programs ›Administrative licensure ›Continuing studies courses ›Doctorate in Education ›Educational Specialist ›Graduate business certificates ›Graduate education certificates ›Master of Arts in Education ›Master of Arts in Literacy Education ›Master of Arts in Natural Science and Environmental Education ›Master of Arts in Teaching - Initial MN Teaching License ›Master of Arts in Teaching English to Speakers of Other Languages ›Master of Arts in the Study of Law ›Master of Arts in Writing for Children and Young Adults ›Master of Business Administration ›Master of Fine Arts in Creative Writing ›Master of Management and Leadership ›Master of Nonprofit Management ›Master of Public Administration ›Master of Science in Business Analytics ›Paralegal certificate ›PhD in Management and Public Service ›Accounting ›Anthropology ›Art (studio arts) ›Art history ›Biochemistry ›Biology ›Business ›Business analytics ›Chemistry ›Chinese ›Communication studies ›Computational data science ›Conflict studies ›Creative writing ›Criminology and criminal justice ›Digital media arts ›Economics ›Education ›Education (co-major) ›Education (minor) ›Electrical engineering (pre-professional) ›English ›Exercise science ›Finance ›Forensic Psychology (concentration) ›Forensic science (certificate, minor only) ›German ›Global studies ›History ›International business ›Law (pre-professional) ›Legal studies ›Linguistics ›Linguistics (applied) ›Management ›Marketing ›Mathematics ›Mechanical engineering (pre-professional) ›Medical (pre-professional) ›Music ›Neuroscience ›Nonprofit management (minor only) ›Paralegal certificate ›Philosophy ›Physics ›Political science ›Professional writing ›Psychology ›Public health sciences ›Religion ›Rhetoric ›Social justice ›Sociology ›Spanish ›Theatre arts ›Women's studies ›GRADUATEMaster's, doctoral, and certificate programsChoose Your Area of StudySelectBusiness and Public AdministrationEducationLegal StudiesWritingAdditional licensure programs ›Administrative licensure ›Continuing studies courses ›Doctorate in Education ›Educational Specialist ›Graduate business certificates ›Graduate education certificates ›Master of Arts in Education ›Master of Arts in Literacy Education ›Master of Arts in Natural Science and Environmental Education ›Master of Arts in Teaching - Initial MN Teaching License ›Master of Arts in Teaching English to Speakers of Other Languages ›Master of Arts in the Study of Law ›Master of Arts in Writing for Children and Young Adults ›Master of Business Administration ›Master of Fine Arts in Creative Writing ›Master of Management and Leadership ›Master of Nonprofit Management ›Master of Public Administration ›Master of Science in Business Analytics ›Paralegal certificate ›PhD in Management and Public Service ›Accounting ›Anthropology ›Art (studio arts) ›Art history ›Biochemistry ›Biology ›Business ›Business analytics ›Chemistry ›Chinese ›Communication studies ›Computational data science ›Conflict studies ›Creative writing ›Criminology and criminal justice ›Digital media arts ›Economics ›Education ›Education (co-major) ›Education (minor) ›Electrical engineering (pre-professional) ›English ›Exercise science ›Finance ›Forensic Psychology (concentration) ›Forensic science (certificate, minor only) ›German ›Global studies ›History ›International business ›Law (pre-professional) ›Legal studies ›Linguistics ›Linguistics (applied) ›Management ›Marketing ›Mathematics ›Mechanical engineering (pre-professional) ›Medical (pre-professional) ›Music ›Neuroscience ›Nonprofit management (minor only) ›Paralegal certificate ›Philosophy ›Physics ›Political science ›Professional writing ›Psychology ›Public health sciences ›Religion ›Rhetoric ›Social justice ›Sociology ›Spanish ›Theatre arts ›Women's studies › The Undergraduate ExperienceReal-world experience, built into your education.No matter what you study, you’ll graduate with service learning, hands-on research, or an internship on your résumé. Or all three. Because in today’s world, real-life experiences aren’t merely a perk: they’re a necessity.- Mari Johnson ’20, physics majorExplore ProgramsUndergraduate AdmissionTransfer to HamlineComplete Your Bachelor's Online Hamline AdmissionsThe Graduate ExperienceGain 21st-century leadership skills.Our graduate programs help students build the expertise they need to succeed—and lead.(pictured) Abdul Wright ’16 MA-Education, 2016 Minnesota Teacher of the YearExplore Graduate ProgramsGraduate AdmissionInformation Sessions Hamline Admissions Hamline Admissions Hamline AdmissionsFacebookTwitterYouTubeInstagramAcademicsUndergraduateGraduateLawOnlineStudy AbroadSchools and CollegesLibrary and ArchivesContinuing EducationAdmissionUndergraduateGraduate AdmissionOnline Bachelor's CompletionTransferInternationalTuition and AidRequest InformationVisitLife at HamlineAcademic AssistanceActivitiesAthleticsBookstoreCareers and InternshipsCounseling and HealthHousing and DiningNeighborhoodTransportationAboutFast FactsMaps and LocationsVirtual TourMission and HistoryPresident's OfficeInclusive ExcellenceOffices and ServicesEmploymentResourcesCurrent StudentsAdmitted StudentsInternational StudentsFamilies and ParentsFaculty and StaffMilitary Student Resource CenterAlumniNeighborsCARES ActHEOA Consumer Information Disclosures\t\t\t\t\t\t\t\tTitle IX\t\t\t\t\t\t\tWhy is this h3 hereIn affiliation with:  Mitchell Hamline School of Law* has more enrollment options than any law school in the nation.© 2021 Hamline University1536 Hewitt Avenue Saint Paul, MN 55104AccreditationContactPrivacyCampus Map\n",
            "\n",
            "Cluster: 3  Num posts:  15\n",
            "2 https://mango.com We use our own and third-party cookies for analytical purposes and to show you advertising and personalised content based on a profile prepared from your browsing habits. You can accept all the cookies or manage your preferences in the settings panel. For more information, consult theCookies Policy.\n",
            "6 https://bcu.ac.uk Recent searchesWe won't record your recent searches as you have opted out of functional cookies.You can change this on our Manage Privacy page should you wish to.\n",
            "7 https://abdn.ac.uk We use cookies to give you the best possible experienceIf you don't want to accept cookies you can change preferences\n",
            "28 https://dmu.ac.uk We place cookies on your device to help make this website better, and improve your experience. You can change your cookie settings at any time. Please see our data protection policy for full details.\n",
            "30 https://leeds.ac.uk Cookies are files saved on your phone, tablet or computer when you visit a website. We use cookies to improve your website experience, gather information about how you use the website and to help us with marketing.You can find out more on the privacy page\n",
            "40 https://northumbria.ac.uk Northumbria University uses cookies to improve your experience on our site.  By clicking accept you consent to our cookies on this device Learn More\n",
            "46 https://rgu.ac.uk We use cookies on this website to improve your browsing experience. Some of the cookies are used for analysis and marketing purposes. For more details see our privacy and cookie statement.Accept Recommended Settings Manage Preferences \n",
            "58 https://surrey.ac.uk  We use cookies to help our site work, to understand how it is used, and to tailor ads that are more relevant to you and your interests.By accepting, you agree to cookies being stored on your device. You can view details and manage settings at any time on our cookies policy page.\n",
            "76 https://apu.edu ©2022 Azusa Pacific University901 E. Alosta Ave., Azusa, CA 91702Contact DirectoryFeedbackPrivacyAccessibilityThis website uses cookies to gather anonymous usage data. By continuing to access this site, you consent to their use.For more information, view our privacy policy.Accreditations\n",
            "86 https://creighton.edu By clicking “Accept All Cookies”, you agree to the storing of cookies on your device to enhance site navigation, analyze site usage, and assist in our marketing efforts.Cookie/Privacy Policy\n",
            "90 https://ferris.edu By clicking “Accept All Cookies”, you agree to the storing of cookies on your device to enhance site navigation, analyze site usage, and assist in our marketing efforts. Privacy & Cookie Policy\n",
            "91 https://fgcu.edu FGCU Privacy PolicyThis website stores cookies on your computer to improve your browsing experience.The university does not collect personal information as you browse. Learn about ourPrivacy and GDPR statements. \n",
            "93 https://fandm.edu We use cookies to enhance our website and improve your browsing experience. To accept cookies click the \"I Understand\" button, or view our privacy page for more information.\n",
            "100 https://hamilton.edu A fortune cookie once told me: writing is a craft, not an art. I try to live by this fortune cookie's wisdom. I definitely don't view writing as a talent; my writing is full of practice, hard work, perseverance and diligence.\n",
            "105 https://lycoming.edu We use cookies on this site to enhance your user experience. To accept cookies click the \"Ok, I agree\" button, or view our privacy statement for more information.\n",
            "\n",
            "Cluster: 7  Num posts:  11\n",
            "3 https://anglia.ac.uk We use cookies to improve your browsing experience, monitor how our site is used, and aid us with advertising. By continuing to use our site you are agreeing to our privacy and cookies policy.\n",
            "13 https://bournemouth.ac.uk This site uses cookies and by using the site you are consenting to this. Find out more about what cookies we use and why in our privacy policy.\n",
            "24 https://gre.ac.uk Our website uses cookies to recognise users of our site and optimise your experience. By continuing to use this site, you are giving your consent for us to set cookies. For more information, please see our Cookies Policy.\n",
            "37 https://mmu.ac.uk We use cookies on this site to enhance your user experienceBy clicking the Accept button, you agree to us doing so.\n",
            "54 https://salford.ac.uk This site uses cookies and by using the site you are consenting to this. You can manage cookies in your browser.Find out more about cookies\n",
            "80 https://carroll.edu We use cookies on this site to enhance your user experienceBy clicking any link on this page you are giving your consent for us to set cookies. More info\n",
            "81 https://cmich.edu We use cookies to give you a Fired Up web experience.By continuing to use the site, you are agreeing to our use of cookies. Privacy Policy.OKOK\n",
            "83 https://ccu.edu Colorado Christian University uses cookies to enhance your browsing experience through analysis of our site usage, and assists us in our marketing and promotional efforts. By continuing to use the site, you agree to the storage of first- and third-party cookies on your device. Privacy policy.Okay, thanks\n",
            "89 https://emerson.edu We use cookies on this site to enhance your user experienceBy continuing to use this site, you agree to our use of cookies.\n",
            "101 https://iona.edu We use cookies on this site to enhance your user experience.By continuing to use this site, you agree to the use of cookies. Privacy Policy.I agree\n",
            "102 https://jfku.edu This site uses cookies to offer you a better browsing experience, analyze site traffic, personalize content, and serve targeted advertisements. Review our cookies and privacy policy for more information. If you continue to use this site, you consent to our use of cookies.×\n",
            "\n",
            "Cluster: 1  Num posts:  15\n",
            "4 https://bangor.ac.uk This website uses cookies to improve your experience and distinguish you from other users. By continuing to browse this site, we assume you agree to this. For more information please view our cookie policy.\n",
            "5 https://aston.ac.uk We use cookies to enhance your online experienceTo find out more, please read ourupdated privacy policy and cookie policy\n",
            "8 https://abertay.ac.uk We use cookies to ensure we provide you with the best user experience. If you continue without changing your settings, we'll assume that you are happy to receive cookies from our site. Learn more.\n",
            "17 https://chester.ac.uk Our website uses cookies to enhance your experience. By continuing to browse the site you are agreeing to our use of cookies. You can find out more and control your Cookie settings on our Cookie Policy page.\n",
            "19 https://essex.ac.uk This site uses cookies. By continuing to browse the site you are consenting to their use. Please visit our cookie policy to find out which cookies we use and why.View cookie policy.\n",
            "21 https://exeter.ac.uk Connect with us 中文网Information for:Current studentsNew studentsStaffAlumni and supportersQuick linksEmailiExeterLibrarySIDContact usJob vacanciesCampusesStreatham Campus Find usContact St Luke's Campus Find usContact Penryn Campus Find usContact Truro Campus Find usContact Footer links Using our siteFreedom of InformationModern Slavery Act StatementData ProtectionCopyright & disclaimerPrivacy & cookiesSite map\n",
            "34 https://lsbu.ac.uk We use cookies for analytics, personalised content and ads. By continuing to browse this site, you agree to this use. ClosePrivacy Policy\n",
            "36 https://lshtm.ac.uk This website uses cookies to improve user experienceBy using our website you consent to all cookies in accordance with our Cookie Policy\n",
            "41 https://ntu.ac.uk This website uses cookies to enhance your user experience. By continuing to browse the site you are agreeing to our use of cookies. Find out more hereOK\n",
            "57 https://sunderland.ac.uk We use cookies to ensure you have the best browsing experience, to help us improve our website and for targeted advertising. By continuing to browse the site you are agreeing to our use of cookies, check our cookies page for more information.Accept and close\n",
            "63 https://cumbria.ac.uk This website uses cookies to improve user experience. By using our website you consent to all cookies in accordance with our Cookie Policy. Accept & Close\n",
            "66 https://winchester.ac.uk This website uses cookies to improve user experience. By using our website, you consent to all cookies in accordance with our Cookie Policy. I agree\n",
            "68 https://acu.edu This website uses cookies to enhance your user experience. To find out more, read our privacy policy.Cookie settingsACCEPTNecessary cookies are absolutely essential for the website to function properly. This category only includes cookies that ensures basic functionalities and security features of the website. These cookies do not store any personal information.\n",
            "95 https://fontbonne.edu We analyze traffic to this site. We collect statistical data on an aggregated basis through Google Analytics. For example, we collect information about the domain names of servers that bring visitors to our site. We count the number of visitors and keep track of where they go on our site. Such information allows us to find out what areas users visit most frequently and what services they access the most, which enables us to create a better overall user experience. To gather such data, we use cookie technology, which collects data in aggregate form, not by individual user.\n",
            "98 https://graceland.edu We are using cookies to give you the best experience on our website.You can find out more about which cookies we are using or switch them off in settings.\n",
            "\n",
            "Cluster: 10  Num posts:  8\n",
            "9 https://bath.ac.uk © University of Bath 2022DisclaimerFreedom of informationModern slavery statementPrivacy and cookie policyStaying COVID-19 SecureTransparency informationWebsite accessibility statement\n",
            "15 https://brunel.ac.uk Brunel.ac.uk uses cookies to make our site better for you. By clicking on or navigating this site, you accept our use of cookies in accordance with our cookie policy.Close this message\n",
            "47 https://rca.ac.uk We use cookies to personalise your experience on this site and others. For more information, visit our Privacy & Cookies page.\n",
            "75 https://auburn.edu xCookie AcknowledgementThis website uses cookies to collect information to improve your browsing experience. Please review our \t\t\tPrivacy Statement for more information.\t\t\n",
            "78 https://babson.edu  CLOSEWe have changed our Privacy Statement and we use cookies on our website in an effort to improve your experience on our site.If you continue to use our website, you are consenting to the revised Privacy Statement and the use of cookies in accordance with the Privacy Statement. For more information please see our Privacy Statement.\n",
            "82 https://ceu.edu The Central European University website uses cookies to ensure the basic functionality of the site and for statistical and optimization purposes. It also uses cookies to display content such as YouTube videos and for marketing purposes. Learn more: CEU Cookie Statement. You may either accept or reject usage of cookies via the following links.More info\n",
            "103 https://ltu.edu Lawrence Technological University, near Detroit, MI, A private university with programs in the Arts & Sciences, Architecture & Design, Business Management, Engineering and Technology fields.  21000 West Ten Mile RoadSouthfield, MI, 48075-1058 1 800 CALL LTU 1-800-225-5588 (1 800 225 5588)AdmissionsAcademicsCampus LifeCommunityCurrent StudentsFaculty + StaffNewsEventsAthleticsAlumniGive NowApplyHomeContact UsSite Map © 2022 Lawrence Technological University   |   Privacy Statement\t\tThis site uses cookies to provide you with a better experience. For information on LTU's cookie policy, please visit this page.\t\tBy continuing to use the site or closing this banner, you are agreeing to our terms of use.\t\t× ×Request InfoGet Personalized Information Based on your Interests Lawrence Technological University has created a personalized, easy-access web site for prospective students.  You can start by setting up your own VIP interest page. Based on your unique interests and needs, we will communicate directly with you about events and other important information you might like to know.  To create your VIP interest page, choose the level of admissions you are seeking: Undergraduate Graduate  Contact us today. 248.204.3160 800.225.5588 admissions@ltu.edu We look forward to hearing from you!×Heading ×Heading ×× × × closeHeading  [Read more ]\n",
            "104 https://lsu.edu This website uses cookies to ensure site visitors get the best experience on our website. By continuing to use this site, you accept our use of cookies and Privacy Statement. To learn more, please visit LSU Privacy Statement.\n",
            "\n",
            "Cluster: 9  Num posts:  3\n",
            "12 https://cam.ac.uk Your cookie choicesCookies are little files that we save on your device to make sure we remember your preferences.We use necessary cookies to make our site work. We use site usage measurement cookies to analyse anonymised usage patterns, to make our websites better for you.You may choose to opt-in to use optional cookies for personalisation and to remember your social marketing preferences. Give me more information\n",
            "26 https://lancs.ac.uk Our use of cookiesWe use necessary cookies to make our site work. We'd also liketo set optional cookies to help us measure web traffic and reporton campaigns.We won't set optional cookies unless you enable them.\n",
            "59 https://staffs.ac.uk Cookie settingsWe use cookies to help enhance site navigation, analyse site usage and assist in our marketing efforts. You can control which cookies are set when using our site by clicking 'Manage cookie settings'.\n",
            "\n",
            "Cluster: 2  Num posts:  7\n",
            "14 https://brighton.ac.uk  Skip to contentSkip to footerAccessibility options About us  Business and employers  Alumni andsupporters  Forstudents  For staff  AccessibilityoptionsClose Study Courses and subjects Find a course A-Z course list Explore our subjects Academic departments Visiting the universityExplore: get to know usOnline eventsVirtual toursChat to our students and staffOpen daysApplicant daysOrder a prospectus Ask a question Studying here Accommodation and locations Applying Undergraduate Postgraduate Transferring from another universityThe Student ContractClearingInternational students Fees and finance Advice and helpAdvice for students Advice for parents and carers Advice for schools and teachers Managing your applicationUndergraduatePostgraduateApprenticeships Research Research and knowledge exchangeResearch and knowledge exchange organisationBrighton Futures – our themesCentres of Research and Enterprise Excellence (COREs) Research and Enterprise Groups (REGs)Our research database Information for business Community University Partnership Programme (CUPP)Postgraduate research degrees PhD research disciplines and programmes PhD funding opportunities and studentshipsHow to apply for your PhD Research environment Investing in research careers Strategic plan Research concordat News, events, publications and filmsResearch and knowledge exchange newsInaugural lecturesResearch and knowledge exchange publications and filmsAcademic staff search About us Business and employers Alumni, supporters and giving Current students Staff Accessibility SearchUniversity of BrightonApply nowFind your courseFind your courseOrder a prospectusBook onto an advice Q+AChat to our studentsFind out more about your course, living here, social life, managing money, what help is on offer and what it's like living away from home.Message nowWe see the personRight now there’s a lot of change to deal with, but the inclusive and personalised way we make offers remains the same. We value a range of qualifications and achievements and we'll consider your application individually.Apply to BrightonTop 50 for graduate outcomesBrighton is ranked in the top 50 UK universities, reflecting the number of our brilliant graduates who are in highly skilled employment or further study (2022 Complete University Guide).Read moreThe Big BuildThe Big Build is transforming our Moulsecoomb campus, with new student bedrooms, a new academic building, home to the School of Business and Law and new Students' Union and fitness facilities.Take a lookBrighton studentsWhether you've just joined us, or have returned to your studies this term, everyone is dealing with something new and different. Stay on track with our support and resources.Find out howDiscover our researchOur research and knowledge exchange activities tackle global challenges, solve practical problems and seek to improve people’s lives and environments. We foster a vibrant, agile research community; supporting our established experts and nurturing the next generation of talent from our thriving postgraduate and early career researchers.Tell me moreApplying to Brighton? Read our adviceHeadlinesNewsDesign Museum showcases Brighton-trained sustainable fashion pioneerThe award-winning social change fashion of University of Brighton graduate Bethany Williams has gone on show at London's Design Museum until 4 September. NewsBrighton researchers at the heart of UK project to transform older age healthThe University of Brighton is leading a new national research network focused on transforming the wellbeing of older people and boosting the economy. News\"Our values become even more important in the face of adversity\"A message from the Vice-Chancellor on the Russian invasion of Ukraine.NewsBrighton the biggest climber in latest Complete University GuideThe University of Brighton has recorded the largest improvement of any UK institution in the updated 2022 Complete University Guide.COVID-19 updateIf you're studying or thinking of studying here and have questions about COVID-19, our enquiries line 01273 644644 is open Monday–Friday, 10am–4pm.Read about what you can expect on campus.Contact usUniversity of Brighton Mithras House Lewes Road Brighton BN2 4ATMain switchboard 01273 600900 Course enquiries  Sign up for updates  University contacts Report a problem with this page Quick linksCoursesOpen daysOrder a prospectus Academic departments Academic staff Professional services departments JobsPrivacy and cookie policyAccessibility statementLibrariesTerm datesMapsGraduationSite informationOnline shopCOVID-19Information forCurrent studentsInternational studentsMedia/pressCareers advisers/teachersParents/carersBusiness/employersAlumni/supportersSuppliersLocal residents\t<iframe src=\"//www.googletagmanager.com/ns.html?id=GTM-KGXLQ2\" height=\"0\" width=\"0\" style=\"display:none;visibility:hidden\"></iframe>\n",
            "25 https://ucl.ac.uk Necessary cookiesNecessary cookies enable core functionality such as page navigation and access to secure areas. The website cannot function properly without these cookies, and they can only be disabled by changing your browser preferences.Analytics and customisation cookiesThese cookies enhance the functionality of our websites and improve your user experience. Without these cookies, certain functionality (like videos, personalised content or the ability to save your favourite content) may not work.Advertising cookiesThese cookies are used to make advertising messages more relevant to you. They perform functions like preventing the same ad from continuously reappearing, ensuring that ads are properly displayed for advertisers, and in some cases selecting advertisements that are based on your interests.Save preferences\n",
            "33 https://leedsbeckett.ac.uk Necessary cookies enable you to use all the different parts of leedsbeckett.ac.uk. Without them services that you have asked for cannot be provided. Necessary cookies can only be disabled by changing your browser preferences.\n",
            "38 https://lut.ac.uk This site uses cookies to store information on your computer.Some of these cookies are essential, while others help us to improve your experience by providing insights into how the site is being used.For more information and to change your settings in the future, visit our privacy statement(Opens in a new window)External Link IconAccept all cookiesReject all cookiesNecessary CookiesNecessary cookies enable core functionality such as page navigation and access to secure areas. The website cannot function properly without these cookies, and can only be disabled by changing your browser preferences.Analytical CookiesAnalytical cookies help us to improve our website by collecting and reporting information on its usage.Analytical CookiesOnOffMarketing CookiesWe use marketing cookies to help us improve the relevancy of advertising campaigns you receive.Marketing CookiesOnOffSave and close\n",
            "39 https://leedstrinity.ac.uk This site uses cookies.Some of these cookies are essential, while others help us to improve your experience.For more information vist our Privacy and Cookies Policy(Opens in a new window)External Link IconAccept Recommended SettingsI Do Not AcceptNecessary CookiesNecessary cookies enable core functionality. These can only be disabled by changing your browser preferences.Analytical CookiesAnalytical cookies help us to improve our website by collecting and reporting information on its usage.Analytical CookiesOnOffMarketing CookiesWe use marketing cookies to help us improve the relevancy of advertising campaigns you receive.Marketing CookiesOnOffAbout this tool(Opens in a new window)External Link Icon\n",
            "43 https://qmu.ac.uk We use a variety of analytics and marketing cookies to help improve our website and give you the best possibleexperience. Analytics cookies allow us to review our website traffic and performance, building intelligence on howour site is used. We also use marketing cookies via third party technologies/agencies to advertise online. Thesetrack the ads you have been exposed to, and help us serve up targeted and relevant content to you. You can changeyour cookie settings at any stage if you wish. By continuing without changing your cookie settings, you aretherefore agreeing to this. Please read our website terms of use to findout more.I Accept\n",
            "65 https://tees.ac.uk We use cookies to improve your experience on our site. Some of the cookies we use are essential for our site to work, others assist us with our marketing. You can use your browser to change your cookie settings, otherwise, we'll assume you're ok to continue.How we use cookiesI accept\n",
            "\n",
            "Cluster: 6  Num posts:  8\n",
            "18 https://uel.ac.uk We use cookies to ensure you get the best experience on our website.We use cookies to optimise site functionality and give you the best possible experience.\n",
            "23 https://gold.ac.uk Your choice regarding cookies on this siteWe use cookies to provide functionality, understand how people use our website, and to personalise content on and off gold.ac.uk.\n",
            "42 https://ox.ac.uk Your choice regarding cookies on this siteEssential cookies are enabled by default to give you the best possible site experience. For details on the other cookies we use click on settings, or accept them all.\n",
            "44 https://rave.ac.uk Your choice regarding cookies on this siteWe use cookies to optimise site functionality and give you the best possible experience.\n",
            "48 https://qub.ac.uk YOUR CHOICE REGARDING COOKIESWe use cookies to optimise site functionality and give you the best possible experience.\n",
            "50 https://rwcmd.ac.uk Your choice regarding cookies on this siteWe use cookies to optimise site functionality and give you the best possible experience.\n",
            "55 https://st-and.ac.uk Your choice regarding cookies on this siteWe use cookies to optimise site functionality and give you the best possible experience.\n",
            "70 https://arts.ac.uk Your choice regarding cookies on this siteWe use cookies to optimise site functionality and give you the best possible experience.\n",
            "\n",
            "Cluster: 8  Num posts:  11\n",
            "31 https://lincoln.ac.uk We use cookies to understand how visitors use our website and to improve the user experience. To find out more, see our Cookies Policy.   Accept\n",
            "52 https://soas.ac.uk Select \"Accept\" to agree to SOAS's use of cookies and similar technologies to enhance your browsing experience, security, analytics, customization and personalized advertising. Select \"Cookie Settings\" to make more granular choices. \n",
            "53 https://shef.ac.uk Your cookie choices Our website uses cookies to help give you a better experience. By accepting all cookies, you agree to the storing of cookies on your device. Use 'Cookie settings' to manage your preferences.Cookie and similar technologies policy\n",
            "56 https://sruc.ac.uk Skip to main contentCourses & TrainingBusiness ServicesResearchNews & EventsConnectCourses & Trainingdiscover sectionMain MenuCourses & TrainingCourse catalogueSubject areasCampusesUseful informationWays of learningTraining coursesStudent supportCourses & TrainingCourse catalogueCourse catalogueSubject areasSubject areasAgricultureAgricultureAnimal CareAnimal CareAnimal SciencesAnimal SciencesBusinessBusinessConservationConservationEngineeringEngineeringEnvironmentEnvironmentEquine & Horse CareEquine & Horse CareForestry & ArboricultureForestry & ArboricultureGarden DesignGarden DesignGolfGolfHorticulture & LandscapingHorticulture & LandscapingOrganic FarmingOrganic FarmingPoultryPoultryRural & Estate SkillsRural & Estate SkillsSustainabilitySustainabilityVeterinary NursingVeterinary NursingCampusesCampusesStudent accommodationStudent accommodationAccommodation at SRUC King’s Buildings, EdinburghAccommodation at SRUC King’s Buildings, EdinburghAccommodation at SRUC Riverside, AyrAccommodation at SRUC Riverside, AyrAccommodation at SRUC Barony, DumfriesAccommodation at SRUC Barony, DumfriesAccommodation at SRUC Craibstone, AberdeenAccommodation at SRUC Craibstone, AberdeenAccommodation at SRUC Elmwood, FifeAccommodation at SRUC Elmwood, FifeAccommodation at SRUC Oatridge, West LothianAccommodation at SRUC Oatridge, West LothianCampus term & course datesCampus term & course datesSRUC King's Buildings, EdinburghSRUC King's Buildings, EdinburghSRUC Riverside, AyrSRUC Riverside, AyrSRUC Barony, DumfriesSRUC Barony, DumfriesSRUC Craibstone, AberdeenSRUC Craibstone, AberdeenSRUC Elmwood, FifeSRUC Elmwood, FifeSRUC Oatridge, West LothianSRUC Oatridge, West LothianGlasgow Queens ParkGlasgow Queens ParkUseful informationUseful informationOpen days & eventsOpen days & eventsFees & fundingFees & fundingRequest a prospectusRequest a prospectusHow to applyHow to applyGetting started at SRUCGetting started at SRUCBefore you arriveBefore you arriveInduction and course startInduction and course startProgrammes & systems for studentsProgrammes & systems for studentsIT resource assessmentIT resource assessmentMulti-factor authenticationMulti-factor authenticationStudent support assessmentStudent support assessmentStatement of tuition fee liabilityStatement of tuition fee liabilityStudent parking applicationStudent parking applicationCraibstone campus coach transportCraibstone campus coach transportQualifications and requirementsQualifications and requirementsEntry requirements for academic coursesEntry requirements for academic coursesCollege & university qualifications explainedCollege & university qualifications explainedParents & guardiansParents & guardiansWays of learningWays of learningDistance learningDistance learningWork-based learningWork-based learningPostgraduate StudiesPostgraduate StudiesAdult & continuing educationAdult & continuing educationPart-time studyPart-time studyCourses for schoolsCourses for schoolsTraining coursesTraining coursesVeterinary CPD coursesVeterinary CPD coursesTestimonialsTestimonialsFind a CPD courseFind a CPD courseSouth Scotland training coursesSouth Scotland training coursesCentral Scotland training coursesCentral Scotland training coursesNorth Scotland training coursesNorth Scotland training coursesScotPIL Poultry personal license courseScotPIL Poultry personal license courseStudent supportStudent supportInternational studentsInternational studentsLiving in ScotlandLiving in ScotlandPracticalitiesPracticalitiesScottish ways and customsScottish ways and customsStudy requirements for international studentsStudy requirements for international studentsVisas & immigrationVisas & immigrationStudent visaStudent visaGraduate immigration routeGraduate immigration routeDo I need a visa?Do I need a visa?ErasmusErasmusERASMUS term datesERASMUS term datesApplying for Erasmus Exchange at SRUCApplying for Erasmus Exchange at SRUCPartnersPartnersSRUC Craibstone, Aberdeen coursesSRUC Craibstone, Aberdeen coursesSRUC King’s Buildings, Edinburgh coursesSRUC King’s Buildings, Edinburgh coursesSRUC Riverside, Ayr coursesSRUC Riverside, Ayr coursesCareer servicesCareer servicesCampus-specific careers adviceCampus-specific careers adviceInformation for career advisorsInformation for career advisorsAcademic supportAcademic supportHealth & wellbeingHealth & wellbeingCampus medical servicesCampus medical servicesStudents' AssociationStudents' AssociationBackBusiness Servicesdiscover sectionMain MenuBusiness ServicesWhat is your goal?Help in your sectorBusiness ServicesWhat is your goal?What is your goal?Veterinary & laboratory servicesVeterinary & laboratory servicesSheep and goat health schemesSheep and goat health schemesHighlands and Islands Sheep Health Association (HISHA)Highlands and Islands Sheep Health Association (HISHA)Premium Sheep and Goat Health SchemesPremium Sheep and Goat Health SchemesShow and sale organisersShow and sale organisersMember resourcesMember resourcesAbout the diseasesAbout the diseasesScrapie monitoring for exportScrapie monitoring for exportCattle health schemesCattle health schemesBVD Stamp It OutBVD Stamp It OutPremium Cattle Health SchemePremium Cattle Health SchemeMember resourcesMember resourcesAbout the diseasesAbout the diseasesShetland Islands Health SchemeShetland Islands Health SchemeVeterinary diagnosticsVeterinary diagnosticsAnimal disease surveillanceAnimal disease surveillanceScottish Government Veterinary Services ProgrammeScottish Government Veterinary Services ProgrammeLivestock health planningLivestock health planningCapital Quality Assessment Scheme (C-QAS)Capital Quality Assessment Scheme (C-QAS)Horse health schemeHorse health schemePremium Assured Strangles SchemePremium Assured Strangles SchemeMember resourcesMember resourcesContact Veterinary ServicesContact Veterinary ServicesAnimal feed, crop & soil analytical servicesAnimal feed, crop & soil analytical servicesAnimal feed & forage testingAnimal feed & forage testingCrop testingCrop testingOrganic waste analysisOrganic waste analysisSoils analysisSoils analysisSubscribe to our consulting servicesSubscribe to our consulting servicesSustainabilitySustainabilityAgrecalcAgrecalcBiodiversity consultancyBiodiversity consultancyCircular economyCircular economyClimate changeClimate changeWater & air qualityWater & air qualityFood & FootprintFood & FootprintDiversificationDiversificationAgriScot Diversified Farm of the Year awardAgriScot Diversified Farm of the Year awardCommercial opportunitiesCommercial opportunitiesManaging business financesManaging business financesCommission project management & researchCommission project management & researchBrand, marketing & digital adviceBrand, marketing & digital adviceHelp in your sectorHelp in your sectorAgricultural productionAgricultural productionCattle & sheepCattle & sheepLivestock Record ProgrammeLivestock Record ProgrammeSheep & Beef NewsSheep & Beef NewsCropsCropsDairyDairyGrassland managementGrassland managementGrazeUPGrazeUPOrganic farmingOrganic farmingPigsPigsPotatoesPotatoesPoultryPoultrySoilsSoilsSoil health testingSoil health testingTaking soil samplesTaking soil samplesTechnical notesTechnical notesFarm business managementFarm business managementBookkeeping & payroll servicesBookkeeping & payroll servicesCore farm servicesCore farm servicesElectricity Buying ServiceElectricity Buying ServiceFarm Management HandbookFarm Management HandbookManagement & individual contractsManagement & individual contractsMilkNETMilkNETNitrate Vulnerable ZonesNitrate Vulnerable ZonesScottish Farm Business SurveyScottish Farm Business SurveyFood & drinkFood & drinkNatural resource managementNatural resource managementBy-productsBy-productsSOMASOMARenewable energyRenewable energySoil, water, air & wasteSoil, water, air & wasteSpecialist projectsSpecialist projectsFarm woodlands & forestryFarm woodlands & forestryCroftingCroftingDevelopment planning & designDevelopment planning & designEnvironmental assessments & planningEnvironmental assessments & planningMajor projectsMajor projectsRural developmentRural developmentAgritourismAgritourismBackResearchdiscover sectionMain MenuResearchFacilities & capabilitiesResearch activitiesChallenge CentresResearch operationsPhD opportunitiesResearchFacilities & capabilitiesFacilities & capabilitiesBeef & sheep researchBeef & sheep researchBeef & sheep research facilitiesBeef & sheep research facilitiesEaster Howgate FarmEaster Howgate FarmMethane chambersMethane chambersFeed efficiencyFeed efficiencyMeat qualityMeat qualityCT scanningCT scanningPrecision livestock farmingPrecision livestock farmingBeef & sheep research projectsBeef & sheep research projectsParabanParabanMeet the Beef & sheep research teamMeet the Beef & sheep research teamRural Policy CentreRural Policy CentreRural policy resourcesRural policy resourcesEnvironment & climateEnvironment & climateLand use & land reformLand use & land reformFood, health & wellbeingFood, health & wellbeingRural economies & communitiesRural economies & communitiesRural Policy eventsRural Policy eventsRural Brexit HubRural Brexit HubAbout the Rural Policy CentreAbout the Rural Policy CentreMeet the teamMeet the teamCommission a projectCommission a projectRural Policy Centre research & analysisRural Policy Centre research & analysisRural ReportRural ReportSGSRPSGSRPDairy Research & Innovation CentreDairy Research & Innovation CentreCrichton Royal FarmCrichton Royal FarmMeet the Dairy teamMeet the Dairy teamDairy Research Centre facilitiesDairy Research Centre facilitiesCows & feedingCows & feedingCalf research facilityCalf research facilitySoil & grassland workSoil & grassland workDairy projectsDairy projectsDairy sensorsDairy sensorsLanghill breeding studyLanghill breeding studyTanzania milk qualityTanzania milk qualityGrASTechGrASTechLegumes TranslatedLegumes TranslatedSmartCowSmartCowDairy-4-FutureDairy-4-FutureHome-grown feedsHome-grown feedsFeeding by-productsFeeding by-productsSoil compactionSoil compactionLow protein dietsLow protein dietsControlled traffic farmingControlled traffic farmingOutwintering heifersOutwintering heifersDairy PhD projectsDairy PhD projectsHonours & Masters projectsHonours & Masters projectsCCC farmingCCC farmingKeeping Cow with CalfKeeping Cow with CalfTechnical notesTechnical notesMonogastric researchMonogastric researchPig Info GroupPig Info GroupPoultry activitiesPoultry activitiesBiosecurityBiosecurityConventional, free-range & organicConventional, free-range & organicHusbandryHusbandryNutritionNutritionHill & mountain researchHill & mountain researchCrop trialsCrop trialsBiorefining & advanced materials researchBiorefining & advanced materials researchResearch activitiesResearch activitiesSoils & plantsSoils & plantsAnimal behaviour & welfareAnimal behaviour & welfareQualitative Behaviour Assessment appQualitative Behaviour Assessment appGenetics & genomicsGenetics & genomicsDisease & epidemiologyDisease & epidemiologyGreenhouse gases & environmentGreenhouse gases & environmentAgri-food systemsAgri-food systemsEconomics & policyEconomics & policyInternational researchInternational researchFarming MindsFarming MindsChallenge CentresChallenge CentresFuture food systemsFuture food systemsGlobal climate emergencyGlobal climate emergencySafe & improved foodSafe & improved foodThriving natural capitalThriving natural capitalDelivering data & digital innovationDelivering data & digital innovationResearch operationsResearch operationsOpen accessOpen accessResearch ethicsResearch ethicsAnimal Ethical CommitteeAnimal Ethical CommitteePhD opportunitiesPhD opportunitiesBackNews & Eventsdiscover sectionMain MenuNews & EventsNews & viewsEventsPodcasts & videosNewsletterMedia CentreNews & EventsNews & viewsNews & viewsEventsEventsPodcasts & videosPodcasts & videosSRUCBytesSRUCBytesSRUC Rural Policy podcastSRUC Rural Policy podcastThriving Natural Capital podcastThriving Natural Capital podcastNewsletterNewsletterMedia CentreMedia CentreBackConnectdiscover sectionMain MenuConnectContact usJobsAbout SRUCFind an expertAlumni & friendsFacilitiesSupport SRUCConnectContact usContact usJobsJobsList of vacanciesList of vacanciesRecruitment processRecruitment processApplication & interview adviceApplication & interview adviceSkilled Worker visa guidanceSkilled Worker visa guidanceCosts involved in obtaining a visaCosts involved in obtaining a visaWorking for SRUCWorking for SRUCBenefitsBenefitsAbout SRUCAbout SRUCOur historyOur historyInternational activitiesInternational activitiesGovernanceGovernancePolicies & compliancePolicies & complianceProcurementProcurementFinance & regulationsFinance & regulationsComplianceCompliancePrivacy policy, GDPR & cookiesPrivacy policy, GDPR & cookiesFreedom of informationFreedom of informationComplaints handling procedureComplaints handling procedureModern Slavery ActModern Slavery ActAccessibilityAccessibilityClimate Change Action PlanClimate Change Action PlanSRUC ShopSRUC ShopEquality, diversity & inclusionEquality, diversity & inclusionCovid-19 informationCovid-19 informationCovid-19 information for studentsCovid-19 information for studentsCovid-19 Veterinary Services updateCovid-19 Veterinary Services updateFind an expertFind an expertAlumni & friendsAlumni & friendsAlumni storiesAlumni storiesKeep in touch with the communityKeep in touch with the communityUpdate your detailsUpdate your detailsAlumni jobs & careersAlumni jobs & careersEmployers looking for SRUC alumniEmployers looking for SRUC alumniRecruitment agencies & sector specialistsRecruitment agencies & sector specialistsSRUC Matters magazineSRUC Matters magazineAlumni discount for postgraduate coursesAlumni discount for postgraduate coursesFacilitiesFacilitiesCampus librariesCampus librariesHoliday letsHoliday letsScottish National Equestrian CentreScottish National Equestrian CentreGolf coursesGolf coursesConferences & eventsConferences & eventsSRUC Oatridge conferences & eventsSRUC Oatridge conferences & eventsSRUC Barony conferences & eventsSRUC Barony conferences & eventsSupport SRUCSupport SRUCBack\n",
            "72 https://american.edu American University uses cookies and other technology on our website to improve your experience and to better understand how you use our websites. I agree to American University's use of cookies. Learn moreAgree\n",
            "77 https://averett.edu This website uses cookies to understand how you use the website and to improve your experience. By continuing to use the website, you accept Averett University’s use of cookies and similar technologies. To learn more about our use of cookies and how to manage your browser cookie settings, please review our Privacy Policy. Accept Read More\n",
            "79 https://beloit.edu This site uses cookies to improve your experience. Read our Web Privacy Policy for more information.Got it! ×\n",
            "85 https://wm.edu That’s one smart cookie.We use cookies to analyze traffic and improve your experience. By continuing without changing your cookie settings, you agree to this convention. For more information, please see our Privacy & Security Statement.Ok, Got It\n",
            "87 https://emu.edu We use cookies to analyze traffic and improve your experience. By continuing without\t\t\t\t\tchanging your cookie settings, you agree to this convention. For more information,\t\t\t\t\tplease see our Privacy Notice Policy.\t\t\t\tOk, Got It\n",
            "88 https://erau.edu OK Accept Privacy Statement\t\t\tThis website uses cookies and similar tools and technologies to understand visitors’ experiences. By continuing to use this website, you consent to Embry-Riddle Aeronautical University’s use of cookies and similar technologies, in accordance with the Embry-Riddle Privacy Statement.\t\t\n",
            "96 https://georgian.edu We use cookies and similar technologies to understand our visitors’ experiences. By continuing to use this website, you agree to this condition of use. For further information please see our privacy policy. \n",
            "\n",
            "Cluster: 4  Num posts:  6\n",
            "35 https://lse.ac.uk We use cookies on this website to make your browsing experience better. By continuing to use this website, you agree toAccept and Continueour cookie policy.\n",
            "49 https://nottingham.ac.uk The University of Nottingham collects and holds some personal information about how you use our website when you visit us.OKSee our policy\n",
            "69 https://adelphi.edu This website uses cookies to give you the best experience. By continuing to use this website, you agree to our use of cookies. Privacy PolicyAccept\n",
            "71 https://aic.edu Privacy Policy and use of CookiesWe use cookies on our website to offer a better browsing experience, analyze web traffic and personalize content. By using our website, you agree to the use of cookies as described in our Privacy Policy.AgreeDeclineLearn more about cookies\n",
            "73 https://antiochne.edu We use cookies on our website to give you the most relevant experience by remembering your preferences and repeat visits. By clicking “Accept All”, you consent to the use of ALL the cookies. However, you may visit \"Cookie Settings\" to provide a controlled consent.Cookie SettingsAccept All\n",
            "74 https://antiochla.edu We use cookies on our website to give you the most relevant experience by remembering your preferences and repeat visits. By clicking “Accept All”, you consent to the use of ALL the cookies. However, you may visit \"Cookie Settings\" to provide a controlled consent.Cookie SettingsAccept All\n"
          ]
        },
        {
          "output_type": "execute_result",
          "data": {
            "text/plain": [
              "'\\n0: advertising and analytics\\n1: enhance browser, website experience\\n2: Disable cookies\\n3: go to Cookie Policy page to see how cookies are stored on the device\\n4: remembering your preferences\\n5: best customer experience\\n6: otpimise site functionality\\n7: By using this website, you consent to using cookies\\n8: use cookies and similar technologies to understand our visitors’ experiences\\n9: optional cookies\\n10: Privacy Statement; \\n\\n\\n'"
            ],
            "application/vnd.google.colaboratory.intrinsic+json": {
              "type": "string"
            }
          },
          "metadata": {},
          "execution_count": 20
        }
      ]
    },
    {
      "cell_type": "code",
      "source": [
        "from yellowbrick.text import TSNEVisualizer\n",
        "\n",
        "\"\"\"\n",
        "    \\item Marketing \\& Advertising\n",
        "    \\item Enhance customer experience\n",
        "    \\item Disable cookies\n",
        "    \\item Go to Cookie Policy page to see how cookies are stored on the device\n",
        "    \\item Remembering Preferences\n",
        "    \\item Optimise site functionality\n",
        "    \\item By using this website, you consent to using cookies.. (implicit cookies)\n",
        "    \\item Understand our visitors’ experiences\n",
        "    \\item Privacy Statement\n",
        "\"\"\"\n",
        "map = {0:'Marketing & Advertising', 1:'Enhance customer experience', \n",
        "       2:'Disable cookies ', 3:'See how cookies are stored on the device', 4:'Remembering Preferences', \n",
        "       5:'Optimise site functionality', 6:'By using this website, you consent to using cookies.. (implicit cookies)', \n",
        "       7:'Check out more information about cookies; view cookie settings', 8:'Understand our visitors’ experiences', 9:'Optional Cookies',\n",
        "       10:'Privacy Settings'}\n",
        "labels = kmeans.predict(document_matrix)\n",
        "tsne = TSNEVisualizer()\n",
        "tsne.fit(document_matrix, [map[k] for k in labels])\n",
        "\n",
        "tsne.set_title('Cookie Body Text clustering')\n",
        "tsne.show()"
      ],
      "metadata": {
        "colab": {
          "base_uri": "https://localhost:8080/",
          "height": 625
        },
        "id": "GCVjQSulERzh",
        "outputId": "a2ce5d95-887a-4885-fe8f-1b7103d7f4a7"
      },
      "execution_count": 21,
      "outputs": [
        {
          "output_type": "stream",
          "name": "stderr",
          "text": [
            "/usr/local/lib/python3.7/dist-packages/sklearn/manifold/_t_sne.py:783: FutureWarning: The default initialization in TSNE will change from 'random' to 'pca' in 1.2.\n",
            "  FutureWarning,\n",
            "/usr/local/lib/python3.7/dist-packages/sklearn/manifold/_t_sne.py:793: FutureWarning: The default learning rate in TSNE will change from 200.0 to 'auto' in 1.2.\n",
            "  FutureWarning,\n",
            "*c* argument looks like a single numeric RGB or RGBA sequence, which should be avoided as value-mapping will have precedence in case its length matches with *x* & *y*.  Please use the *color* keyword-argument or provide a 2-D array with a single row if you intend to specify the same RGB or RGBA value for all points.\n",
            "*c* argument looks like a single numeric RGB or RGBA sequence, which should be avoided as value-mapping will have precedence in case its length matches with *x* & *y*.  Please use the *color* keyword-argument or provide a 2-D array with a single row if you intend to specify the same RGB or RGBA value for all points.\n",
            "*c* argument looks like a single numeric RGB or RGBA sequence, which should be avoided as value-mapping will have precedence in case its length matches with *x* & *y*.  Please use the *color* keyword-argument or provide a 2-D array with a single row if you intend to specify the same RGB or RGBA value for all points.\n",
            "*c* argument looks like a single numeric RGB or RGBA sequence, which should be avoided as value-mapping will have precedence in case its length matches with *x* & *y*.  Please use the *color* keyword-argument or provide a 2-D array with a single row if you intend to specify the same RGB or RGBA value for all points.\n",
            "*c* argument looks like a single numeric RGB or RGBA sequence, which should be avoided as value-mapping will have precedence in case its length matches with *x* & *y*.  Please use the *color* keyword-argument or provide a 2-D array with a single row if you intend to specify the same RGB or RGBA value for all points.\n",
            "*c* argument looks like a single numeric RGB or RGBA sequence, which should be avoided as value-mapping will have precedence in case its length matches with *x* & *y*.  Please use the *color* keyword-argument or provide a 2-D array with a single row if you intend to specify the same RGB or RGBA value for all points.\n",
            "*c* argument looks like a single numeric RGB or RGBA sequence, which should be avoided as value-mapping will have precedence in case its length matches with *x* & *y*.  Please use the *color* keyword-argument or provide a 2-D array with a single row if you intend to specify the same RGB or RGBA value for all points.\n",
            "*c* argument looks like a single numeric RGB or RGBA sequence, which should be avoided as value-mapping will have precedence in case its length matches with *x* & *y*.  Please use the *color* keyword-argument or provide a 2-D array with a single row if you intend to specify the same RGB or RGBA value for all points.\n",
            "*c* argument looks like a single numeric RGB or RGBA sequence, which should be avoided as value-mapping will have precedence in case its length matches with *x* & *y*.  Please use the *color* keyword-argument or provide a 2-D array with a single row if you intend to specify the same RGB or RGBA value for all points.\n",
            "*c* argument looks like a single numeric RGB or RGBA sequence, which should be avoided as value-mapping will have precedence in case its length matches with *x* & *y*.  Please use the *color* keyword-argument or provide a 2-D array with a single row if you intend to specify the same RGB or RGBA value for all points.\n"
          ]
        },
        {
          "output_type": "display_data",
          "data": {
            "text/plain": [
              "<Figure size 576x396 with 1 Axes>"
            ],
            "image/png": "[encoded data removed]"
          },
          "metadata": {}
        },
        {
          "output_type": "execute_result",
          "data": {
            "text/plain": [
              "<matplotlib.axes._subplots.AxesSubplot at 0x7eff813d8c50>"
            ]
          },
          "metadata": {},
          "execution_count": 21
        }
      ]
    },
    {
      "cell_type": "code",
      "metadata": {
        "id": "AsI-2llojKSF"
      },
      "source": [
        "# Example cluster range\n",
        "cluster_range = range(3,10)"
      ],
      "execution_count": 22,
      "outputs": []
    },
    {
      "cell_type": "markdown",
      "metadata": {
        "id": "5taWLZCY0RVM"
      },
      "source": [
        "#### Elbow method"
      ]
    },
    {
      "cell_type": "markdown",
      "metadata": {
        "id": "Q8mF2Sjx1WEv"
      },
      "source": [
        "The code below plots K-Means using the [Elbow method](https://www.scikit-yb.org/en/latest/api/cluster/elbow.html). The Sillhuette coeficient finds the best number of clusters. "
      ]
    },
    {
      "cell_type": "code",
      "metadata": {
        "id": "2KB0nYCriu6o",
        "colab": {
          "base_uri": "https://localhost:8080/",
          "height": 393
        },
        "outputId": "311bfdc1-43a4-441f-c3ca-4d96a46a4ec7"
      },
      "source": [
        "from yellowbrick.cluster import KElbowVisualizer\n",
        "# Instantiate the clustering model and visualizer\n",
        "model = KMeans(init='k-means++', n_init=3, random_state=42)\n",
        "# Multiple metrics are available, see the documentation for details. \n",
        "visualizer = KElbowVisualizer(model, metric='silhouette', k=(3, 25))\n",
        "visualizer.fit(document_matrix)        # Fit the data to the visualizer\n",
        "visualizer.show()        # Finalize and render the figure"
      ],
      "execution_count": 23,
      "outputs": [
        {
          "output_type": "display_data",
          "data": {
            "text/plain": [
              "<Figure size 576x396 with 2 Axes>"
            ],
            "image/png": "[encoded data removed]"
          },
          "metadata": {}
        },
        {
          "output_type": "execute_result",
          "data": {
            "text/plain": [
              "<matplotlib.axes._subplots.AxesSubplot at 0x7eff812e3a90>"
            ]
          },
          "metadata": {},
          "execution_count": 23
        }
      ]
    },
    {
      "cell_type": "markdown",
      "source": [
        "### Which cookies are uninformative using cosine similarity of the embeddings of the cookies bodies"
      ],
      "metadata": {
        "id": "EJGzR3amaSGM"
      }
    },
    {
      "cell_type": "code",
      "source": [
        "!pip install -U sentence-transformers"
      ],
      "metadata": {
        "colab": {
          "base_uri": "https://localhost:8080/"
        },
        "id": "J5gXs4hxXNdM",
        "outputId": "bd76fcde-5c1c-4fc3-8f59-8724dde1718f"
      },
      "execution_count": 24,
      "outputs": [
        {
          "output_type": "stream",
          "name": "stdout",
          "text": [
            "Collecting sentence-transformers\n",
            "  Downloading sentence-transformers-2.2.0.tar.gz (79 kB)\n",
            "\u001b[K     |████████████████████████████████| 79 kB 3.1 MB/s \n",
            "\u001b[?25hCollecting transformers<5.0.0,>=4.6.0\n",
            "  Downloading transformers-4.17.0-py3-none-any.whl (3.8 MB)\n",
            "\u001b[K     |████████████████████████████████| 3.8 MB 32.3 MB/s \n",
            "\u001b[?25hRequirement already satisfied: tqdm in /usr/local/lib/python3.7/dist-packages (from sentence-transformers) (4.63.0)\n",
            "Requirement already satisfied: torch>=1.6.0 in /usr/local/lib/python3.7/dist-packages (from sentence-transformers) (1.10.0+cu111)\n",
            "Requirement already satisfied: torchvision in /usr/local/lib/python3.7/dist-packages (from sentence-transformers) (0.11.1+cu111)\n",
            "Requirement already satisfied: numpy in /usr/local/lib/python3.7/dist-packages (from sentence-transformers) (1.21.5)\n",
            "Requirement already satisfied: scikit-learn in /usr/local/lib/python3.7/dist-packages (from sentence-transformers) (1.0.2)\n",
            "Requirement already satisfied: scipy in /usr/local/lib/python3.7/dist-packages (from sentence-transformers) (1.4.1)\n",
            "Requirement already satisfied: nltk in /usr/local/lib/python3.7/dist-packages (from sentence-transformers) (3.2.5)\n",
            "Collecting sentencepiece\n",
            "  Downloading sentencepiece-0.1.96-cp37-cp37m-manylinux_2_17_x86_64.manylinux2014_x86_64.whl (1.2 MB)\n",
            "\u001b[K     |████████████████████████████████| 1.2 MB 45.6 MB/s \n",
            "\u001b[?25hCollecting huggingface-hub\n",
            "  Downloading huggingface_hub-0.4.0-py3-none-any.whl (67 kB)\n",
            "\u001b[K     |████████████████████████████████| 67 kB 5.1 MB/s \n",
            "\u001b[?25hRequirement already satisfied: typing-extensions in /usr/local/lib/python3.7/dist-packages (from torch>=1.6.0->sentence-transformers) (3.10.0.2)\n",
            "Requirement already satisfied: requests in /usr/local/lib/python3.7/dist-packages (from transformers<5.0.0,>=4.6.0->sentence-transformers) (2.23.0)\n",
            "Requirement already satisfied: regex!=2019.12.17 in /usr/local/lib/python3.7/dist-packages (from transformers<5.0.0,>=4.6.0->sentence-transformers) (2019.12.20)\n",
            "Requirement already satisfied: filelock in /usr/local/lib/python3.7/dist-packages (from transformers<5.0.0,>=4.6.0->sentence-transformers) (3.6.0)\n",
            "Collecting pyyaml>=5.1\n",
            "  Downloading PyYAML-6.0-cp37-cp37m-manylinux_2_5_x86_64.manylinux1_x86_64.manylinux_2_12_x86_64.manylinux2010_x86_64.whl (596 kB)\n",
            "\u001b[K     |████████████████████████████████| 596 kB 47.6 MB/s \n",
            "\u001b[?25hCollecting sacremoses\n",
            "  Downloading sacremoses-0.0.49-py3-none-any.whl (895 kB)\n",
            "\u001b[K     |████████████████████████████████| 895 kB 46.4 MB/s \n",
            "\u001b[?25hRequirement already satisfied: importlib-metadata in /usr/local/lib/python3.7/dist-packages (from transformers<5.0.0,>=4.6.0->sentence-transformers) (4.11.2)\n",
            "Requirement already satisfied: packaging>=20.0 in /usr/local/lib/python3.7/dist-packages (from transformers<5.0.0,>=4.6.0->sentence-transformers) (21.3)\n",
            "Collecting tokenizers!=0.11.3,>=0.11.1\n",
            "  Downloading tokenizers-0.11.6-cp37-cp37m-manylinux_2_12_x86_64.manylinux2010_x86_64.whl (6.5 MB)\n",
            "\u001b[K     |████████████████████████████████| 6.5 MB 34.1 MB/s \n",
            "\u001b[?25hRequirement already satisfied: pyparsing!=3.0.5,>=2.0.2 in /usr/local/lib/python3.7/dist-packages (from packaging>=20.0->transformers<5.0.0,>=4.6.0->sentence-transformers) (3.0.7)\n",
            "Requirement already satisfied: zipp>=0.5 in /usr/local/lib/python3.7/dist-packages (from importlib-metadata->transformers<5.0.0,>=4.6.0->sentence-transformers) (3.7.0)\n",
            "Requirement already satisfied: six in /usr/local/lib/python3.7/dist-packages (from nltk->sentence-transformers) (1.15.0)\n",
            "Requirement already satisfied: chardet<4,>=3.0.2 in /usr/local/lib/python3.7/dist-packages (from requests->transformers<5.0.0,>=4.6.0->sentence-transformers) (3.0.4)\n",
            "Requirement already satisfied: urllib3!=1.25.0,!=1.25.1,<1.26,>=1.21.1 in /usr/local/lib/python3.7/dist-packages (from requests->transformers<5.0.0,>=4.6.0->sentence-transformers) (1.24.3)\n",
            "Requirement already satisfied: certifi>=2017.4.17 in /usr/local/lib/python3.7/dist-packages (from requests->transformers<5.0.0,>=4.6.0->sentence-transformers) (2021.10.8)\n",
            "Requirement already satisfied: idna<3,>=2.5 in /usr/local/lib/python3.7/dist-packages (from requests->transformers<5.0.0,>=4.6.0->sentence-transformers) (2.10)\n",
            "Requirement already satisfied: click in /usr/local/lib/python3.7/dist-packages (from sacremoses->transformers<5.0.0,>=4.6.0->sentence-transformers) (7.1.2)\n",
            "Requirement already satisfied: joblib in /usr/local/lib/python3.7/dist-packages (from sacremoses->transformers<5.0.0,>=4.6.0->sentence-transformers) (1.1.0)\n",
            "Requirement already satisfied: threadpoolctl>=2.0.0 in /usr/local/lib/python3.7/dist-packages (from scikit-learn->sentence-transformers) (3.1.0)\n",
            "Requirement already satisfied: pillow!=8.3.0,>=5.3.0 in /usr/local/lib/python3.7/dist-packages (from torchvision->sentence-transformers) (7.1.2)\n",
            "Building wheels for collected packages: sentence-transformers\n",
            "  Building wheel for sentence-transformers (setup.py) ... \u001b[?25l\u001b[?25hdone\n",
            "  Created wheel for sentence-transformers: filename=sentence_transformers-2.2.0-py3-none-any.whl size=120747 sha256=ad2d2cd136242a8e75832287075150434b7c6805cdd28b9eb981f0f75b1cd63e\n",
            "  Stored in directory: /root/.cache/pip/wheels/83/c0/df/b6873ab7aac3f2465aa9144b6b4c41c4391cfecc027c8b07e7\n",
            "Successfully built sentence-transformers\n",
            "Installing collected packages: pyyaml, tokenizers, sacremoses, huggingface-hub, transformers, sentencepiece, sentence-transformers\n",
            "  Attempting uninstall: pyyaml\n",
            "    Found existing installation: PyYAML 3.13\n",
            "    Uninstalling PyYAML-3.13:\n",
            "      Successfully uninstalled PyYAML-3.13\n",
            "Successfully installed huggingface-hub-0.4.0 pyyaml-6.0 sacremoses-0.0.49 sentence-transformers-2.2.0 sentencepiece-0.1.96 tokenizers-0.11.6 transformers-4.17.0\n"
          ]
        }
      ]
    },
    {
      "cell_type": "code",
      "source": [
        "cats = {'advertising, analytics, and marketing analyse usage or analyze traffic': 0.6429,\n",
        "'better customer experience':0.4823,\n",
        "'disable': 0.4565,\n",
        "'how are stored on the device': 0.6473,\n",
        "'remembering your preferences': 0.6139,\n",
        "'best customer experience': 0.5014,\n",
        "'otpimise site functionality': 0.6508,\n",
        "'understand our visitors experiences': 0.6561,\n",
        "'privacy statement': 0.5817}\n",
        "\n",
        "headers = ['Marketing & Advertising',\n",
        "'Enhance customer experience',\n",
        "'Disable cookies/ Change cookie settings',\n",
        "'Cookies are stored on device',\n",
        "'Remember user preferences',\n",
        "'Enhance customer experience',\n",
        "'otpimise site functionality',\n",
        "'Understand visitors experiences',\n",
        "'Privacy Statement',\n",
        "]\n",
        "\n",
        "thresholds = []"
      ],
      "metadata": {
        "id": "SMu4Dal4c0YK"
      },
      "execution_count": 25,
      "outputs": []
    },
    {
      "cell_type": "code",
      "source": [
        "from sentence_transformers import SentenceTransformer\n",
        "import torch \n",
        "from torch import nn\n",
        "\n",
        "def get_cookies_from_cat (cat,thres):\n",
        "  cos_sim = nn.CosineSimilarity(dim=0)\n",
        "\n",
        "  phrase_list = post_vals\n",
        "  query = cat\n",
        "  model = SentenceTransformer('whaleloops/phrase-bert')\n",
        "  phrase_embs = model.encode( [query] + phrase_list )\n",
        "  query_emb = phrase_embs[0]\n",
        "  all = []\n",
        "  for i,emb in enumerate(phrase_embs[1:]):\n",
        "      cos = cos_sim( torch.tensor(query_emb), torch.tensor(emb))\n",
        "      if (cos>=thres):\n",
        "        all.append((cos, post_vals[i], urls[i]))\n",
        "\n",
        "  return sorted(all, key=lambda x: -x[0])"
      ],
      "metadata": {
        "id": "fm1yB-iLXNf_"
      },
      "execution_count": 26,
      "outputs": []
    },
    {
      "cell_type": "code",
      "source": [
        "counts = []\n",
        "for cat, thres in cats.items():\n",
        "  cookies_list = get_cookies_from_cat(cat,thres)\n",
        "  counts.append(len(cookies_list))\n"
      ],
      "metadata": {
        "id": "6krq7msIa-aG",
        "colab": {
          "base_uri": "https://localhost:8080/",
          "height": 555,
          "referenced_widgets": [
            "e818b4a1f991449482abc949e341fb8b",
            "95eb3091cc0747ad852b424a3f1b49d4",
            "e6e1d3161676470cbc00b872a370ed69",
            "fb2e483cff8f47eabc4a6b2d7efd6834",
            "9c05a609ba56422db6a4c49750a98431",
            "2a4d96c6e54c40af995cbf06b0680367",
            "c175b728db584d7c97e6837710bfd4e0",
            "c73eac2012ea439d8cdad20048b7f62a",
            "9ef515e37977471c9c85aed59b6d060f",
            "5c845739e68f4845baa1d17c6a1a4056",
            "dba5e45effa84a97bb6a89ccef98a0f0",
            "0a77e4384d144f078b0f724c3860135c",
            "0d38a70ba9a2474a9f7cf6956af1eb92",
            "b333cb60aa6746df9aa50e06772502ee",
            "4cf8feb67e344b6687faa2eb2af894ca",
            "dfe00b94efc045879e834402b554bcce",
            "22a64f564c474a55ab7016d08d77557e",
            "b08ede1a5a784804b2994035973259ca",
            "def71623407b4ee8a3d68f5e36a46a0a",
            "33a0f65d30af4ec0b3a7fb8306c7f659",
            "115fa8a44a4c4255938edb8bec7da270",
            "a28b941ce848455da7f95f731d50201d",
            "df2ad994243e41e6991a15538b6dd5d6",
            "9229cbbf4ca54aec83055b16140ea7f2",
            "7de91258d55644e285e59f8ad3f70ad0",
            "2b4d3bc13d7e435f8423a672ccfc0832",
            "4ef1ca7ee6a64d26abeb68cc311f4bbb",
            "a5355a8bdba646fa96e9436c93fd7d10",
            "7d02d4325c77432c9abf0e95cd56a716",
            "37790ed469e54aeebe76a4c54c51a492",
            "ebc4d637e51742d1b8f41b7f36a29eae",
            "9d28ef4c4c4148b99af55de5fe3f3a8f",
            "8a7b9f243f0e4db396ee73b33cdfbd43",
            "ec19cab6347b4abd84f7ef90e5c5ca5d",
            "9cc8e6b65c1f4ad0ba30ac611e49dff1",
            "22aeddef7bd047ccb190e9ce3d2c2d81",
            "cd4bc54143064df5aae327c27deaf16a",
            "1bca2679027242a3a77c03a92ffb4ae5",
            "b733d53701ef410bb022c33528c3d71d",
            "049cc7c1019448279add6681678fd35c",
            "83b6c5fc59964863b72dbab0b69b46c3",
            "b436853f7d754c59974c5db2a5f3e212",
            "701c7d7e669d4291a5ea6c61b6d93703",
            "cb9d7b304ca64b709b60153b6e715bba",
            "d3c0a91b634649388a6cb903069c8b8d",
            "5154a9781db64f4f84d9fbb194c9940e",
            "a3b425b84f49458c96760fc476b63c50",
            "631552b1a1ad42e3af3c380dd2dc4ac6",
            "bf0356c1b754411d91deb64c11e83f1c",
            "7f5106bc3b2b4c3d876558928c75dafa",
            "014bdb2b4a2f4b3a968264926ad8e5e8",
            "aa9f4efb441b46fb984173eed1f058f4",
            "eba823b2bb8345ed8182b97d1965814a",
            "4117f9093dc04691a40ee124bc479b5c",
            "23efa4af9e864749a51d2b29544e6013",
            "5901d8563a1c495891bcf783d2ebebea",
            "a9a4fea5c3934a3f89d39ff409dd5a5e",
            "d5165971a5694efb9606f6399986a738",
            "6a44b3a66dd34331947d92f239e19978",
            "a92a4d962b0448069f882c50154079a2",
            "c9b09d52a4b9460d8dcc8c3163abb22d",
            "9ee63b190dd4456590bb145777041e67",
            "bb8590ae218041eca775ef2078066014",
            "dc0a4632ebe34784a7939cb69f1fb0b7",
            "013c39a89aa745478479aa17bc6850c3",
            "18b0c28b1db24a5db9f623ff8a08f3c5"
          ]
        },
        "outputId": "dbf1af3b-988d-40f1-fe2f-83316fdba4b6"
      },
      "execution_count": 27,
      "outputs": [
        {
          "output_type": "display_data",
          "data": {
            "text/plain": [
              "Downloading:   0%|          | 0.00/1.23k [00:00<?, ?B/s]"
            ],
            "application/vnd.jupyter.widget-view+json": {
              "version_major": 2,
              "version_minor": 0,
              "model_id": "e818b4a1f991449482abc949e341fb8b"
            }
          },
          "metadata": {}
        },
        {
          "output_type": "display_data",
          "data": {
            "text/plain": [
              "Downloading:   0%|          | 0.00/5.41k [00:00<?, ?B/s]"
            ],
            "application/vnd.jupyter.widget-view+json": {
              "version_major": 2,
              "version_minor": 0,
              "model_id": "0a77e4384d144f078b0f724c3860135c"
            }
          },
          "metadata": {}
        },
        {
          "output_type": "display_data",
          "data": {
            "text/plain": [
              "Downloading:   0%|          | 0.00/670 [00:00<?, ?B/s]"
            ],
            "application/vnd.jupyter.widget-view+json": {
              "version_major": 2,
              "version_minor": 0,
              "model_id": "df2ad994243e41e6991a15538b6dd5d6"
            }
          },
          "metadata": {}
        },
        {
          "output_type": "display_data",
          "data": {
            "text/plain": [
              "Downloading:   0%|          | 0.00/116 [00:00<?, ?B/s]"
            ],
            "application/vnd.jupyter.widget-view+json": {
              "version_major": 2,
              "version_minor": 0,
              "model_id": "ec19cab6347b4abd84f7ef90e5c5ca5d"
            }
          },
          "metadata": {}
        },
        {
          "output_type": "display_data",
          "data": {
            "text/plain": [
              "Downloading:   0%|          | 0.00/229 [00:00<?, ?B/s]"
            ],
            "application/vnd.jupyter.widget-view+json": {
              "version_major": 2,
              "version_minor": 0,
              "model_id": "d3c0a91b634649388a6cb903069c8b8d"
            }
          },
          "metadata": {}
        },
        {
          "output_type": "display_data",
          "data": {
            "text/plain": [
              "Downloading:   0%|          | 0.00/438M [00:00<?, ?B/s]"
            ],
            "application/vnd.jupyter.widget-view+json": {
              "version_major": 2,
              "version_minor": 0,
              "model_id": "5901d8563a1c495891bcf783d2ebebea"
            }
          },
          "metadata": {}
        },
        {
          "output_type": "error",
          "ename": "KeyboardInterrupt",
          "evalue": "ignored",
          "traceback": [
            "\u001b[0;31m---------------------------------------------------------------------------\u001b[0m",
            "\u001b[0;31mKeyboardInterrupt\u001b[0m                         Traceback (most recent call last)",
            "\u001b[0;32m<ipython-input-27-1f598ac59e3c>\u001b[0m in \u001b[0;36m<module>\u001b[0;34m()\u001b[0m\n\u001b[1;32m      1\u001b[0m \u001b[0mcounts\u001b[0m \u001b[0;34m=\u001b[0m \u001b[0;34m[\u001b[0m\u001b[0;34m]\u001b[0m\u001b[0;34m\u001b[0m\u001b[0;34m\u001b[0m\u001b[0m\n\u001b[1;32m      2\u001b[0m \u001b[0;32mfor\u001b[0m \u001b[0mcat\u001b[0m\u001b[0;34m,\u001b[0m \u001b[0mthres\u001b[0m \u001b[0;32min\u001b[0m \u001b[0mcats\u001b[0m\u001b[0;34m.\u001b[0m\u001b[0mitems\u001b[0m\u001b[0;34m(\u001b[0m\u001b[0;34m)\u001b[0m\u001b[0;34m:\u001b[0m\u001b[0;34m\u001b[0m\u001b[0;34m\u001b[0m\u001b[0m\n\u001b[0;32m----> 3\u001b[0;31m   \u001b[0mcookies_list\u001b[0m \u001b[0;34m=\u001b[0m \u001b[0mget_cookies_from_cat\u001b[0m\u001b[0;34m(\u001b[0m\u001b[0mcat\u001b[0m\u001b[0;34m,\u001b[0m\u001b[0mthres\u001b[0m\u001b[0;34m)\u001b[0m\u001b[0;34m\u001b[0m\u001b[0;34m\u001b[0m\u001b[0m\n\u001b[0m\u001b[1;32m      4\u001b[0m   \u001b[0mcounts\u001b[0m\u001b[0;34m.\u001b[0m\u001b[0mappend\u001b[0m\u001b[0;34m(\u001b[0m\u001b[0mlen\u001b[0m\u001b[0;34m(\u001b[0m\u001b[0mcookies_list\u001b[0m\u001b[0;34m)\u001b[0m\u001b[0;34m)\u001b[0m\u001b[0;34m\u001b[0m\u001b[0;34m\u001b[0m\u001b[0m\n",
            "\u001b[0;32m<ipython-input-26-c532c051692c>\u001b[0m in \u001b[0;36mget_cookies_from_cat\u001b[0;34m(cat, thres)\u001b[0m\n\u001b[1;32m      8\u001b[0m   \u001b[0mphrase_list\u001b[0m \u001b[0;34m=\u001b[0m \u001b[0mpost_vals\u001b[0m\u001b[0;34m\u001b[0m\u001b[0;34m\u001b[0m\u001b[0m\n\u001b[1;32m      9\u001b[0m   \u001b[0mquery\u001b[0m \u001b[0;34m=\u001b[0m \u001b[0mcat\u001b[0m\u001b[0;34m\u001b[0m\u001b[0;34m\u001b[0m\u001b[0m\n\u001b[0;32m---> 10\u001b[0;31m   \u001b[0mmodel\u001b[0m \u001b[0;34m=\u001b[0m \u001b[0mSentenceTransformer\u001b[0m\u001b[0;34m(\u001b[0m\u001b[0;34m'whaleloops/phrase-bert'\u001b[0m\u001b[0;34m)\u001b[0m\u001b[0;34m\u001b[0m\u001b[0;34m\u001b[0m\u001b[0m\n\u001b[0m\u001b[1;32m     11\u001b[0m   \u001b[0mphrase_embs\u001b[0m \u001b[0;34m=\u001b[0m \u001b[0mmodel\u001b[0m\u001b[0;34m.\u001b[0m\u001b[0mencode\u001b[0m\u001b[0;34m(\u001b[0m \u001b[0;34m[\u001b[0m\u001b[0mquery\u001b[0m\u001b[0;34m]\u001b[0m \u001b[0;34m+\u001b[0m \u001b[0mphrase_list\u001b[0m \u001b[0;34m)\u001b[0m\u001b[0;34m\u001b[0m\u001b[0;34m\u001b[0m\u001b[0m\n\u001b[1;32m     12\u001b[0m   \u001b[0mquery_emb\u001b[0m \u001b[0;34m=\u001b[0m \u001b[0mphrase_embs\u001b[0m\u001b[0;34m[\u001b[0m\u001b[0;36m0\u001b[0m\u001b[0;34m]\u001b[0m\u001b[0;34m\u001b[0m\u001b[0;34m\u001b[0m\u001b[0m\n",
            "\u001b[0;32m/usr/local/lib/python3.7/dist-packages/sentence_transformers/SentenceTransformer.py\u001b[0m in \u001b[0;36m__init__\u001b[0;34m(self, model_name_or_path, modules, device, cache_folder, use_auth_token)\u001b[0m\n\u001b[1;32m     89\u001b[0m                                     \u001b[0mlibrary_version\u001b[0m\u001b[0;34m=\u001b[0m\u001b[0m__version__\u001b[0m\u001b[0;34m,\u001b[0m\u001b[0;34m\u001b[0m\u001b[0;34m\u001b[0m\u001b[0m\n\u001b[1;32m     90\u001b[0m                                     \u001b[0mignore_files\u001b[0m\u001b[0;34m=\u001b[0m\u001b[0;34m[\u001b[0m\u001b[0;34m'flax_model.msgpack'\u001b[0m\u001b[0;34m,\u001b[0m \u001b[0;34m'rust_model.ot'\u001b[0m\u001b[0;34m,\u001b[0m \u001b[0;34m'tf_model.h5'\u001b[0m\u001b[0;34m]\u001b[0m\u001b[0;34m,\u001b[0m\u001b[0;34m\u001b[0m\u001b[0;34m\u001b[0m\u001b[0m\n\u001b[0;32m---> 91\u001b[0;31m                                     use_auth_token=use_auth_token)\n\u001b[0m\u001b[1;32m     92\u001b[0m \u001b[0;34m\u001b[0m\u001b[0m\n\u001b[1;32m     93\u001b[0m             \u001b[0;32mif\u001b[0m \u001b[0mos\u001b[0m\u001b[0;34m.\u001b[0m\u001b[0mpath\u001b[0m\u001b[0;34m.\u001b[0m\u001b[0mexists\u001b[0m\u001b[0;34m(\u001b[0m\u001b[0mos\u001b[0m\u001b[0;34m.\u001b[0m\u001b[0mpath\u001b[0m\u001b[0;34m.\u001b[0m\u001b[0mjoin\u001b[0m\u001b[0;34m(\u001b[0m\u001b[0mmodel_path\u001b[0m\u001b[0;34m,\u001b[0m \u001b[0;34m'modules.json'\u001b[0m\u001b[0;34m)\u001b[0m\u001b[0;34m)\u001b[0m\u001b[0;34m:\u001b[0m    \u001b[0;31m#Load as SentenceTransformer model\u001b[0m\u001b[0;34m\u001b[0m\u001b[0;34m\u001b[0m\u001b[0m\n",
            "\u001b[0;32m/usr/local/lib/python3.7/dist-packages/sentence_transformers/util.py\u001b[0m in \u001b[0;36msnapshot_download\u001b[0;34m(repo_id, revision, cache_dir, library_name, library_version, user_agent, ignore_files, use_auth_token)\u001b[0m\n\u001b[1;32m    463\u001b[0m             \u001b[0mlibrary_version\u001b[0m\u001b[0;34m=\u001b[0m\u001b[0mlibrary_version\u001b[0m\u001b[0;34m,\u001b[0m\u001b[0;34m\u001b[0m\u001b[0;34m\u001b[0m\u001b[0m\n\u001b[1;32m    464\u001b[0m             \u001b[0muser_agent\u001b[0m\u001b[0;34m=\u001b[0m\u001b[0muser_agent\u001b[0m\u001b[0;34m,\u001b[0m\u001b[0;34m\u001b[0m\u001b[0;34m\u001b[0m\u001b[0m\n\u001b[0;32m--> 465\u001b[0;31m             \u001b[0muse_auth_token\u001b[0m\u001b[0;34m=\u001b[0m\u001b[0muse_auth_token\u001b[0m\u001b[0;34m,\u001b[0m\u001b[0;34m\u001b[0m\u001b[0;34m\u001b[0m\u001b[0m\n\u001b[0m\u001b[1;32m    466\u001b[0m         )\n\u001b[1;32m    467\u001b[0m \u001b[0;34m\u001b[0m\u001b[0m\n",
            "\u001b[0;32m/usr/local/lib/python3.7/dist-packages/huggingface_hub/file_download.py\u001b[0m in \u001b[0;36mcached_download\u001b[0;34m(url, library_name, library_version, cache_dir, user_agent, force_download, force_filename, proxies, etag_timeout, resume_download, use_auth_token, local_files_only)\u001b[0m\n\u001b[1;32m    470\u001b[0m                 \u001b[0mproxies\u001b[0m\u001b[0;34m=\u001b[0m\u001b[0mproxies\u001b[0m\u001b[0;34m,\u001b[0m\u001b[0;34m\u001b[0m\u001b[0;34m\u001b[0m\u001b[0m\n\u001b[1;32m    471\u001b[0m                 \u001b[0mresume_size\u001b[0m\u001b[0;34m=\u001b[0m\u001b[0mresume_size\u001b[0m\u001b[0;34m,\u001b[0m\u001b[0;34m\u001b[0m\u001b[0;34m\u001b[0m\u001b[0m\n\u001b[0;32m--> 472\u001b[0;31m                 \u001b[0mheaders\u001b[0m\u001b[0;34m=\u001b[0m\u001b[0mheaders\u001b[0m\u001b[0;34m,\u001b[0m\u001b[0;34m\u001b[0m\u001b[0;34m\u001b[0m\u001b[0m\n\u001b[0m\u001b[1;32m    473\u001b[0m             )\n\u001b[1;32m    474\u001b[0m \u001b[0;34m\u001b[0m\u001b[0m\n",
            "\u001b[0;32m/usr/local/lib/python3.7/dist-packages/huggingface_hub/file_download.py\u001b[0m in \u001b[0;36mhttp_get\u001b[0;34m(url, temp_file, proxies, resume_size, headers, timeout, max_retries)\u001b[0m\n\u001b[1;32m    286\u001b[0m         \u001b[0;32mif\u001b[0m \u001b[0mchunk\u001b[0m\u001b[0;34m:\u001b[0m  \u001b[0;31m# filter out keep-alive new chunks\u001b[0m\u001b[0;34m\u001b[0m\u001b[0;34m\u001b[0m\u001b[0m\n\u001b[1;32m    287\u001b[0m             \u001b[0mprogress\u001b[0m\u001b[0;34m.\u001b[0m\u001b[0mupdate\u001b[0m\u001b[0;34m(\u001b[0m\u001b[0mlen\u001b[0m\u001b[0;34m(\u001b[0m\u001b[0mchunk\u001b[0m\u001b[0;34m)\u001b[0m\u001b[0;34m)\u001b[0m\u001b[0;34m\u001b[0m\u001b[0;34m\u001b[0m\u001b[0m\n\u001b[0;32m--> 288\u001b[0;31m             \u001b[0mtemp_file\u001b[0m\u001b[0;34m.\u001b[0m\u001b[0mwrite\u001b[0m\u001b[0;34m(\u001b[0m\u001b[0mchunk\u001b[0m\u001b[0;34m)\u001b[0m\u001b[0;34m\u001b[0m\u001b[0;34m\u001b[0m\u001b[0m\n\u001b[0m\u001b[1;32m    289\u001b[0m     \u001b[0mprogress\u001b[0m\u001b[0;34m.\u001b[0m\u001b[0mclose\u001b[0m\u001b[0;34m(\u001b[0m\u001b[0;34m)\u001b[0m\u001b[0;34m\u001b[0m\u001b[0;34m\u001b[0m\u001b[0m\n\u001b[1;32m    290\u001b[0m \u001b[0;34m\u001b[0m\u001b[0m\n",
            "\u001b[0;32m/usr/lib/python3.7/tempfile.py\u001b[0m in \u001b[0;36mfunc_wrapper\u001b[0;34m(*args, **kwargs)\u001b[0m\n\u001b[1;32m    618\u001b[0m             \u001b[0;34m@\u001b[0m\u001b[0m_functools\u001b[0m\u001b[0;34m.\u001b[0m\u001b[0mwraps\u001b[0m\u001b[0;34m(\u001b[0m\u001b[0mfunc\u001b[0m\u001b[0;34m)\u001b[0m\u001b[0;34m\u001b[0m\u001b[0;34m\u001b[0m\u001b[0m\n\u001b[1;32m    619\u001b[0m             \u001b[0;32mdef\u001b[0m \u001b[0mfunc_wrapper\u001b[0m\u001b[0;34m(\u001b[0m\u001b[0;34m*\u001b[0m\u001b[0margs\u001b[0m\u001b[0;34m,\u001b[0m \u001b[0;34m**\u001b[0m\u001b[0mkwargs\u001b[0m\u001b[0;34m)\u001b[0m\u001b[0;34m:\u001b[0m\u001b[0;34m\u001b[0m\u001b[0;34m\u001b[0m\u001b[0m\n\u001b[0;32m--> 620\u001b[0;31m                 \u001b[0;32mreturn\u001b[0m \u001b[0mfunc\u001b[0m\u001b[0;34m(\u001b[0m\u001b[0;34m*\u001b[0m\u001b[0margs\u001b[0m\u001b[0;34m,\u001b[0m \u001b[0;34m**\u001b[0m\u001b[0mkwargs\u001b[0m\u001b[0;34m)\u001b[0m\u001b[0;34m\u001b[0m\u001b[0;34m\u001b[0m\u001b[0m\n\u001b[0m\u001b[1;32m    621\u001b[0m             \u001b[0;31m# Avoid closing the file as long as the wrapper is alive,\u001b[0m\u001b[0;34m\u001b[0m\u001b[0;34m\u001b[0m\u001b[0;34m\u001b[0m\u001b[0m\n\u001b[1;32m    622\u001b[0m             \u001b[0;31m# see issue #18879.\u001b[0m\u001b[0;34m\u001b[0m\u001b[0;34m\u001b[0m\u001b[0;34m\u001b[0m\u001b[0m\n",
            "\u001b[0;31mKeyboardInterrupt\u001b[0m: "
          ]
        }
      ]
    },
    {
      "cell_type": "code",
      "source": [
        "import matplotlib.pyplot as plt\n",
        "   \n",
        "\n",
        "plt.barh(headers[::-1],counts[::-1])\n",
        "plt.title('What do cookies mention in their bodies?')\n",
        "plt.xlabel('Number of cookies which mention category')\n",
        "plt.show()"
      ],
      "metadata": {
        "id": "DK-oeac_a-h2"
      },
      "execution_count": null,
      "outputs": []
    },
    {
      "cell_type": "code",
      "source": [
        ""
      ],
      "metadata": {
        "id": "Cby7SdJFa-k8"
      },
      "execution_count": null,
      "outputs": []
    },
    {
      "cell_type": "code",
      "source": [
        ""
      ],
      "metadata": {
        "id": "20YiYc45a-n1"
      },
      "execution_count": null,
      "outputs": []
    }
  ]
}