{
  "nbformat": 4,
  "nbformat_minor": 0,
  "metadata": {
    "colab": {
      "name": "Screenshot Analysis.ipynb",
      "provenance": []
    },
    "kernelspec": {
      "name": "python3",
      "display_name": "Python 3"
    },
    "language_info": {
      "name": "python"
    }
  },
  "cells": [
    {
      "cell_type": "code",
      "execution_count": 31,
      "metadata": {
        "id": "lmX3XnMQIVZL"
      },
      "outputs": [],
      "source": [
        "import json\n",
        "import pandas as pd\n",
        "\n",
        "data = json.load(open('screenshot_data.json', 'r'))"
      ]
    },
    {
      "cell_type": "code",
      "source": [
        "colour = [data[url]['colour'] for url in data]\n",
        "location = [data[url]['location'] for url in data]\n",
        "size = [data[url]['size'] for url in data]\n",
        "types = [data[url]['type'] for url in data]\n",
        "urls = [url for url in data]\n",
        "\n",
        "df = pd.DataFrame({'location': location, 'size': size, 'type': types, 'colour': colour}, index=urls)"
      ],
      "metadata": {
        "id": "Z83vXoXCI2qk"
      },
      "execution_count": 32,
      "outputs": []
    },
    {
      "cell_type": "code",
      "source": [
        "df.loc[df['size'] == 'na', 'location'] = 'na'\n",
        "df.loc[df['size'] == 'na', 'type'] = 'na'  # updating the rows that contain bad screenshots \n",
        "df.head()"
      ],
      "metadata": {
        "colab": {
          "base_uri": "https://localhost:8080/",
          "height": 206
        },
        "id": "SxgOrOXZl90f",
        "outputId": "7eb3b86b-e52e-4b20-e89e-46e5d4665dd3"
      },
      "execution_count": 33,
      "outputs": [
        {
          "output_type": "execute_result",
          "data": {
            "text/plain": [
              "                      location size                 type     colour\n",
              "https://bangor.ac.uk    bottom  15%             implicit       blue\n",
              "https://aston.ac.uk      right  30%   blocked rejectable      white\n",
              "https://bcu.ac.uk       bottom  10%             implicit       grey\n",
              "https://abdn.ac.uk      bottom  10%  explicit adjustable       grey\n",
              "https://abertay.ac.uk   bottom  10%             implicit  dark blue"
            ],
            "text/html": [
              "\n",
              "  <div id=\"df-642ca7c5-3f48-45bc-8a87-4f9c0c59eb9b\">\n",
              "    <div class=\"colab-df-container\">\n",
              "      <div>\n",
              "<style scoped>\n",
              "    .dataframe tbody tr th:only-of-type {\n",
              "        vertical-align: middle;\n",
              "    }\n",
              "\n",
              "    .dataframe tbody tr th {\n",
              "        vertical-align: top;\n",
              "    }\n",
              "\n",
              "    .dataframe thead th {\n",
              "        text-align: right;\n",
              "    }\n",
              "</style>\n",
              "<table border=\"1\" class=\"dataframe\">\n",
              "  <thead>\n",
              "    <tr style=\"text-align: right;\">\n",
              "      <th></th>\n",
              "      <th>location</th>\n",
              "      <th>size</th>\n",
              "      <th>type</th>\n",
              "      <th>colour</th>\n",
              "    </tr>\n",
              "  </thead>\n",
              "  <tbody>\n",
              "    <tr>\n",
              "      <th>https://bangor.ac.uk</th>\n",
              "      <td>bottom</td>\n",
              "      <td>15%</td>\n",
              "      <td>implicit</td>\n",
              "      <td>blue</td>\n",
              "    </tr>\n",
              "    <tr>\n",
              "      <th>https://aston.ac.uk</th>\n",
              "      <td>right</td>\n",
              "      <td>30%</td>\n",
              "      <td>blocked rejectable</td>\n",
              "      <td>white</td>\n",
              "    </tr>\n",
              "    <tr>\n",
              "      <th>https://bcu.ac.uk</th>\n",
              "      <td>bottom</td>\n",
              "      <td>10%</td>\n",
              "      <td>implicit</td>\n",
              "      <td>grey</td>\n",
              "    </tr>\n",
              "    <tr>\n",
              "      <th>https://abdn.ac.uk</th>\n",
              "      <td>bottom</td>\n",
              "      <td>10%</td>\n",
              "      <td>explicit adjustable</td>\n",
              "      <td>grey</td>\n",
              "    </tr>\n",
              "    <tr>\n",
              "      <th>https://abertay.ac.uk</th>\n",
              "      <td>bottom</td>\n",
              "      <td>10%</td>\n",
              "      <td>implicit</td>\n",
              "      <td>dark blue</td>\n",
              "    </tr>\n",
              "  </tbody>\n",
              "</table>\n",
              "</div>\n",
              "      <button class=\"colab-df-convert\" onclick=\"convertToInteractive('df-642ca7c5-3f48-45bc-8a87-4f9c0c59eb9b')\"\n",
              "              title=\"Convert this dataframe to an interactive table.\"\n",
              "              style=\"display:none;\">\n",
              "        \n",
              "  <svg xmlns=\"http://www.w3.org/2000/svg\" height=\"24px\"viewBox=\"0 0 24 24\"\n",
              "       width=\"24px\">\n",
              "    <path d=\"M0 0h24v24H0V0z\" fill=\"none\"/>\n",
              "    <path d=\"M18.56 5.44l.94 2.06.94-2.06 2.06-.94-2.06-.94-.94-2.06-.94 2.06-2.06.94zm-11 1L8.5 8.5l.94-2.06 2.06-.94-2.06-.94L8.5 2.5l-.94 2.06-2.06.94zm10 10l.94 2.06.94-2.06 2.06-.94-2.06-.94-.94-2.06-.94 2.06-2.06.94z\"/><path d=\"M17.41 7.96l-1.37-1.37c-.4-.4-.92-.59-1.43-.59-.52 0-1.04.2-1.43.59L10.3 9.45l-7.72 7.72c-.78.78-.78 2.05 0 2.83L4 21.41c.39.39.9.59 1.41.59.51 0 1.02-.2 1.41-.59l7.78-7.78 2.81-2.81c.8-.78.8-2.07 0-2.86zM5.41 20L4 18.59l7.72-7.72 1.47 1.35L5.41 20z\"/>\n",
              "  </svg>\n",
              "      </button>\n",
              "      \n",
              "  <style>\n",
              "    .colab-df-container {\n",
              "      display:flex;\n",
              "      flex-wrap:wrap;\n",
              "      gap: 12px;\n",
              "    }\n",
              "\n",
              "    .colab-df-convert {\n",
              "      background-color: #E8F0FE;\n",
              "      border: none;\n",
              "      border-radius: 50%;\n",
              "      cursor: pointer;\n",
              "      display: none;\n",
              "      fill: #1967D2;\n",
              "      height: 32px;\n",
              "      padding: 0 0 0 0;\n",
              "      width: 32px;\n",
              "    }\n",
              "\n",
              "    .colab-df-convert:hover {\n",
              "      background-color: #E2EBFA;\n",
              "      box-shadow: 0px 1px 2px rgba(60, 64, 67, 0.3), 0px 1px 3px 1px rgba(60, 64, 67, 0.15);\n",
              "      fill: #174EA6;\n",
              "    }\n",
              "\n",
              "    [theme=dark] .colab-df-convert {\n",
              "      background-color: #3B4455;\n",
              "      fill: #D2E3FC;\n",
              "    }\n",
              "\n",
              "    [theme=dark] .colab-df-convert:hover {\n",
              "      background-color: #434B5C;\n",
              "      box-shadow: 0px 1px 3px 1px rgba(0, 0, 0, 0.15);\n",
              "      filter: drop-shadow(0px 1px 2px rgba(0, 0, 0, 0.3));\n",
              "      fill: #FFFFFF;\n",
              "    }\n",
              "  </style>\n",
              "\n",
              "      <script>\n",
              "        const buttonEl =\n",
              "          document.querySelector('#df-642ca7c5-3f48-45bc-8a87-4f9c0c59eb9b button.colab-df-convert');\n",
              "        buttonEl.style.display =\n",
              "          google.colab.kernel.accessAllowed ? 'block' : 'none';\n",
              "\n",
              "        async function convertToInteractive(key) {\n",
              "          const element = document.querySelector('#df-642ca7c5-3f48-45bc-8a87-4f9c0c59eb9b');\n",
              "          const dataTable =\n",
              "            await google.colab.kernel.invokeFunction('convertToInteractive',\n",
              "                                                     [key], {});\n",
              "          if (!dataTable) return;\n",
              "\n",
              "          const docLinkHtml = 'Like what you see? Visit the ' +\n",
              "            '<a target=\"_blank\" href=https://colab.research.google.com/notebooks/data_table.ipynb>data table notebook</a>'\n",
              "            + ' to learn more about interactive tables.';\n",
              "          element.innerHTML = '';\n",
              "          dataTable['output_type'] = 'display_data';\n",
              "          await google.colab.output.renderOutput(dataTable, element);\n",
              "          const docLink = document.createElement('div');\n",
              "          docLink.innerHTML = docLinkHtml;\n",
              "          element.appendChild(docLink);\n",
              "        }\n",
              "      </script>\n",
              "    </div>\n",
              "  </div>\n",
              "  "
            ]
          },
          "metadata": {},
          "execution_count": 33
        }
      ]
    },
    {
      "cell_type": "code",
      "source": [
        "type_counts = df['type'].value_counts()\n",
        "\n",
        "from matplotlib import pyplot as plt\n",
        "%matplotlib inline\n",
        "\n",
        "plt.bar(type_counts.index, type_counts.values)\n",
        "plt.xticks(rotation=90)\n",
        "plt.title('Bar chart of banner types')\n",
        "plt.xlabel('Type of Banner')\n",
        "plt.ylabel('Number of Banners')\n",
        "\n",
        "type_counts"
      ],
      "metadata": {
        "colab": {
          "base_uri": "https://localhost:8080/",
          "height": 535
        },
        "id": "XCMh2Ee_KD1E",
        "outputId": "c205f8de-039e-44b2-8570-042a8053bc1d"
      },
      "execution_count": 50,
      "outputs": [
        {
          "output_type": "execute_result",
          "data": {
            "text/plain": [
              "implicit               28\n",
              "explicit               23\n",
              "explicit adjustable    19\n",
              "explicit rejectable     9\n",
              "blocked adjustable      8\n",
              "blocked rejectable      5\n",
              "na                      3\n",
              "blocked                 1\n",
              "Name: type, dtype: int64"
            ]
          },
          "metadata": {},
          "execution_count": 50
        },
        {
          "output_type": "display_data",
          "data": {
            "text/plain": [
              "<Figure size 432x288 with 1 Axes>"
            ],
            "image/png": "[encoded data removed]"
          },
          "metadata": {
            "needs_background": "light"
          }
        }
      ]
    },
    {
      "cell_type": "code",
      "source": [
        "location_counts = df['location'].value_counts()\n",
        "\n",
        "plt.bar(location_counts.index, location_counts.values)\n",
        "plt.xticks(rotation=90)\n",
        "plt.title('Bar chart of banner Location')\n",
        "plt.xlabel('Location of Banner')\n",
        "plt.ylabel('Number of Banners')\n",
        "\n",
        "location_counts"
      ],
      "metadata": {
        "colab": {
          "base_uri": "https://localhost:8080/",
          "height": 442
        },
        "id": "BROu1LoSKwBF",
        "outputId": "baee6a8a-96cc-4ff8-e34b-44e8a2e5f7c4"
      },
      "execution_count": 53,
      "outputs": [
        {
          "output_type": "execute_result",
          "data": {
            "text/plain": [
              "bottom    65\n",
              "top       14\n",
              "centre    11\n",
              "na         3\n",
              "right      2\n",
              "left       1\n",
              "Name: location, dtype: int64"
            ]
          },
          "metadata": {},
          "execution_count": 53
        },
        {
          "output_type": "display_data",
          "data": {
            "text/plain": [
              "<Figure size 432x288 with 1 Axes>"
            ],
            "image/png": "[encoded data removed]"
          },
          "metadata": {
            "needs_background": "light"
          }
        }
      ]
    },
    {
      "cell_type": "code",
      "source": [
        "size_counts = df['size'].value_counts()\n",
        "\n",
        "plt.bar(size_counts.index, size_counts.values)\n",
        "plt.xticks(rotation=90)\n",
        "plt.title('Bar chart of banner sizes')\n",
        "plt.xlabel('Size of Banner')\n",
        "plt.ylabel('Number of Banners')\n",
        "\n",
        "size_counts"
      ],
      "metadata": {
        "colab": {
          "base_uri": "https://localhost:8080/",
          "height": 571
        },
        "id": "Qf4v9VU8LD8B",
        "outputId": "1492c5dd-ba01-43cb-d72d-c50656c99588"
      },
      "execution_count": 52,
      "outputs": [
        {
          "output_type": "execute_result",
          "data": {
            "text/plain": [
              "15%     28\n",
              "10%     24\n",
              "8%      11\n",
              "5%       8\n",
              "30%      5\n",
              "50%      4\n",
              "20%      4\n",
              "na       3\n",
              "2.5%     2\n",
              "25%      2\n",
              "40%      2\n",
              "2%       1\n",
              "90%      1\n",
              "70%      1\n",
              "Name: size, dtype: int64"
            ]
          },
          "metadata": {},
          "execution_count": 52
        },
        {
          "output_type": "display_data",
          "data": {
            "text/plain": [
              "<Figure size 432x288 with 1 Axes>"
            ],
            "image/png": "[encoded data removed]"
          },
          "metadata": {
            "needs_background": "light"
          }
        }
      ]
    },
    {
      "cell_type": "code",
      "source": [
        "colour_counts = df['colour'].value_counts()\n",
        "\n",
        "plt.bar(colour_counts.index, colour_counts.values)\n",
        "plt.xticks(rotation=90)\n",
        "plt.title('Bar chart of banner colours')\n",
        "plt.xlabel('colour of Banner')\n",
        "plt.ylabel('Number of Banners')\n",
        "\n",
        "colour_counts"
      ],
      "metadata": {
        "colab": {
          "base_uri": "https://localhost:8080/",
          "height": 635
        },
        "id": "3kHoJ07kLHfw",
        "outputId": "4f63eafd-569f-48bb-a3b5-6b70be7efd3e"
      },
      "execution_count": 51,
      "outputs": [
        {
          "output_type": "execute_result",
          "data": {
            "text/plain": [
              "white          29\n",
              "black          18\n",
              "grey           14\n",
              "blue           11\n",
              "dark grey       4\n",
              "light grey      4\n",
              "na              3\n",
              "purple          3\n",
              "dark blue       2\n",
              "yellow          2\n",
              "lilac           1\n",
              "light blue      1\n",
              "red             1\n",
              "orange          1\n",
              "green           1\n",
              "bright blue     1\n",
              "Name: colour, dtype: int64"
            ]
          },
          "metadata": {},
          "execution_count": 51
        },
        {
          "output_type": "display_data",
          "data": {
            "text/plain": [
              "<Figure size 432x288 with 1 Axes>"
            ],
            "image/png": "[encoded data removed]"
          },
          "metadata": {
            "needs_background": "light"
          }
        }
      ]
    }
  ]
}